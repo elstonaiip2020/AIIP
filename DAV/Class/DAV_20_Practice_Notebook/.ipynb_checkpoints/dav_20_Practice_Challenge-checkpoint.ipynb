{
 "cells": [
  {
   "cell_type": "markdown",
   "metadata": {
    "colab_type": "text",
    "id": "R3EIaFJFVq6v"
   },
   "source": [
    "# <font color='maroon'>Practice Challenge</font>"
   ]
  },
  {
   "cell_type": "markdown",
   "metadata": {
    "colab_type": "text",
    "id": "HRUvbPMrVq62"
   },
   "source": [
    "For this notebook, you will be practicing the concepts we have covered in Hypothesis Testing in response to primarily the two prompts presented in the LMS:\n",
    "\n",
    "1. We have data on Bitcoin prices from August to September. Determine the standard deviation  . Use it to calculate the the   confidence interval. Discuss what confidence level you chose, and why? Use simple random sampling to sample from the data set to generate several confidence intervals. Plot these confidence intervals using an error bar plot. Discuss your observations and findings.\n",
    "2. When we have a small sample with standard deviation unknown, we can use a t-test to test our hypothesis about the population. We can estimate the standard deviation from the sample size. So, given that the average life of 6 batteries is 30 months with a standard deviation of 4 months, is a manufacturing exaggerating when he claims the average life of his batteries is 3 years? Use a significance level of 5% to test his claim. "
   ]
  },
  {
   "cell_type": "markdown",
   "metadata": {
    "colab_type": "text",
    "id": "VCuUa43KVq66"
   },
   "source": [
    "### Question 1\n",
    "\n",
    "Load the data on Bitcoin prices from August to September."
   ]
  },
  {
   "cell_type": "code",
   "execution_count": 0,
   "metadata": {
    "colab": {},
    "colab_type": "code",
    "id": "Orx23yvqVq6_"
   },
   "outputs": [],
   "source": [
    "# load your libraries\n",
    "import matplotlib.pyplot as plt\n",
    "import pandas as pd\n",
    "import seaborn as sns\n",
    "import random as rnd\n",
    "import scipy.stats as stats\n",
    "import numpy as np\n",
    "from math import sqrt"
   ]
  },
  {
   "cell_type": "code",
   "execution_count": 0,
   "metadata": {
    "colab": {},
    "colab_type": "code",
    "id": "0cFY1M3WVq7S"
   },
   "outputs": [],
   "source": [
    "%matplotlib inline"
   ]
  },
  {
   "cell_type": "code",
   "execution_count": 0,
   "metadata": {
    "colab": {},
    "colab_type": "code",
    "id": "vXSD-xROVq7h"
   },
   "outputs": [],
   "source": [
    "df = pd.read_csv('coindesk-bpi-USD-close_data-2017-08-23_2017-11-23.csv', sep=',', index_col='Date')"
   ]
  },
  {
   "cell_type": "markdown",
   "metadata": {
    "colab_type": "text",
    "id": "1LoBGeapVq7u"
   },
   "source": [
    "#### Question 1.1\n",
    "Study the dataset. Are there missing values? Do something about the missing values. What types are the variables in the columns?"
   ]
  },
  {
   "cell_type": "code",
   "execution_count": 0,
   "metadata": {
    "colab": {},
    "colab_type": "code",
    "id": "NkvIbZZhVq7z"
   },
   "outputs": [],
   "source": []
  },
  {
   "cell_type": "markdown",
   "metadata": {
    "colab_type": "text",
    "id": "6L6BOCNcVq7_"
   },
   "source": [
    "#### Question 1.2\n",
    "Produce a line graph of the data on Bitcoin."
   ]
  },
  {
   "cell_type": "code",
   "execution_count": 0,
   "metadata": {
    "colab": {},
    "colab_type": "code",
    "id": "LhbtOklgVq8D"
   },
   "outputs": [],
   "source": [
    "# your answer"
   ]
  },
  {
   "cell_type": "markdown",
   "metadata": {
    "colab_type": "text",
    "id": "X4LbbZgZVq8R"
   },
   "source": [
    "#### Question 1.3\n",
    "\n",
    "Sample from the dataset using simple random sampling. Calculate the mean and standard deviation of each sample. Use it to calculate 95% confidence intervals."
   ]
  },
  {
   "cell_type": "code",
   "execution_count": 0,
   "metadata": {
    "colab": {},
    "colab_type": "code",
    "id": "3twm5q-lVq8W"
   },
   "outputs": [],
   "source": []
  },
  {
   "cell_type": "markdown",
   "metadata": {
    "colab_type": "text",
    "id": "t-Tj9p6fVq8m"
   },
   "source": [
    "#### Question 1.3\n",
    "Plot these confidence intervals using an error bar plot. Discuss the results your observe."
   ]
  },
  {
   "cell_type": "code",
   "execution_count": 0,
   "metadata": {
    "colab": {},
    "colab_type": "code",
    "id": "knyU4yNDVq8p"
   },
   "outputs": [],
   "source": []
  },
  {
   "cell_type": "markdown",
   "metadata": {
    "colab_type": "text",
    "collapsed": true,
    "id": "AZwooaaNVq8-"
   },
   "source": [
    "### Question 2\n",
    "\n",
    "When we know the sample size is small and the variance is unknown we can use a t-test to test our hypothesis about the test-statistic. We can estimate the standard deviation from the sample size and proceed to test our hypothesis. The average life of 6 car batteries is 30 months with a standard deviation of 4 months. The manufacturer claims an average life of 3 years for his batteries. We suspect that he is exaggerating. Use a 5% significance level to test his claim.\n",
    "\n",
    "Question courtesy of [The Average Car Battery Life: When Is It Time for a Change?](http://knowhow.napaonline.com/average-car-battery-life-time-change/)."
   ]
  },
  {
   "cell_type": "code",
   "execution_count": 0,
   "metadata": {
    "colab": {},
    "colab_type": "code",
    "id": "DtVwFqm-Vq9F"
   },
   "outputs": [],
   "source": []
  },
  {
   "cell_type": "code",
   "execution_count": 0,
   "metadata": {
    "colab": {},
    "colab_type": "code",
    "id": "oh_Bf5xhVq9R"
   },
   "outputs": [],
   "source": [
    "### Question 3"
   ]
  }
 ],
 "metadata": {
  "colab": {
   "name": "dav_20_Practice_Challenge.ipynb",
   "provenance": [],
   "version": "0.3.2"
  },
  "kernelspec": {
   "display_name": "Python 3",
   "language": "python",
   "name": "python3"
  },
  "language_info": {
   "codemirror_mode": {
    "name": "ipython",
    "version": 3
   },
   "file_extension": ".py",
   "mimetype": "text/x-python",
   "name": "python",
   "nbconvert_exporter": "python",
   "pygments_lexer": "ipython3",
   "version": "3.7.1"
  }
 },
 "nbformat": 4,
 "nbformat_minor": 1
}
