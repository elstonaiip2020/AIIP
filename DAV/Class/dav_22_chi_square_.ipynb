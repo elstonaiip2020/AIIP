{
 "cells": [
  {
   "cell_type": "markdown",
   "metadata": {},
   "source": [
    "# Chi-Squared test of independence\n",
    "\n",
    "Following from our earlier example, is the way a business collects marketing data independent of the responses to the marketing strategies to target customers? We can use a chi-squared test to test for independence. We use data from [THE INFLUENCE OF MARKETING INTELLIGENCE ON PERFORMANCES OF ROMANIAN RETAILERS](http://conferinta.management.ase.ro/archives/2014/pdf/32.pdf). Romanian retailers want to promote a new eco-label product. They consider how to promote the new eco-label using three marketing strategies -- strategic, tactical and operational strategies. Are these strategies independent of the way marketing information was collected for each of the strategies?\n",
    "\n",
    "### The data\n",
    "The data comes from the [paper](http://conferinta.management.ase.ro/archives/2014/pdf/32.pdf). There are three different marketing strategies, namely strategic, tactical and operational. There are three sources of marketing intelligence, namely the retail sector, promotion events and information from competitors. "
   ]
  },
  {
   "cell_type": "code",
   "execution_count": null,
   "metadata": {
    "collapsed": true
   },
   "outputs": [],
   "source": [
    "import pandas as pd\n",
    "import scipy.stats as stats"
   ]
  },
  {
   "cell_type": "code",
   "execution_count": null,
   "metadata": {
    "collapsed": true
   },
   "outputs": [],
   "source": [
    "%matplotlib inline"
   ]
  },
  {
   "cell_type": "code",
   "execution_count": null,
   "metadata": {},
   "outputs": [],
   "source": [
    "raw_data = {'intelligence': ['retail', 'retail', 'retail', 'promotion', 'promotion', 'promotion', 'competitors', 'competitors', 'competitors'], \n",
    "        'strategy': ['strategic', 'tactical', 'operational', 'strategic', 'tactical', 'operational', 'strategic', 'tactical', 'operational'], \n",
    "        'scores':[13,9,17,8,12,15,3,7,6]}\n",
    "data = pd.DataFrame(raw_data, columns = ['intelligence', 'strategy', 'scores'])\n",
    "data"
   ]
  },
  {
   "cell_type": "markdown",
   "metadata": {},
   "source": [
    "Create a pivot table of the entries. The pivot table is contingency table we can apply the chi-squared test."
   ]
  },
  {
   "cell_type": "code",
   "execution_count": null,
   "metadata": {
    "collapsed": true
   },
   "outputs": [],
   "source": [
    "observed = data.pivot(index='intelligence', columns='strategy')"
   ]
  },
  {
   "cell_type": "code",
   "execution_count": null,
   "metadata": {
    "collapsed": true
   },
   "outputs": [],
   "source": [
    "observed"
   ]
  },
  {
   "cell_type": "markdown",
   "metadata": {
    "collapsed": true
   },
   "source": [
    "### The hypothesis\n",
    "\n",
    "We state the null and alternative hypothesis as follows:\n",
    "\n",
    "$H_0:$ the marketing strategy is independent of the source of marketing intelligence.\n",
    "\n",
    "$H_1:$ the marketing strategy is not independent of the source of marketing intelligence.\n",
    "\n",
    "We use a 5% significance level to test the null hypothesis."
   ]
  },
  {
   "cell_type": "code",
   "execution_count": null,
   "metadata": {
    "collapsed": true
   },
   "outputs": [],
   "source": [
    "t, p, l, a = stats.chi2_contingency(observed=observed)\n",
    "print('Test statistic', t)\n",
    "print('p-value', p)"
   ]
  },
  {
   "cell_type": "markdown",
   "metadata": {},
   "source": [
    "### The results\n",
    "\n",
    "A p value of 0.5468 indicates strong support for the null hypothesis. There is strong support to indicate that the marketing strategy is independent of the source of marketing intelligence. "
   ]
  },
  {
   "cell_type": "markdown",
   "metadata": {},
   "source": [
    "### Exercise\n",
    "\n",
    "Now that you have seen a chi-square test for independence applied to the marketing strategy example, let's try another example to see how well you understood the concepts. For this exercise, we present you with two candidates who stood for election. Shown are the number of people who voted for them by age-group. Answer the questions that follow to apply chi-square test for independence yourself.\n",
    "<table class=\"MsoTable15Plain3\" style=\"border-collapse: collapse; mso-yfti-tbllook: 1184; mso-padding-alt: 0cm 5.4pt 0cm 5.4pt;\" border=\"0\" cellspacing=\"0\" cellpadding=\"0\">\n",
    "<tbody>\n",
    "<tr style=\"mso-yfti-irow: -1; mso-yfti-firstrow: yes; mso-yfti-lastfirstrow: yes;\">\n",
    "<td style=\"width: 150.15pt; border: none; border-bottom: solid #7F7F7F 1.0pt; mso-border-bottom-themecolor: text1; mso-border-bottom-themetint: 128; mso-border-bottom-alt: solid #7F7F7F .5pt; padding: 0cm 5.4pt 0cm 5.4pt;\" width=\"150\" valign=\"top\">\n",
    "<p class=\"MsoNormal\" style=\"mso-yfti-cnfc: 517;\"><b><span style=\"text-transform: uppercase;\">&nbsp;</span></b></p>\n",
    "</td>\n",
    "<td style=\"width: 150.15pt; border: none; border-bottom: solid #7F7F7F 1.0pt; mso-border-bottom-themecolor: text1; mso-border-bottom-themetint: 128; mso-border-bottom-alt: solid #7F7F7F .5pt; padding: 0cm 5.4pt 0cm 5.4pt;\" width=\"150\" valign=\"top\">\n",
    "<p class=\"MsoNormal\" style=\"mso-yfti-cnfc: 1;\"><b><span style=\"text-transform: uppercase;\">candidate A</span></b></p>\n",
    "</td>\n",
    "<td style=\"width: 150.2pt; border: none; border-bottom: solid #7F7F7F 1.0pt; mso-border-bottom-themecolor: text1; mso-border-bottom-themetint: 128; mso-border-bottom-alt: solid #7F7F7F .5pt; padding: 0cm 5.4pt 0cm 5.4pt;\" width=\"150\" valign=\"top\">\n",
    "<p class=\"MsoNormal\" style=\"mso-yfti-cnfc: 1;\"><b><span style=\"text-transform: uppercase;\">candidate B</span></b></p>\n",
    "</td>\n",
    "</tr>\n",
    "<tr style=\"mso-yfti-irow: 0;\">\n",
    "<td style=\"width: 150.15pt; border: none; border-right: solid #7F7F7F 1.0pt; mso-border-right-themecolor: text1; mso-border-right-themetint: 128; mso-border-right-alt: solid #7F7F7F .5pt; background: #F2F2F2; mso-background-themecolor: background1; mso-background-themeshade: 242; padding: 0cm 5.4pt 0cm 5.4pt;\" width=\"150\" valign=\"top\">\n",
    "<p class=\"MsoNormal\" style=\"mso-yfti-cnfc: 68;\"><b><span style=\"text-transform: uppercase;\">18-25</span></b></p>\n",
    "</td>\n",
    "<td style=\"width: 150.15pt; background: #F2F2F2; mso-background-themecolor: background1; mso-background-themeshade: 242; padding: 0cm 5.4pt 0cm 5.4pt;\" width=\"150\" valign=\"top\">\n",
    "<p class=\"MsoNormal\" style=\"mso-yfti-cnfc: 64;\">2670</p>\n",
    "</td>\n",
    "<td style=\"width: 150.2pt; background: #F2F2F2; mso-background-themecolor: background1; mso-background-themeshade: 242; padding: 0cm 5.4pt 0cm 5.4pt;\" width=\"150\" valign=\"top\">\n",
    "<p class=\"MsoNormal\" style=\"mso-yfti-cnfc: 64;\">1560</p>\n",
    "</td>\n",
    "</tr>\n",
    "<tr style=\"mso-yfti-irow: 1; mso-yfti-lastrow: yes;\">\n",
    "<td style=\"width: 150.15pt; border: none; border-right: solid #7F7F7F 1.0pt; mso-border-right-themecolor: text1; mso-border-right-themetint: 128; mso-border-right-alt: solid #7F7F7F .5pt; padding: 0cm 5.4pt 0cm 5.4pt;\" width=\"150\" valign=\"top\">\n",
    "<p class=\"MsoNormal\" style=\"mso-yfti-cnfc: 4;\"><b><span style=\"text-transform: uppercase;\">25-40</span></b></p>\n",
    "</td>\n",
    "<td style=\"width: 150.15pt; padding: 0cm 5.4pt 0cm 5.4pt;\" width=\"150\" valign=\"top\">\n",
    "<p class=\"MsoNormal\">13578</p>\n",
    "</td>\n",
    "<td style=\"width: 150.2pt; padding: 0cm 5.4pt 0cm 5.4pt;\" width=\"150\" valign=\"top\">\n",
    "<p class=\"MsoNormal\">4121</p>\n",
    "</td>\n",
    "</tr>\n",
    "<tr style=\"mso-yfti-irow: 1; mso-yfti-lastrow: yes;\">\n",
    "<td style=\"width: 150.15pt; border: none; border-right: solid #7F7F7F 1.0pt; mso-border-right-themecolor: text1; mso-border-right-themetint: 128; mso-border-right-alt: solid #7F7F7F .5pt; padding: 0cm 5.4pt 0cm 5.4pt;\" width=\"150\" valign=\"top\">\n",
    "<p class=\"MsoNormal\" style=\"mso-yfti-cnfc: 4;\"><b><span style=\"text-transform: uppercase;\">40-60</span></b></p>\n",
    "</td>\n",
    "<td style=\"width: 150.15pt; padding: 0cm 5.4pt 0cm 5.4pt;\" width=\"150\" valign=\"top\">\n",
    "<p class=\"MsoNormal\">13578</p>\n",
    "</td>\n",
    "<td style=\"width: 150.2pt; padding: 0cm 5.4pt 0cm 5.4pt;\" width=\"150\" valign=\"top\">\n",
    "<p class=\"MsoNormal\">4121</p>\n",
    "</td>\n",
    "</tr>\n",
    "<tr style=\"mso-yfti-irow: 1; mso-yfti-lastrow: yes;\">\n",
    "<td style=\"width: 150.15pt; border: none; border-right: solid #7F7F7F 1.0pt; mso-border-right-themecolor: text1; mso-border-right-themetint: 128; mso-border-right-alt: solid #7F7F7F .5pt; padding: 0cm 5.4pt 0cm 5.4pt;\" width=\"150\" valign=\"top\">\n",
    "<p class=\"MsoNormal\" style=\"mso-yfti-cnfc: 4;\"><b><span style=\"text-transform: uppercase;\">over 60<br /></span></b></p>\n",
    "</td>\n",
    "<td style=\"width: 150.15pt; padding: 0cm 5.4pt 0cm 5.4pt;\" width=\"150\" valign=\"top\">\n",
    "<p class=\"MsoNormal\">13578</p>\n",
    "</td>\n",
    "<td style=\"width: 150.2pt; padding: 0cm 5.4pt 0cm 5.4pt;\" width=\"150\" valign=\"top\">\n",
    "<p class=\"MsoNormal\">4121</p>\n",
    "</td>\n",
    "</tr>\n",
    "</tbody>\n",
    "</table>\n",
    "\n",
    "#### Question 1\n",
    "Determine whether the two categorical variables are independent or whether there is an association."
   ]
  },
  {
   "cell_type": "markdown",
   "metadata": {},
   "source": [
    "#### Question 1.1 \n",
    "State the null and alternative hypothesis"
   ]
  },
  {
   "cell_type": "code",
   "execution_count": null,
   "metadata": {
    "collapsed": true
   },
   "outputs": [],
   "source": [
    "# your answer"
   ]
  },
  {
   "cell_type": "markdown",
   "metadata": {},
   "source": [
    "#### Qeustion 1.2\n",
    "Conduct the hypothesis test and interpret your results."
   ]
  },
  {
   "cell_type": "code",
   "execution_count": null,
   "metadata": {
    "collapsed": true
   },
   "outputs": [],
   "source": [
    "# your answer"
   ]
  },
  {
   "cell_type": "markdown",
   "metadata": {},
   "source": [
    "Now that you have completed this exercise, what are some applications in your work in which this test would be useful. Discuss below."
   ]
  },
  {
   "cell_type": "code",
   "execution_count": null,
   "metadata": {
    "collapsed": true
   },
   "outputs": [],
   "source": []
  }
 ],
 "metadata": {
  "kernelspec": {
   "display_name": "Python 3",
   "language": "python",
   "name": "python3"
  },
  "language_info": {
   "codemirror_mode": {
    "name": "ipython",
    "version": 3
   },
   "file_extension": ".py",
   "mimetype": "text/x-python",
   "name": "python",
   "nbconvert_exporter": "python",
   "pygments_lexer": "ipython3",
   "version": "3.5.2"
  }
 },
 "nbformat": 4,
 "nbformat_minor": 2
}
