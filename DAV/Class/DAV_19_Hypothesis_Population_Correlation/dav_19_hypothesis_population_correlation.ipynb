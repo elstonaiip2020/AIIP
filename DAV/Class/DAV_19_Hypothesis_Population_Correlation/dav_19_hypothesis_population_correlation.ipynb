{
 "cells": [
  {
   "cell_type": "markdown",
   "metadata": {},
   "source": [
    "# <font color='maroon'>Hypothesis testing for population correlation</font>"
   ]
  },
  {
   "cell_type": "markdown",
   "metadata": {},
   "source": [
    "We suspect that a linear relationship exists between the `Weight` and `BMI` of WNBA players in our data. Does this relationship extend to the population? We would like to draw a conclusion from this sample about the population. In this lesson we study how to set up hypothesis test for the population correlation coefficient, usually denoted $\\rho$."
   ]
  },
  {
   "cell_type": "markdown",
   "metadata": {},
   "source": [
    "So far, we were able to measure the strength of a relationship between two variables with the sample coefficient of correlation $r$. We also learned the following:\n",
    "\n",
    "$$ -1 \\leq r \\leq +1.$$\n",
    "\n",
    "When $r  = 0$, no correlation exists between the variables.\n",
    "\n",
    "When $r > 0$, there is a positive correlation.\n",
    "\n",
    "When $r < 0$, a negative correlation exists.\n",
    "\n",
    "If we use the data to make predictions, $r$ should be close to $+1$ or $-1$.  How close to +1 or -1 must $r$ be to show statistically significant correlation? We need to set up a hypothesis test for the population coefficient correlation $\\rho$. We use the sample correlation coefficient $r$ to estimate the true population correlation coefficient. \n",
    "\n",
    "So is there a linear relationship between the  `Weight` and `BMI` in our data. We set up the test such that the null hypothesis states there is no correlation between the two variables, $$H_0: \\rho = 0$$ against the alternative that $$H_1: \\rho \\neq 0.$$ The alternative hypothesis is a two-sided hypothesis because we are looking at positive and negative correlations, and we are dealing with $n-2$ degrees of freedom. "
   ]
  },
  {
   "cell_type": "markdown",
   "metadata": {},
   "source": [
    "### Example\n",
    "\n",
    "Let's look at a hypothetical example. Let's generate some data with two variables $x$ and $y$. And plot it. And determine its correlation coefficient."
   ]
  },
  {
   "cell_type": "code",
   "execution_count": 1,
   "metadata": {},
   "outputs": [],
   "source": [
    "import numpy as np\n",
    "import pandas as pd\n",
    "import scipy.stats as stats"
   ]
  },
  {
   "cell_type": "code",
   "execution_count": 2,
   "metadata": {},
   "outputs": [],
   "source": [
    "%matplotlib inline"
   ]
  },
  {
   "cell_type": "code",
   "execution_count": 3,
   "metadata": {},
   "outputs": [],
   "source": [
    "x = np.linspace(-5,5,100) # generate 20 data points between -5 and 5\n",
    "noise = np.random.normal(size=x.shape) # generate some random noise\n",
    "y = 3*x + noise # add the noise to the linear relation between x and y\n",
    "data = pd.DataFrame({'x': x, 'y':y})"
   ]
  },
  {
   "cell_type": "markdown",
   "metadata": {},
   "source": [
    "There is a linear relationship between $x$ and $y$, which is clear from the equation we've chosen for $y$. But to see this, we plot a scatter plot. "
   ]
  },
  {
   "cell_type": "code",
   "execution_count": 4,
   "metadata": {},
   "outputs": [
    {
     "data": {
      "text/plain": [
       "<matplotlib.axes._subplots.AxesSubplot at 0x1e9a2a29940>"
      ]
     },
     "execution_count": 4,
     "metadata": {},
     "output_type": "execute_result"
    },
    {
     "data": {
      "image/png": "[encoded data removed]",
      "text/plain": [
       "<Figure size 720x360 with 1 Axes>"
      ]
     },
     "metadata": {
      "needs_background": "light"
     },
     "output_type": "display_data"
    }
   ],
   "source": [
    "data.plot(kind='scatter', x='x', y='y', figsize=(10,5))"
   ]
  },
  {
   "cell_type": "markdown",
   "metadata": {},
   "source": [
    "We observe linearity in the data. \n",
    "\n",
    "We can calculate the sample coefficient and conduct a two-sided hypothesis test.\n",
    "\n",
    "The null hypothesis $H_0: \\rho = 0$.\n",
    "\n",
    "The alternative hypothesis is $H_1: \\rho \\neq 0$.\n",
    "\n",
    "We use a significance level of 5% for our test. \n",
    "\n",
    "We can calculate the sample coefficient $r$ and p-value for testing non-correlation using a Pearson correlation test."
   ]
  },
  {
   "cell_type": "code",
   "execution_count": 5,
   "metadata": {},
   "outputs": [],
   "source": [
    "r, p = stats.pearsonr(x,y)"
   ]
  },
  {
   "cell_type": "markdown",
   "metadata": {},
   "source": [
    "The `pearsonr()` returns the test statistic and a 2-tailed p-value. "
   ]
  },
  {
   "cell_type": "code",
   "execution_count": 6,
   "metadata": {},
   "outputs": [
    {
     "data": {
      "text/plain": [
       "(0.9937760008429163, 3.172668259615613e-95)"
      ]
     },
     "execution_count": 6,
     "metadata": {},
     "output_type": "execute_result"
    }
   ],
   "source": [
    "r, p"
   ]
  },
  {
   "cell_type": "markdown",
   "metadata": {},
   "source": [
    "We obtain the a test statistic r = 0.9924 and a p-value of 4.538348064411579e-91. We have a very small p-value, which means we can reject the null hypothesis. We have significant statistical evidence at the 5% significance level to conclude that there is a linear relationship between $x$ and $y$. The positive correlation coefficient of 0.9924 suggests that as $x$ increases, $y$ increases as well. This is not surprising as we saw from the visualization of the data."
   ]
  },
  {
   "cell_type": "markdown",
   "metadata": {},
   "source": [
    "### Exercise"
   ]
  },
  {
   "cell_type": "markdown",
   "metadata": {
    "collapsed": true
   },
   "source": [
    "Given the dataset with `Weight` and `Metabolic rate`, is the population correlation zero? Set up a hypothesis and test it. Discuss your results. \n",
    "\n"
   ]
  },
  {
   "cell_type": "code",
   "execution_count": null,
   "metadata": {
    "collapsed": true
   },
   "outputs": [],
   "source": [
    "# your answer"
   ]
  },
  {
   "cell_type": "code",
   "execution_count": null,
   "metadata": {
    "collapsed": true
   },
   "outputs": [],
   "source": []
  }
 ],
 "metadata": {
  "kernelspec": {
   "display_name": "Python 3",
   "language": "python",
   "name": "python3"
  },
  "language_info": {
   "codemirror_mode": {
    "name": "ipython",
    "version": 3
   },
   "file_extension": ".py",
   "mimetype": "text/x-python",
   "name": "python",
   "nbconvert_exporter": "python",
   "pygments_lexer": "ipython3",
   "version": "3.7.1"
  }
 },
 "nbformat": 4,
 "nbformat_minor": 2
}
