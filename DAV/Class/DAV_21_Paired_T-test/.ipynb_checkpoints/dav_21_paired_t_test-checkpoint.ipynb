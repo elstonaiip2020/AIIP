{
 "cells": [
  {
   "cell_type": "markdown",
   "metadata": {},
   "source": [
    "# Paired Sample T-test"
   ]
  },
  {
   "cell_type": "markdown",
   "metadata": {},
   "source": [
    "Researchers conducted a random trial on the treatment of [fibromyalgia](http://www.nejm.org/doi/pdf/10.1056/NEJMoa0912611). Fibromyalgia is a condition where the body suffers from chronic, localized pain and as a result affects a sufferer's psyche among many other symptoms. There is no cure for fibromyalgia except to manage the pain. We obtained a dataset that has 50 observations and 11 variables. The variables are sex, BMI, duration of treatement, age, treatment,\tcoexists i.e. other health issues, FIQ_baseline, FIQ_12W, and FIQ_24W scores. Treatment is measured using the severity of the symptoms immediately before the treatment was started (FIQ-baseline) and after 12 weeks of treatment (FIQ-12W) and 24 weeks of treatment (FIQ-24W). Let us look to see if the tai chi treatment relieves pain after 12 weeks. That is, we want to determine if there is a difference in pain severity given the tai chi treatment. "
   ]
  },
  {
   "cell_type": "code",
   "execution_count": null,
   "metadata": {
    "collapsed": true
   },
   "outputs": [],
   "source": [
    "import pandas as pd\n",
    "import numpy as np\n",
    "import seaborn as sns\n",
    "import matplotlib.pyplot as plt\n",
    "import scipy.stats as stats"
   ]
  },
  {
   "cell_type": "code",
   "execution_count": null,
   "metadata": {
    "collapsed": true
   },
   "outputs": [],
   "source": [
    "%matplotlib inline"
   ]
  },
  {
   "cell_type": "code",
   "execution_count": null,
   "metadata": {
    "collapsed": true
   },
   "outputs": [],
   "source": [
    "data = pd.read_csv('taiChiData.csv', sep=',')"
   ]
  },
  {
   "cell_type": "code",
   "execution_count": null,
   "metadata": {},
   "outputs": [],
   "source": [
    "data"
   ]
  },
  {
   "cell_type": "markdown",
   "metadata": {},
   "source": [
    "We can split our observations into two groups according to the `treatment`, namely a control group and a tai chi group. But first clean the data a bit by removing null values and duplicates."
   ]
  },
  {
   "cell_type": "code",
   "execution_count": null,
   "metadata": {
    "collapsed": true
   },
   "outputs": [],
   "source": [
    "# enter code to drop rows with missing values \n",
    "data.drop_duplicates(inplace=True)  # drop duplicates"
   ]
  },
  {
   "cell_type": "code",
   "execution_count": null,
   "metadata": {
    "collapsed": true
   },
   "outputs": [],
   "source": [
    "treatment = data.groupby(['treatment'])"
   ]
  },
  {
   "cell_type": "markdown",
   "metadata": {},
   "source": [
    "See this discussion for more on how to use the [groupby function](https://www.datacamp.com/community/tutorials/pandas-split-apply-combine-groupby)."
   ]
  },
  {
   "cell_type": "code",
   "execution_count": null,
   "metadata": {},
   "outputs": [],
   "source": [
    "type(treatment)"
   ]
  },
  {
   "cell_type": "markdown",
   "metadata": {},
   "source": [
    "We cast the `pandas.core.groupby.DataFrameGroupBy` object to a list and extract the treatment groups from it and place them in new dataframes."
   ]
  },
  {
   "cell_type": "code",
   "execution_count": null,
   "metadata": {
    "collapsed": true
   },
   "outputs": [],
   "source": [
    "taichi  = list(treatment)[1][1]"
   ]
  },
  {
   "cell_type": "code",
   "execution_count": null,
   "metadata": {},
   "outputs": [],
   "source": [
    "print(type(taichi), len(taichi))"
   ]
  },
  {
   "cell_type": "markdown",
   "metadata": {},
   "source": [
    "### Visualizing the differences in treatment"
   ]
  },
  {
   "cell_type": "markdown",
   "metadata": {},
   "source": [
    "Let's add the difference between the baseline scores and twelve weeks after treatment to the dataframe."
   ]
  },
  {
   "cell_type": "code",
   "execution_count": null,
   "metadata": {
    "collapsed": true
   },
   "outputs": [],
   "source": [
    "taichi['diff'] = taichi['FIQ_baseline'] - taichi['FIQ_12W']"
   ]
  },
  {
   "cell_type": "code",
   "execution_count": null,
   "metadata": {
    "collapsed": true
   },
   "outputs": [],
   "source": [
    "taichi"
   ]
  },
  {
   "cell_type": "code",
   "execution_count": null,
   "metadata": {},
   "outputs": [],
   "source": [
    "sns.boxplot(data=taichi.loc[:,['FIQ_baseline','FIQ_12W']])"
   ]
  },
  {
   "cell_type": "markdown",
   "metadata": {},
   "source": [
    "The box plots show the decrease in pain severity after the 12 week treatment."
   ]
  },
  {
   "cell_type": "code",
   "execution_count": null,
   "metadata": {},
   "outputs": [],
   "source": [
    "print(abs(taichi['FIQ_baseline'].mean() - taichi['FIQ_12W'].mean()))"
   ]
  },
  {
   "cell_type": "markdown",
   "metadata": {},
   "source": [
    "On average, there is a difference in the pain severity before and after treatment of 10.23. Is this difference significant? "
   ]
  },
  {
   "cell_type": "markdown",
   "metadata": {},
   "source": [
    "### Formulate the hypothesis\n",
    "\n",
    "We can now state our hypothesis. We are interested in whether there is no difference between the the severity of pain symptoms before the start of the tai chi treatment and after 12 weeks of the tai chi treatment. We state the null hypothesis as: \n",
    "\n",
    "$H_0$: $\\mu_d = 0$ , i.e., the mean difference is zero.\n",
    "\n",
    "$H_1$: $\\mu_d \\neq 0$, a two-tail test. There is a difference attributed to the tai chi treatment.\n"
   ]
  },
  {
   "cell_type": "code",
   "execution_count": null,
   "metadata": {},
   "outputs": [],
   "source": [
    "stats.ttest_rel(taichi['FIQ_baseline'], \n",
    "                taichi['FIQ_12W'])"
   ]
  },
  {
   "cell_type": "markdown",
   "metadata": {},
   "source": [
    "### Interpreting results"
   ]
  },
  {
   "cell_type": "markdown",
   "metadata": {},
   "source": [
    "We obtain a $p \\approx 0.000011$, which is less than the significance level $\\alpha = 0.05.$ A low p-value indicates decreased support for the null hypothesis. We reject the null hypothesis. This means that the average pain score before treatment is significantly different from the average pain score after treatment with tai chi. However, we cannot rule out the possibility that the result we observed is a rare one."
   ]
  },
  {
   "cell_type": "markdown",
   "metadata": {},
   "source": [
    "### Exercise\n",
    "\n",
    "Use the same steps as above to determine if there is a difference in the control treatment.  "
   ]
  },
  {
   "cell_type": "code",
   "execution_count": null,
   "metadata": {
    "collapsed": true
   },
   "outputs": [],
   "source": []
  }
 ],
 "metadata": {
  "kernelspec": {
   "display_name": "Python 3",
   "language": "python",
   "name": "python3"
  },
  "language_info": {
   "codemirror_mode": {
    "name": "ipython",
    "version": 3
   },
   "file_extension": ".py",
   "mimetype": "text/x-python",
   "name": "python",
   "nbconvert_exporter": "python",
   "pygments_lexer": "ipython3",
   "version": "3.7.1"
  }
 },
 "nbformat": 4,
 "nbformat_minor": 2
}
