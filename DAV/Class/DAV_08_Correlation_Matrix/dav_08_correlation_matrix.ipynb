{
 "cells": [
  {
   "cell_type": "markdown",
   "metadata": {},
   "source": [
    "# <font color='maroon'>Correlation matrix</font>"
   ]
  },
  {
   "cell_type": "markdown",
   "metadata": {},
   "source": [
    "A correlation matrix contains $n$ number of rows and $n$ number of columns. Each variable in the dataset is represented in the rows and in the columns. The matrix entries correlation measures of the variable along the row and the variable along the column. The diagonal entries equal one. A variable is highly positively correlated with itself. The matrix will show the measure of correlation between the variables.\n"
   ]
  },
  {
   "cell_type": "markdown",
   "metadata": {},
   "source": [
    "### The dataset"
   ]
  },
  {
   "cell_type": "markdown",
   "metadata": {},
   "source": [
    "The dataset we'll use comes from the [Australian government website](https://data.gov.au/dataset/credit-unions-selected-assets-and-liabilities). It contains information on selected assets and liabilities figures submitted by credit unions referred to as authorised deposit-taking institutions, ADIs. The description of the variables in the dataset are provided as follows:\n",
    "\n",
    "* ‘Cash and liquid assets’ is composed of ‘Cash’, ‘Balances with ADIs’ and ‘Other’. None of these items include bills of exchange, bills receivable, remittances in transit or certificates of deposit.\n",
    "\n",
    "* ‘Cash’ includes Australian and foreign currency notes and coins, gold coin, gold bullion, and gold certificates held as  investments. It excludes loans repayable in gold bullion.\n",
    "\n",
    "* ‘Balances with ADIs’ includes deposits at call with Australian resident banks and other ADIs and settlement account balances due from banks and other ADIs, incorporating receivables for unsettled sales of securities.\n",
    "\n",
    "* ‘Other’ includes deposits at call with Registered Financial Corporations (RFCs) and other financial institutions, net claims on recognised clearing houses in Australia, securities purchased under agreements to resell, funds held with the Reserve Bank and other central banks, and settlement account balances due from the Reserve Bank, other central banks, RFCs and other financial institutions, incorporating receivables for unsettled sales of securities.\n",
    "\n",
    "* ‘Government securities’, ‘ADI securities’, ‘Corporate paper’ and ‘Other securities’ include both trading and investment securities. Trading securities are recorded at net fair value. Investment securities are recorded at cost and adjusted for the amortisation of any premiums and discounts on purchase over the period of maturity.\n",
    "\n",
    "* ‘Government securities’ include securities issued by the Australian, State, Territory and local governments and State and Territory central borrowing authority (CBA) securities.\n",
    "\n",
    "* ‘ADI securities’ includes securities issued by banks and other ADIs, but not equity investments in parent, controlled or associated entities.\n",
    "\n",
    "* ‘Other securities’ includes asset-backed securities, other debt securities and equity securities, other than those issued by ADIs, but not equity investments in parent, controlled or associated entities.\n",
    "\n",
    "* ‘Residential’ includes both owner-occupied and investment housing loans to Australian households, net of specific provisions for doubtful debts.\n",
    "\n",
    "* ‘Personal’ includes revolving credit for a purpose other than housing, credit card liabilities, lease financing net of unearned revenue, and other personal term loans to Australian households net of specific provisions for doubtful debts.\n",
    "\n",
    "* ‘Commercial’ includes loans to public non-financial corporations, private trading corporations, private unincorporated businesses, community service organisations, Australian, State, Territory and local governments, ADIs and other financial institutions, net of specific provisions for doubtful debts. Loans to ADIs and other financial institutions includes loans to the Reserve Bank and other central banks, banks, other ADIs, RFCs, central borrowing authorities, fund managers, stockbrokers, insurance brokers, securitisers, mortgage, fixed interest and equity unit trusts and other financial intermediaries.\n",
    "\n",
    "Selected Liabilities:\n",
    "\n",
    "* ‘Borrowings from ADIs’ includes settlement account balances due to ADIs and both variable and fixed interest rate short-term loans from ADIs. A loan is reported as short-term if its residual term to maturity is one year or less.\n",
    "\n",
    "* ‘Deposits’ includes retail transaction call deposit accounts held by households, all other transaction call deposit accounts held by entities other than households, deposits from resident banks, resident non-bank financial institutions and intermediaries such as merchant banks, vostro balances from banks and non-bank financial institutions (NBFIs), the Australian-dollar equivalent of foreign currency deposits, deposits from controlled and associated entities, retail non-transaction call deposit accounts held by households, all other non-transaction deposit call accounts held by entities other than households, term deposits, certificates of deposit and other forms of deposits.\n",
    "\n",
    "* ‘Other’ liabilities includes settlement account balances due to RFCs and other financial institutions, securities sold under agreements to repurchase, promissory notes or commercial paper with a residual term to maturity of one year or less, other debt securities with a residual term of one year or less, variable interest rate short-term loans from counterparties other than ADIs, fixed interest rate short-term loans from counterparties other than ADIs, debt securities with a residual term to maturity of more than one year, variable and fixed interest rate loans and borrowings from Australian residents with a residual term to maturity of more than one year, interest accrued but not yet paid, interest received but not yet earned, unrealised losses on trading derivatives, items in suspense and other liabilities not separately identified above. A loan is reported as short-term if its residual term to maturity is one year or less. ‘Other’ liabilities do not include amounts due to clearing houses.\n",
    "\n",
    "Let's study the correlation between these variables."
   ]
  },
  {
   "cell_type": "code",
   "execution_count": null,
   "metadata": {
    "collapsed": true
   },
   "outputs": [],
   "source": [
    "import numpy as np\n",
    "import pandas as pd\n",
    "from matplotlib import pyplot\n",
    "import seaborn as sns\n",
    "import scipy.stats as stats"
   ]
  },
  {
   "cell_type": "code",
   "execution_count": null,
   "metadata": {
    "collapsed": true
   },
   "outputs": [],
   "source": [
    "%matplotlib inline"
   ]
  },
  {
   "cell_type": "markdown",
   "metadata": {},
   "source": [
    "### The data\n",
    "The data consists of information on selected assets and liabilities for credit unions in Australia. We suspect that purchasing a house is highly correlated with securing a loan from a credit institution. But how strong is the relationship between these two variables? And between these variables and other variables connected to a credit union?"
   ]
  },
  {
   "cell_type": "code",
   "execution_count": null,
   "metadata": {
    "collapsed": false
   },
   "outputs": [],
   "source": [
    "data = pd.read_csv('assets.csv', sep=',')"
   ]
  },
  {
   "cell_type": "code",
   "execution_count": null,
   "metadata": {
    "collapsed": false
   },
   "outputs": [],
   "source": [
    "data.columns"
   ]
  },
  {
   "cell_type": "code",
   "execution_count": null,
   "metadata": {
    "collapsed": false
   },
   "outputs": [],
   "source": [
    "data.head()"
   ]
  },
  {
   "cell_type": "markdown",
   "metadata": {},
   "source": [
    "## Visualizing the correlation matrix"
   ]
  },
  {
   "cell_type": "markdown",
   "metadata": {},
   "source": [
    "We can use visualize a correlation matrix using many functions. One way is to use the pandas function corr(). Another is to use the Seaborn package, which uses a heatmap to indicate the strength of the relationship between variables. We use it for its lovely visuals.\n",
    "\n"
   ]
  },
  {
   "cell_type": "markdown",
   "metadata": {},
   "source": [
    "Simply printing out a correlation matrix using the `corr()` on the dataframe results in the table below."
   ]
  },
  {
   "cell_type": "code",
   "execution_count": null,
   "metadata": {
    "collapsed": false
   },
   "outputs": [],
   "source": [
    "data.corr()"
   ]
  },
  {
   "cell_type": "markdown",
   "metadata": {},
   "source": [
    "The basic Seaborn function for plotting a heatmap of the correlation matrix is `sns.heatmap()`. Similar to other functions, additional arguments can be passed. We see the lovely visual heatmap generated below for the same table previously generated."
   ]
  },
  {
   "cell_type": "code",
   "execution_count": null,
   "metadata": {
    "collapsed": false
   },
   "outputs": [],
   "source": [
    "corr = data.corr()\n",
    "pyplot.figure(figsize=(16, 10))\n",
    "sns.heatmap(corr, xticklabels=corr.columns.values, \n",
    "            yticklabels=corr.columns.values,  \n",
    "            linewidths=.08,                   # set linewidth between entries in matrix\n",
    "           cbar_kws={\"shrink\": .7})           # set length of legend on right\n"
   ]
  },
  {
   "cell_type": "markdown",
   "metadata": {},
   "source": [
    "## Interpreting the results\n",
    "\n",
    "The first column shows the dependent variable. As we go row by row, we see how the independent variable is correlated with the dependent variable. The legend on the right indicates the correlation coefficients. The measures are colour-coded. For example, how is the dependent variable `Residental loans` correlated with the independent variable `Other liabilities`? These variables are positively correlated. Let's plot a scatter diagram and calculate the Pearson correlation coefficient for these variables."
   ]
  },
  {
   "cell_type": "code",
   "execution_count": null,
   "metadata": {
    "collapsed": true
   },
   "outputs": [],
   "source": [
    "sns.regplot(data['Other liabilities'], data['Residential loans'])\n",
    "print(stats.pearsonr(data['Other liabilities'], data['Residential loans']))"
   ]
  },
  {
   "cell_type": "markdown",
   "metadata": {},
   "source": [
    "Scatter plots are useful for spotting linear relationships between the variables. The scatterplot indicates a positive linear relationship between `Residential loans` and `Other liabilities`. We observe a Pearson correlation coefficient $r=0.915$, a strong positive correlation. In machine learning, reducing the number of variables in your dataset (a technique referred to as dimension reduction) prevents one from using too many variables to fit a model. Removing highly correlated variables from a dataset reduces the dimension of your dataset.\n",
    "\n",
    "See [Overfitting and Underfitting With Machine Learning Algorithms](https://machinelearningmastery.com/overfitting-and-underfitting-with-machine-learning-algorithms/) for a discussion on overfitting in machine learning."
   ]
  },
  {
   "cell_type": "markdown",
   "metadata": {},
   "source": [
    "### Exercise\n",
    "\n",
    "Find other highly correlated variables in the dataset. Plot their scatterplot diagrams to what kind of relationship the variables share."
   ]
  },
  {
   "cell_type": "code",
   "execution_count": null,
   "metadata": {
    "collapsed": true
   },
   "outputs": [],
   "source": [
    "# your answer"
   ]
  },
  {
   "cell_type": "markdown",
   "metadata": {
    "collapsed": true
   },
   "source": [
    "### References\n",
    "\n",
    "[Pairing the Unknown – Liability Correlations and Asset Allocation](https://www.neamgroup.com/insights/pairing-the-unknown-liability-correlations-and-asset-allocation)."
   ]
  },
  {
   "cell_type": "code",
   "execution_count": null,
   "metadata": {
    "collapsed": true
   },
   "outputs": [],
   "source": []
  }
 ],
 "metadata": {
  "kernelspec": {
   "display_name": "Python 2",
   "language": "python",
   "name": "python2"
  },
  "language_info": {
   "codemirror_mode": {
    "name": "ipython",
    "version": 2
   },
   "file_extension": ".py",
   "mimetype": "text/x-python",
   "name": "python",
   "nbconvert_exporter": "python",
   "pygments_lexer": "ipython2",
   "version": "2.7.13"
  }
 },
 "nbformat": 4,
 "nbformat_minor": 2
}
