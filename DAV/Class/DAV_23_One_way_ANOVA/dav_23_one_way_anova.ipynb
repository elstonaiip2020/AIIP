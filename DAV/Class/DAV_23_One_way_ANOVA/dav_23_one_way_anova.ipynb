{
 "cells": [
  {
   "cell_type": "markdown",
   "metadata": {},
   "source": [
    "# One-way ANOVA"
   ]
  },
  {
   "cell_type": "markdown",
   "metadata": {},
   "source": [
    "We use one-way analysis of variance (ANOVA) to test whether there are statistically significant differences between the means of independent groups. In this tutorial we will carry out a one-way ANOVA test for a small dataset.\n"
   ]
  },
  {
   "cell_type": "code",
   "execution_count": 1,
   "metadata": {},
   "outputs": [],
   "source": [
    "import numpy as np\n",
    "import pandas as pd\n",
    "import seaborn as sns\n",
    "import matplotlib.pyplot as plt\n",
    "import scipy.stats as stats"
   ]
  },
  {
   "cell_type": "code",
   "execution_count": 2,
   "metadata": {},
   "outputs": [],
   "source": [
    "%matplotlib inline"
   ]
  },
  {
   "cell_type": "markdown",
   "metadata": {},
   "source": [
    "### The data\n",
    "We are going to use a hypothetical example to illustrate how to conduct a one-way ANOVA test. The example comes from [Comparing Three or More Means (One-Way Anaylsis of Variance)](http://www.napavalley.edu/people/cburditt/Documents/Math%20232%20-%20Statistics/Sullivan%20ANOVA.pdf). \"A stock analyst wondered whether the mean rate of return of financial, energy, and utility stocks differed over the past 5 years. He obtained a simple random sample of eight companies from each of the three sectors and obtained the 5-year rates of return shown in\n",
    "the following table (in percent):\""
   ]
  },
  {
   "cell_type": "code",
   "execution_count": 3,
   "metadata": {},
   "outputs": [],
   "source": [
    "data = pd.read_csv('returns.csv', sep=',')"
   ]
  },
  {
   "cell_type": "code",
   "execution_count": 4,
   "metadata": {},
   "outputs": [
    {
     "data": {
      "text/html": [
       "<div>\n",
       "<style scoped>\n",
       "    .dataframe tbody tr th:only-of-type {\n",
       "        vertical-align: middle;\n",
       "    }\n",
       "\n",
       "    .dataframe tbody tr th {\n",
       "        vertical-align: top;\n",
       "    }\n",
       "\n",
       "    .dataframe thead th {\n",
       "        text-align: right;\n",
       "    }\n",
       "</style>\n",
       "<table border=\"1\" class=\"dataframe\">\n",
       "  <thead>\n",
       "    <tr style=\"text-align: right;\">\n",
       "      <th></th>\n",
       "      <th>Financial</th>\n",
       "      <th>Energy</th>\n",
       "      <th>Utilities</th>\n",
       "    </tr>\n",
       "  </thead>\n",
       "  <tbody>\n",
       "    <tr>\n",
       "      <th>0</th>\n",
       "      <td>10.76</td>\n",
       "      <td>12.72</td>\n",
       "      <td>11.88</td>\n",
       "    </tr>\n",
       "    <tr>\n",
       "      <th>1</th>\n",
       "      <td>15.05</td>\n",
       "      <td>13.91</td>\n",
       "      <td>5.86</td>\n",
       "    </tr>\n",
       "    <tr>\n",
       "      <th>2</th>\n",
       "      <td>17.01</td>\n",
       "      <td>6.43</td>\n",
       "      <td>13.46</td>\n",
       "    </tr>\n",
       "    <tr>\n",
       "      <th>3</th>\n",
       "      <td>5.07</td>\n",
       "      <td>11.19</td>\n",
       "      <td>9.90</td>\n",
       "    </tr>\n",
       "    <tr>\n",
       "      <th>4</th>\n",
       "      <td>19.50</td>\n",
       "      <td>18.79</td>\n",
       "      <td>3.95</td>\n",
       "    </tr>\n",
       "    <tr>\n",
       "      <th>5</th>\n",
       "      <td>8.16</td>\n",
       "      <td>20.73</td>\n",
       "      <td>3.44</td>\n",
       "    </tr>\n",
       "    <tr>\n",
       "      <th>6</th>\n",
       "      <td>10.38</td>\n",
       "      <td>9.60</td>\n",
       "      <td>7.11</td>\n",
       "    </tr>\n",
       "    <tr>\n",
       "      <th>7</th>\n",
       "      <td>6.75</td>\n",
       "      <td>17.40</td>\n",
       "      <td>15.70</td>\n",
       "    </tr>\n",
       "  </tbody>\n",
       "</table>\n",
       "</div>"
      ],
      "text/plain": [
       "   Financial  Energy  Utilities\n",
       "0      10.76   12.72      11.88\n",
       "1      15.05   13.91       5.86\n",
       "2      17.01    6.43      13.46\n",
       "3       5.07   11.19       9.90\n",
       "4      19.50   18.79       3.95\n",
       "5       8.16   20.73       3.44\n",
       "6      10.38    9.60       7.11\n",
       "7       6.75   17.40      15.70"
      ]
     },
     "execution_count": 4,
     "metadata": {},
     "output_type": "execute_result"
    }
   ],
   "source": [
    "data"
   ]
  },
  {
   "cell_type": "markdown",
   "metadata": {},
   "source": [
    "### Explore the data\n",
    "\n",
    "In order to perform the one-way ANOVA test, the groups of observations must be independent. For this example, let's take it that since the analyst used a simple random sampling method, his data is independent.\n",
    "\n",
    "Now, let's generate descriptive statistics of the data to explore the data further."
   ]
  },
  {
   "cell_type": "code",
   "execution_count": 5,
   "metadata": {},
   "outputs": [
    {
     "data": {
      "text/html": [
       "<div>\n",
       "<style scoped>\n",
       "    .dataframe tbody tr th:only-of-type {\n",
       "        vertical-align: middle;\n",
       "    }\n",
       "\n",
       "    .dataframe tbody tr th {\n",
       "        vertical-align: top;\n",
       "    }\n",
       "\n",
       "    .dataframe thead th {\n",
       "        text-align: right;\n",
       "    }\n",
       "</style>\n",
       "<table border=\"1\" class=\"dataframe\">\n",
       "  <thead>\n",
       "    <tr style=\"text-align: right;\">\n",
       "      <th></th>\n",
       "      <th>Financial</th>\n",
       "      <th>Energy</th>\n",
       "      <th>Utilities</th>\n",
       "    </tr>\n",
       "  </thead>\n",
       "  <tbody>\n",
       "    <tr>\n",
       "      <th>count</th>\n",
       "      <td>8.000000</td>\n",
       "      <td>8.000000</td>\n",
       "      <td>8.000000</td>\n",
       "    </tr>\n",
       "    <tr>\n",
       "      <th>mean</th>\n",
       "      <td>11.585000</td>\n",
       "      <td>13.846250</td>\n",
       "      <td>8.912500</td>\n",
       "    </tr>\n",
       "    <tr>\n",
       "      <th>std</th>\n",
       "      <td>5.123751</td>\n",
       "      <td>4.867023</td>\n",
       "      <td>4.530414</td>\n",
       "    </tr>\n",
       "    <tr>\n",
       "      <th>min</th>\n",
       "      <td>5.070000</td>\n",
       "      <td>6.430000</td>\n",
       "      <td>3.440000</td>\n",
       "    </tr>\n",
       "    <tr>\n",
       "      <th>25%</th>\n",
       "      <td>7.807500</td>\n",
       "      <td>10.792500</td>\n",
       "      <td>5.382500</td>\n",
       "    </tr>\n",
       "    <tr>\n",
       "      <th>50%</th>\n",
       "      <td>10.570000</td>\n",
       "      <td>13.315000</td>\n",
       "      <td>8.505000</td>\n",
       "    </tr>\n",
       "    <tr>\n",
       "      <th>75%</th>\n",
       "      <td>15.540000</td>\n",
       "      <td>17.747500</td>\n",
       "      <td>12.275000</td>\n",
       "    </tr>\n",
       "    <tr>\n",
       "      <th>max</th>\n",
       "      <td>19.500000</td>\n",
       "      <td>20.730000</td>\n",
       "      <td>15.700000</td>\n",
       "    </tr>\n",
       "  </tbody>\n",
       "</table>\n",
       "</div>"
      ],
      "text/plain": [
       "       Financial     Energy  Utilities\n",
       "count   8.000000   8.000000   8.000000\n",
       "mean   11.585000  13.846250   8.912500\n",
       "std     5.123751   4.867023   4.530414\n",
       "min     5.070000   6.430000   3.440000\n",
       "25%     7.807500  10.792500   5.382500\n",
       "50%    10.570000  13.315000   8.505000\n",
       "75%    15.540000  17.747500  12.275000\n",
       "max    19.500000  20.730000  15.700000"
      ]
     },
     "execution_count": 5,
     "metadata": {},
     "output_type": "execute_result"
    }
   ],
   "source": [
    "data.describe()"
   ]
  },
  {
   "cell_type": "markdown",
   "metadata": {},
   "source": [
    "As you can see, the three stock groups have differing means. However, considering the standard deviations, there is some overlap. We want to establish whether these means are actually equal or not. Enter the one-way ANOVA below."
   ]
  },
  {
   "cell_type": "markdown",
   "metadata": {},
   "source": [
    "### The hypothesis\n",
    "\n",
    "We state the null and alternative hypotheses as follows:\n",
    "\n",
    "$H_0:$ the means of the different groups are equal\n",
    "\n",
    "$H_1:$ the means are different.\n",
    "\n",
    "We use a significance level of 0.05.\n",
    "\n"
   ]
  },
  {
   "cell_type": "markdown",
   "metadata": {},
   "source": [
    "### Visualize the means"
   ]
  },
  {
   "cell_type": "code",
   "execution_count": 6,
   "metadata": {},
   "outputs": [
    {
     "data": {
      "text/plain": [
       "[Text(0, 0.5, '')]"
      ]
     },
     "execution_count": 6,
     "metadata": {},
     "output_type": "execute_result"
    },
    {
     "data": {
      "image/png": "[encoded data removed]",
      "text/plain": [
       "<Figure size 648x576 with 1 Axes>"
      ]
     },
     "metadata": {
      "needs_background": "light"
     },
     "output_type": "display_data"
    }
   ],
   "source": [
    "f, ax = plt.subplots(figsize=(9, 8))\n",
    "sns.boxplot(data=data)\n",
    "ax.xaxis.grid(True) # tweak the visual presentation\n",
    "ax.set(ylabel=\"\")"
   ]
  },
  {
   "cell_type": "code",
   "execution_count": 7,
   "metadata": {},
   "outputs": [
    {
     "name": "stdout",
     "output_type": "stream",
     "text": [
      "5.123751415850361 4.867022960701952 4.530413888377088\n"
     ]
    }
   ],
   "source": [
    "print(data['Financial'].std(), data['Energy'].std(), data['Utilities'].std())"
   ]
  },
  {
   "cell_type": "markdown",
   "metadata": {},
   "source": [
    "Energy stock returns seem better than the other two returns as the mean stock return is greater. The standard deviations are similar so stock returns within each group are equally spread out."
   ]
  },
  {
   "cell_type": "markdown",
   "metadata": {},
   "source": [
    "### The test\n",
    "\n",
    "We perform the one-way ANOVA test using the `f_oneway()` function in `scipy.stats`."
   ]
  },
  {
   "cell_type": "code",
   "execution_count": 8,
   "metadata": {},
   "outputs": [
    {
     "data": {
      "text/plain": [
       "F_onewayResult(statistic=2.0774678927362995, pvalue=0.15023075784476628)"
      ]
     },
     "execution_count": 8,
     "metadata": {},
     "output_type": "execute_result"
    }
   ],
   "source": [
    "stats.f_oneway(data['Financial'], data['Energy'], data['Utilities'])"
   ]
  },
  {
   "cell_type": "markdown",
   "metadata": {},
   "source": [
    "We obtain a p value of 0.1, which is greater than the 0.05 significance level. This value indicates evidence in support of the null hypothesis, that the mean values of the different groups are equal."
   ]
  },
  {
   "cell_type": "markdown",
   "metadata": {},
   "source": [
    "### Post-hoc tests\n",
    "\n",
    "A significant p-value indicates there is some difference between group means but it does not indicate which pairs of groups are different. We perform multiple pairwise comparison to determine which group means differ significantly. In practice, there are a few tests to choose from to do this further comparison, each with its own assumptions and limitations. For us, we will use the Tukey HSD (Honest Significant Differences) to performn multiple pairwise comparison between group means. See the references section at the end of this notebook for more on multiple comparisons. \n",
    "\n",
    "Unfortunately our test results do not indicate a significant different between the means of the three groups. However, if necessary,the Tukey HSD test function is available from the following library:"
   ]
  },
  {
   "cell_type": "code",
   "execution_count": 9,
   "metadata": {},
   "outputs": [],
   "source": [
    "from statsmodels.stats.multicomp import pairwise_tukeyhsd"
   ]
  },
  {
   "cell_type": "markdown",
   "metadata": {},
   "source": [
    "### Reporting on ANOVA\n",
    "\n",
    "A one-way ANOVA was conducted to compare the three stock return options. There was no significant difference between the mean returns of the three stock options (F=2.0774, p = 0.15). No post hoc comparisons were carried out."
   ]
  },
  {
   "cell_type": "code",
   "execution_count": null,
   "metadata": {
    "collapsed": true
   },
   "outputs": [],
   "source": []
  },
  {
   "cell_type": "markdown",
   "metadata": {},
   "source": [
    "### Exercise\n",
    "\n",
    "#### Question 1\n",
    "Load the following dataset into a Pandas dataframe: `stcp-Rdataset-Diet.csv`. Investigate the data. Generate summary statistics.\n",
    "\n",
    "#### Question 2\n",
    "You need to compare three diets. Generate visualizations to visualize the mean. Discuss the results.\n",
    "\n",
    "#### Question 3 \n",
    "Formulate an hypothesis about the diet groups in the dataset. Test your hypothesis."
   ]
  },
  {
   "cell_type": "code",
   "execution_count": null,
   "metadata": {
    "collapsed": true
   },
   "outputs": [],
   "source": [
    "#response to question 1"
   ]
  },
  {
   "cell_type": "code",
   "execution_count": null,
   "metadata": {
    "collapsed": true
   },
   "outputs": [],
   "source": [
    "#response to question 2"
   ]
  },
  {
   "cell_type": "code",
   "execution_count": null,
   "metadata": {
    "collapsed": true
   },
   "outputs": [],
   "source": [
    "#response to question 3"
   ]
  },
  {
   "cell_type": "markdown",
   "metadata": {},
   "source": [
    "## References\n"
   ]
  },
  {
   "cell_type": "markdown",
   "metadata": {},
   "source": [
    "For more on multiple comparisons, you can refer to the resource linked below which also provides a comparison of other methods available apart from Tukey and when to use them.\n",
    "\n",
    "[Using Multiple Comparisons](https://support.minitab.com/en-us/minitab/18/help-and-how-to/modeling-statistics/anova/supporting-topics/multiple-comparisons/using-multiple-comparisons-to-assess-differences-in-means/)\n"
   ]
  }
 ],
 "metadata": {
  "kernelspec": {
   "display_name": "Python 3",
   "language": "python",
   "name": "python3"
  },
  "language_info": {
   "codemirror_mode": {
    "name": "ipython",
    "version": 3
   },
   "file_extension": ".py",
   "mimetype": "text/x-python",
   "name": "python",
   "nbconvert_exporter": "python",
   "pygments_lexer": "ipython3",
   "version": "3.7.1"
  }
 },
 "nbformat": 4,
 "nbformat_minor": 2
}
