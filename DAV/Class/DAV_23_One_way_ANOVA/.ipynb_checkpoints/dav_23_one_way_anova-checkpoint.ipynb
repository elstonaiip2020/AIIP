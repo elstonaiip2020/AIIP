{
 "cells": [
  {
   "cell_type": "markdown",
   "metadata": {},
   "source": [
    "# One-way ANOVA"
   ]
  },
  {
   "cell_type": "markdown",
   "metadata": {},
   "source": [
    "We use one-way analysis of variance (ANOVA) to test whether there are statistically significant differences between the means of independent groups. In this tutorial we will carry out a one-way ANOVA test for a small dataset.\n"
   ]
  },
  {
   "cell_type": "code",
   "execution_count": null,
   "metadata": {},
   "outputs": [],
   "source": [
    "import numpy as np\n",
    "import pandas as pd\n",
    "import seaborn as sns\n",
    "import matplotlib.pyplot as plt\n",
    "import scipy.stats as stats"
   ]
  },
  {
   "cell_type": "code",
   "execution_count": null,
   "metadata": {},
   "outputs": [],
   "source": [
    "%matplotlib inline"
   ]
  },
  {
   "cell_type": "markdown",
   "metadata": {},
   "source": [
    "### The data\n",
    "We are going to use a hypothetical example to illustrate how to conduct a one-way ANOVA test. The example comes from [Comparing Three or More Means (One-Way Anaylsis of Variance)](http://www.napavalley.edu/people/cburditt/Documents/Math%20232%20-%20Statistics/Sullivan%20ANOVA.pdf). \"A stock analyst wondered whether the mean rate of return of financial, energy, and utility stocks differed over the past 5 years. He obtained a simple random sample of eight companies from each of the three sectors and obtained the 5-year rates of return shown in\n",
    "the following table (in percent):\""
   ]
  },
  {
   "cell_type": "code",
   "execution_count": null,
   "metadata": {},
   "outputs": [],
   "source": [
    "data = pd.read_csv('returns.csv', sep=',')"
   ]
  },
  {
   "cell_type": "code",
   "execution_count": null,
   "metadata": {},
   "outputs": [],
   "source": [
    "data"
   ]
  },
  {
   "cell_type": "markdown",
   "metadata": {},
   "source": [
    "### Explore the data\n",
    "\n",
    "In order to perform the one-way ANOVA test, the groups of observations must be independent. For this example, let's take it that since the analyst used a simple random sampling method, his data is independent.\n",
    "\n",
    "Now, let's generate descriptive statistics of the data to explore the data further."
   ]
  },
  {
   "cell_type": "code",
   "execution_count": null,
   "metadata": {},
   "outputs": [],
   "source": [
    "data.describe()"
   ]
  },
  {
   "cell_type": "markdown",
   "metadata": {},
   "source": [
    "As you can see, the three stock groups have differing means. However, considering the standard deviations, there is some overlap. We want to establish whether these means are actually equal or not. Enter the one-way ANOVA below."
   ]
  },
  {
   "cell_type": "markdown",
   "metadata": {},
   "source": [
    "### The hypothesis\n",
    "\n",
    "We state the null and alternative hypotheses as follows:\n",
    "\n",
    "$H_0:$ the means of the different groups are equal\n",
    "\n",
    "$H_1:$ the means are different.\n",
    "\n",
    "We use a significance level of 0.05.\n",
    "\n"
   ]
  },
  {
   "cell_type": "markdown",
   "metadata": {},
   "source": [
    "### Visualize the means"
   ]
  },
  {
   "cell_type": "code",
   "execution_count": null,
   "metadata": {},
   "outputs": [],
   "source": [
    "f, ax = plt.subplots(figsize=(9, 8))\n",
    "sns.boxplot(data=data)\n",
    "ax.xaxis.grid(True) # tweak the visual presentation\n",
    "ax.set(ylabel=\"\")"
   ]
  },
  {
   "cell_type": "code",
   "execution_count": null,
   "metadata": {},
   "outputs": [],
   "source": [
    "print(data['Financial'].std(), data['Energy'].std(), data['Utilities'].std())"
   ]
  },
  {
   "cell_type": "markdown",
   "metadata": {},
   "source": [
    "Energy stock returns seem better than the other two returns as the mean stock return is greater. The standard deviations are similar so stock returns within each group are equally spread out."
   ]
  },
  {
   "cell_type": "markdown",
   "metadata": {},
   "source": [
    "### The test\n",
    "\n",
    "We perform the one-way ANOVA test using the `f_oneway()` function in `scipy.stats`."
   ]
  },
  {
   "cell_type": "code",
   "execution_count": null,
   "metadata": {},
   "outputs": [],
   "source": [
    "stats.f_oneway(data['Financial'], data['Energy'], data['Utilities'])"
   ]
  },
  {
   "cell_type": "markdown",
   "metadata": {},
   "source": [
    "We obtain a p value of 0.1, which is greater than the 0.05 significance level. This value indicates evidence in support of the null hypothesis, that the mean values of the different groups are equal."
   ]
  },
  {
   "cell_type": "markdown",
   "metadata": {},
   "source": [
    "### Post-hoc tests\n",
    "\n",
    "A significant p-value indicates there is some difference between group means but it does not indicate which pairs of groups are different. We perform multiple pairwise comparison to determine which group means differ significantly. In practice, there are a few tests to choose from to do this further comparison, each with its own assumptions and limitations. For us, we will use the Tukey HSD (Honest Significant Differences) to performn multiple pairwise comparison between group means. See the references section at the end of this notebook for more on multiple comparisons. \n",
    "\n",
    "Unfortunately our test results do not indicate a significant different between the means of the three groups. However, if necessary,the Tukey HSD test function is available from the following library:"
   ]
  },
  {
   "cell_type": "code",
   "execution_count": null,
   "metadata": {
    "collapsed": true
   },
   "outputs": [],
   "source": [
    "from statsmodels.stats.multicomp import pairwise_tukeyhsd"
   ]
  },
  {
   "cell_type": "markdown",
   "metadata": {},
   "source": [
    "### Reporting on ANOVA\n",
    "\n",
    "A one-way ANOVA was conducted to compare the three stock return options. There was no significant difference between the mean returns of the three stock options (F=2.0774, p = 0.15). No post hoc comparisons were carried out."
   ]
  },
  {
   "cell_type": "code",
   "execution_count": null,
   "metadata": {
    "collapsed": true
   },
   "outputs": [],
   "source": []
  },
  {
   "cell_type": "markdown",
   "metadata": {},
   "source": [
    "### Exercise\n",
    "\n",
    "#### Question 1\n",
    "Load the following dataset into a Pandas dataframe: `stcp-Rdataset-Diet.csv`. Investigate the data. Generate summary statistics.\n",
    "\n",
    "#### Question 2\n",
    "You need to compare three diets. Generate visualizations to visualize the mean. Discuss the results.\n",
    "\n",
    "#### Question 3 \n",
    "Formulate an hypothesis about the diet groups in the dataset. Test your hypothesis."
   ]
  },
  {
   "cell_type": "code",
   "execution_count": null,
   "metadata": {
    "collapsed": true
   },
   "outputs": [],
   "source": [
    "#response to question 1"
   ]
  },
  {
   "cell_type": "code",
   "execution_count": null,
   "metadata": {
    "collapsed": true
   },
   "outputs": [],
   "source": [
    "#response to question 2"
   ]
  },
  {
   "cell_type": "code",
   "execution_count": null,
   "metadata": {
    "collapsed": true
   },
   "outputs": [],
   "source": [
    "#response to question 3"
   ]
  },
  {
   "cell_type": "markdown",
   "metadata": {},
   "source": [
    "## References\n"
   ]
  },
  {
   "cell_type": "markdown",
   "metadata": {},
   "source": [
    "For more on multiple comparisons, you can refer to the resource linked below which also provides a comparison of other methods available apart from Tukey and when to use them.\n",
    "\n",
    "[Using Multiple Comparisons](https://support.minitab.com/en-us/minitab/18/help-and-how-to/modeling-statistics/anova/supporting-topics/multiple-comparisons/using-multiple-comparisons-to-assess-differences-in-means/)\n"
   ]
  }
 ],
 "metadata": {
  "kernelspec": {
   "display_name": "Python 3",
   "language": "python",
   "name": "python3"
  },
  "language_info": {
   "codemirror_mode": {
    "name": "ipython",
    "version": 3
   },
   "file_extension": ".py",
   "mimetype": "text/x-python",
   "name": "python",
   "nbconvert_exporter": "python",
   "pygments_lexer": "ipython3",
   "version": "3.7.1"
  }
 },
 "nbformat": 4,
 "nbformat_minor": 2
}
