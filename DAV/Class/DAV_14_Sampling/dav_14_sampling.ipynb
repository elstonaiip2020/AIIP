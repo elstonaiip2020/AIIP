{
 "cells": [
  {
   "cell_type": "markdown",
   "metadata": {
    "colab_type": "text",
    "id": "nYUp9Ip4GojE"
   },
   "source": [
    "# <font color='maroon'>Sampling</font>"
   ]
  },
  {
   "cell_type": "markdown",
   "metadata": {
    "colab_type": "text",
    "id": "L2RXtleyGojL"
   },
   "source": [
    "We've discussed sampling a great deal so far in this programme. In a resource-constrained reality, measuring every single item in a population is impractical, non-feasible, expensive and in diplomatic terms, not very smart. As such, having means to sample a population makes practical and business sense. In some cases, simulations of sampling make even more sense because one can get an idea of what to expect before actually measuring samples.\n",
    "\n",
    "In this lesson, we learn about random numbers in Python. We also learn how to use them in sampling methods such as simple random sampling and cluster sampling. We also go through selecting a subset from a larger dataset, a skill that you will likely apply in your actual work with datasets of different kinds."
   ]
  },
  {
   "cell_type": "markdown",
   "metadata": {
    "colab_type": "text",
    "id": "Gyogz3W-GojV"
   },
   "source": [
    "## Generating random numbers"
   ]
  },
  {
   "cell_type": "markdown",
   "metadata": {
    "colab_type": "text",
    "id": "D9gNRi7OGojZ"
   },
   "source": [
    "We can program computers to pick random numbers or random items from a list. Python provides the Random module that allows us to do just that. The module contains random numbers generated from different distributions. So you can generate random numbers that are uniformly distributed or normally distributed, or numbers that follow a Poisson distribution. We import the Random module for this."
   ]
  },
  {
   "cell_type": "code",
   "execution_count": 0,
   "metadata": {
    "colab": {},
    "colab_type": "code",
    "id": "mVLYyWQJGoje"
   },
   "outputs": [],
   "source": [
    "import random as rnd"
   ]
  },
  {
   "cell_type": "markdown",
   "metadata": {
    "colab_type": "text",
    "id": "EJJ3jUuBGojs"
   },
   "source": [
    "With Random you can pick integers between a closed interval [a,b]."
   ]
  },
  {
   "cell_type": "code",
   "execution_count": 0,
   "metadata": {
    "colab": {},
    "colab_type": "code",
    "id": "VuNwMsuGGojy",
    "outputId": "1dfe4b7d-2712-4896-a54e-c1cdd555bd8f"
   },
   "outputs": [
    {
     "data": {
      "text/plain": [
       "7"
      ]
     },
     "execution_count": 2,
     "metadata": {
      "tags": []
     },
     "output_type": "execute_result"
    }
   ],
   "source": [
    "rnd.randint(0,9)"
   ]
  },
  {
   "cell_type": "markdown",
   "metadata": {
    "colab_type": "text",
    "id": "qoqr8-kPGokL"
   },
   "source": [
    "The function `random.randrange(start, stop[, step])`  will return an integer between `start` and `stop`, excluding `stop`, and separated by a `step` size."
   ]
  },
  {
   "cell_type": "code",
   "execution_count": 0,
   "metadata": {
    "colab": {},
    "colab_type": "code",
    "id": "o2N20qr0GokV",
    "outputId": "d0435704-92f8-4fc6-8024-7734917f1d8e"
   },
   "outputs": [
    {
     "data": {
      "text/plain": [
       "0"
      ]
     },
     "execution_count": 3,
     "metadata": {
      "tags": []
     },
     "output_type": "execute_result"
    }
   ],
   "source": [
    "rnd.randrange(0,10,2)"
   ]
  },
  {
   "cell_type": "code",
   "execution_count": 0,
   "metadata": {
    "colab": {},
    "colab_type": "code",
    "id": "IoVpK_xbGoky",
    "outputId": "08a05f62-ab8c-4f16-fa9a-57be64e2988a"
   },
   "outputs": [
    {
     "data": {
      "text/plain": [
       "45"
      ]
     },
     "execution_count": 4,
     "metadata": {
      "tags": []
     },
     "output_type": "execute_result"
    }
   ],
   "source": [
    "rnd.choice(range(100)) #this selects any number upto 100"
   ]
  },
  {
   "cell_type": "code",
   "execution_count": 0,
   "metadata": {
    "colab": {},
    "colab_type": "code",
    "id": "4pN90Ua4GolF",
    "outputId": "085a810f-0626-4731-b60d-3736ff7cadcc"
   },
   "outputs": [
    {
     "data": {
      "text/plain": [
       "'salt'"
      ]
     },
     "execution_count": 5,
     "metadata": {
      "tags": []
     },
     "output_type": "execute_result"
    }
   ],
   "source": [
    "rnd.choice(['sugar','salt','pepper'])# selects any random option from the range provided"
   ]
  },
  {
   "cell_type": "markdown",
   "metadata": {
    "colab_type": "text",
    "id": "C2w9xlhGGold"
   },
   "source": [
    "`random.choice` works with a sequence of any type and performs a uniform selection, that is, each item has an equal chance of being selected."
   ]
  },
  {
   "cell_type": "markdown",
   "metadata": {
    "colab_type": "text",
    "id": "GYPEuXdWGolj"
   },
   "source": [
    "You may want to specify where a random number generator start to generate random numbers by using the `seed()` function. If unspecified, the seed starts with the current timestamp on the machine in use. Check the Python documentation for more on this."
   ]
  },
  {
   "cell_type": "code",
   "execution_count": 0,
   "metadata": {
    "colab": {},
    "colab_type": "code",
    "id": "Jsh5-XvZGolo"
   },
   "outputs": [],
   "source": [
    "rnd.seed(4)"
   ]
  },
  {
   "cell_type": "markdown",
   "metadata": {
    "colab_type": "text",
    "id": "ixSKEFAvGol4"
   },
   "source": [
    "## Simple Random Sampling"
   ]
  },
  {
   "cell_type": "markdown",
   "metadata": {
    "colab_type": "text",
    "id": "tUyk_D3HGol8"
   },
   "source": [
    "Statisticians use samples to study the whole population. It is easier, quicker, less resource intensive to study a sample. It may also be impossible to identify each individual person or observation in a population and collect data on them. Therefore, we sample the population and make inferences based on the sample. With simple random sampling, each individual or observation has an equal probability of being selected into the sample. Individuals or observations are selected into the sample using a random number generator. We study the sample mean, denoted $\\overline{X}$ and standard errors (deviation), denoted $S$.\n",
    "\n"
   ]
  },
  {
   "cell_type": "markdown",
   "metadata": {
    "colab_type": "text",
    "id": "YspD7ToyGol_"
   },
   "source": [
    "Let's use the <a href=\"http://socr.ucla.edu/docs/resources/SOCR_Data/SOCR_Data_Dinov_020108_HeightsWeights.html\">SOCR Data Dinov 020108 HeightsWeights</a> data set to create four samples of different sizes."
   ]
  },
  {
   "cell_type": "code",
   "execution_count": 0,
   "metadata": {
    "colab": {},
    "colab_type": "code",
    "id": "S8gRGYIzGomD"
   },
   "outputs": [],
   "source": [
    "import pandas as pd\n",
    "import numpy as np\n",
    "import matplotlib.pyplot as plt\n",
    "import matplotlib.animation as animation\n",
    "from wand.image import Image\n",
    "from wand.display import display"
   ]
  },
  {
   "cell_type": "code",
   "execution_count": 0,
   "metadata": {
    "colab": {},
    "colab_type": "code",
    "id": "Z0ScYRW_GomO"
   },
   "outputs": [],
   "source": [
    "%matplotlib inline"
   ]
  },
  {
   "cell_type": "code",
   "execution_count": 0,
   "metadata": {
    "colab": {},
    "colab_type": "code",
    "id": "7L2eNwZPGoml",
    "outputId": "30592bea-7efc-4aa5-8602-590784357cc8"
   },
   "outputs": [
    {
     "name": "stdout",
     "output_type": "stream",
     "text": [
      "(25000, 3)\n",
      "              Index  Height(Inches)  Weight(Pounds)\n",
      "count  25000.000000    25000.000000    25000.000000\n",
      "mean   12500.500000       67.993114      127.079421\n",
      "std     7217.022701        1.901679       11.660898\n",
      "min        1.000000       60.278360       78.014760\n",
      "25%     6250.750000       66.704397      119.308675\n",
      "50%    12500.500000       67.995700      127.157750\n",
      "75%    18750.250000       69.272958      134.892850\n",
      "max    25000.000000       75.152800      170.924000\n"
     ]
    }
   ],
   "source": [
    "data = pd.read_csv('weight-and-height.csv', sep=',')\n",
    "print(data.shape)\n",
    "print(data.describe())"
   ]
  },
  {
   "cell_type": "code",
   "execution_count": 0,
   "metadata": {
    "colab": {},
    "colab_type": "code",
    "id": "hkqTvg1HGom3"
   },
   "outputs": [],
   "source": [
    "samples = []\n",
    "n = 500   # number of samples\n",
    "j = 5000  # size of each sample\n",
    "for i in range(n):\n",
    "    samples.append(rnd.sample(list(data['Height(Inches)']), k=j)) # take 500 samples from the Height and Weight dataset, each size 5000\n",
    "  "
   ]
  },
  {
   "cell_type": "markdown",
   "metadata": {
    "colab_type": "text",
    "id": "LfruZXVkGonC"
   },
   "source": [
    "In the next line of code we verify that samples has len 500 and that the first entry in samples contains 5000 data points."
   ]
  },
  {
   "cell_type": "code",
   "execution_count": 0,
   "metadata": {
    "colab": {},
    "colab_type": "code",
    "id": "RSpqJraFGonH",
    "outputId": "e378d044-5ab0-4d93-a70c-f7c25627d91f"
   },
   "outputs": [
    {
     "name": "stdout",
     "output_type": "stream",
     "text": [
      "500 5000\n"
     ]
    }
   ],
   "source": [
    "print(len(samples), len(samples[0]))"
   ]
  },
  {
   "cell_type": "markdown",
   "metadata": {
    "colab_type": "text",
    "id": "1CfDZOyBGonY"
   },
   "source": [
    "The list `samples` contains the results of sampling randomly from the given dataset 500 times. Each time, we sample 5000 data points. This should give us a good representation of the population. We now determine the mean and standard deviations of the samples generated."
   ]
  },
  {
   "cell_type": "code",
   "execution_count": 0,
   "metadata": {
    "colab": {},
    "colab_type": "code",
    "id": "-W7QyTPnGonn"
   },
   "outputs": [],
   "source": [
    "means = [np.asarray(i).mean() for i in samples]\n",
    "devis = [np.asarray(i).std() for i in samples]"
   ]
  },
  {
   "cell_type": "markdown",
   "metadata": {
    "colab_type": "text",
    "id": "OSw-ySXRGon9"
   },
   "source": [
    "The *Central Limit Theorem* is a fundamental theorem in Statistics that when we take larger and larger samples from a population with replacement then the distribution of the sample means will be approximately normally distributed, or Gaussian. "
   ]
  },
  {
   "cell_type": "code",
   "execution_count": 0,
   "metadata": {
    "colab": {},
    "colab_type": "code",
    "id": "gIijlkM7GooG",
    "outputId": "60f92351-ad69-41c0-988f-4109f525c42a"
   },
   "outputs": [
    {
     "data": {
      "image/png": "[encoded data removed]",
      "text/plain": [
       "<Figure size 432x288 with 1 Axes>"
      ]
     },
     "metadata": {
      "tags": []
     },
     "output_type": "display_data"
    }
   ],
   "source": [
    "plt.hist(means);"
   ]
  },
  {
   "cell_type": "markdown",
   "metadata": {
    "colab_type": "text",
    "id": "rNgXC3w6Gooo"
   },
   "source": [
    "You'll see that as the sample size gets bigger, the distribution starts to look more symmetric."
   ]
  },
  {
   "cell_type": "code",
   "execution_count": 0,
   "metadata": {
    "colab": {},
    "colab_type": "code",
    "id": "PCUTvZsVGoou",
    "outputId": "282b9c78-818b-4231-de85-29df42a0480b"
   },
   "outputs": [
    {
     "data": {
      "image/png": "[encoded data removed]",
      "text/plain": [
       "<Figure size 432x288 with 1 Axes>"
      ]
     },
     "metadata": {
      "tags": []
     },
     "output_type": "display_data"
    }
   ],
   "source": [
    "samples2 = []\n",
    "n = 500   # number of samples\n",
    "j = 20000  # size of each sample\n",
    "for i in range(n):\n",
    "    samples2.append(rnd.sample(list(data['Height(Inches)']), k=j)) # take 500 samples from the Height and Weight dataset, each size 5000\n",
    "    \n",
    "means2 = [np.asarray(i).mean() for i in samples2]\n",
    "\n",
    "plt.hist(means2);\n"
   ]
  },
  {
   "cell_type": "markdown",
   "metadata": {
    "colab_type": "text",
    "id": "aEyOpBctGopW"
   },
   "source": [
    "This is the Central Limit Theorem and it holds for data that follows any distribution, be it a Poisson or Binomial distribution."
   ]
  },
  {
   "cell_type": "code",
   "execution_count": 0,
   "metadata": {
    "colab": {},
    "colab_type": "code",
    "id": "PPm_IPSUGopb"
   },
   "outputs": [],
   "source": []
  },
  {
   "cell_type": "markdown",
   "metadata": {
    "colab_type": "text",
    "id": "3aj5FxNpGopn"
   },
   "source": [
    "## Stratified sampling"
   ]
  },
  {
   "cell_type": "markdown",
   "metadata": {
    "colab_type": "text",
    "id": "Bc40U2doGops"
   },
   "source": [
    "Stratified sampling divides the entire data set into non-overlapping subsets called strata. \n",
    "\n",
    "The strata are created to highlight a specific subset or subgroup of the data. Features such as demographics or gender can be used to stratify data. And help you answer questions about how representative those variables are of the population.  \n",
    " \n",
    "\n",
    "We'll show you how to create stratified random sample. We can either sample proportionally (i.e., sample the same fraction from each subset or stratum), or we can sample disproportionally, where strata have different sampling proportions.  \n",
    "\n",
    "**The data.** With the smoking and pregnancy data set, we can create two subsets based on the variable `Sex`. We use the function `groupby` to do so."
   ]
  },
  {
   "cell_type": "code",
   "execution_count": 0,
   "metadata": {
    "colab": {},
    "colab_type": "code",
    "id": "DSdxQFADGopw",
    "outputId": "e0afa655-19b1-4834-f17f-a91e6e3796b7"
   },
   "outputs": [
    {
     "name": "stdout",
     "output_type": "stream",
     "text": [
      "   GestationalAge   Sex  Birthweight  Birthlength Smoking  CigarettesPerDay\n",
      "0             281   boy         3.35         54.0       Y               NaN\n",
      "1             265  girl         3.72         48.0       Y               NaN\n",
      "2             274  girl         3.10         50.0       N               NaN\n",
      "3             291  girl         4.58         57.0       Y              15.0\n",
      "4             290   boy         3.20         49.0       N               NaN\n",
      "(128, 6)\n",
      "      GestationalAge  Birthweight  Birthlength  Smoking  CigarettesPerDay\n",
      "Sex                                                                      \n",
      "boy               65           65           65       65                 9\n",
      "girl              63           63           61       63                14\n"
     ]
    }
   ],
   "source": [
    "data = pd.read_csv('smoking-and-pregnancy.csv', sep=';')\n",
    "print(data.head())\n",
    "print(data.shape)\n",
    "print(data.groupby('Sex').count()) #group and count available data entries"
   ]
  },
  {
   "cell_type": "markdown",
   "metadata": {
    "colab_type": "text",
    "id": "9CD6L8qSGoqF"
   },
   "source": [
    "We'll use proportional stratified sampling to group the data according to gender. The Python function `sample()` let's us specify what proportion we'd like for each subgroup. In this case we'll take 10%  from each group using the function `sample()`."
   ]
  },
  {
   "cell_type": "code",
   "execution_count": 0,
   "metadata": {
    "colab": {},
    "colab_type": "code",
    "id": "rXGYghPKGoqI"
   },
   "outputs": [],
   "source": [
    "stratified = data.groupby('Sex').apply(lambda x: x.sample(frac=0.1))"
   ]
  },
  {
   "cell_type": "markdown",
   "metadata": {
    "colab_type": "text",
    "id": "Lh3igLzaGoqS"
   },
   "source": [
    "Let's look at `Birthweight`: we'll determine the average for each subset by first getting the `Birthweight` from the groupby object `stratified`, then unstacking to form a new Pandas dataframe. And finally rotating the rows and colums with the `transpose` function. "
   ]
  },
  {
   "cell_type": "code",
   "execution_count": 0,
   "metadata": {
    "colab": {},
    "colab_type": "code",
    "id": "5LZCEaaeGoqV"
   },
   "outputs": [],
   "source": [
    "df = pd.DataFrame(stratified['Birthweight'].unstack()).transpose()"
   ]
  },
  {
   "cell_type": "code",
   "execution_count": 0,
   "metadata": {
    "colab": {},
    "colab_type": "code",
    "id": "E9PoluBvGoqg",
    "outputId": "65ec00a7-f5d8-4aab-be06-0bc96769a752"
   },
   "outputs": [
    {
     "data": {
      "text/plain": [
       "(3.6300000000000003, 3.508333333333333)"
      ]
     },
     "execution_count": 135,
     "metadata": {
      "tags": []
     },
     "output_type": "execute_result"
    }
   ],
   "source": [
    "df['boy'].mean(), df['girl'].mean()"
   ]
  },
  {
   "cell_type": "markdown",
   "metadata": {
    "colab_type": "text",
    "id": "Qtd7ndkVGoq0"
   },
   "source": [
    "### Exercise\n",
    "\n",
    "For this exercise, you'll work with the `GestationalAge` and `Birthlength` variables in the given dataset. First, stratify the data. Then choose appropriate visualisations to show the distribution of the data points for the subsets or strata given the two variables. Determine the mean and standard deviations of the stratified random sample. Use the same approach as above with `unstack` and `transpose` if you get stuck."
   ]
  },
  {
   "cell_type": "code",
   "execution_count": 0,
   "metadata": {
    "colab": {},
    "colab_type": "code",
    "id": "Tu--mdyPGoq5"
   },
   "outputs": [],
   "source": []
  },
  {
   "cell_type": "markdown",
   "metadata": {
    "colab_type": "text",
    "id": "RJRPwq_3GorE"
   },
   "source": [
    "### References"
   ]
  },
  {
   "cell_type": "markdown",
   "metadata": {
    "colab_type": "text",
    "id": "ju1qhoeiGorJ"
   },
   "source": [
    "<a href=\"https://docs.python.org/3/library/random.html\"> The Python Standard Library: Generate pseudo-random numbers</a>"
   ]
  }
 ],
 "metadata": {
  "colab": {
   "name": "dav_14_sampling.ipynb",
   "provenance": [],
   "version": "0.3.2"
  },
  "kernelspec": {
   "display_name": "Python 3",
   "language": "python",
   "name": "python3"
  },
  "language_info": {
   "codemirror_mode": {
    "name": "ipython",
    "version": 3
   },
   "file_extension": ".py",
   "mimetype": "text/x-python",
   "name": "python",
   "nbconvert_exporter": "python",
   "pygments_lexer": "ipython3",
   "version": "3.7.1"
  }
 },
 "nbformat": 4,
 "nbformat_minor": 1
}
