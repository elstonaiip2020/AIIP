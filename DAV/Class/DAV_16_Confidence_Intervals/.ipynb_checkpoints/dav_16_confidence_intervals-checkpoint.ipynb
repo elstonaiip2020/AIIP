{
 "cells": [
  {
   "cell_type": "markdown",
   "metadata": {
    "colab_type": "text",
    "id": "zaURXBA2Re_2"
   },
   "source": [
    "# <font color='maroon'>Confidence Intervals</font>"
   ]
  },
  {
   "cell_type": "markdown",
   "metadata": {
    "colab_type": "text",
    "id": "V8PdVCUARe_9"
   },
   "source": [
    "On November 23rd, 2017, the average price of a Bitcoin was about 8193.82 USD. The price of Bitcoin is subject to variations so the point estimate will probably not convince you to buy Bitcoin. If the price of Bitcoin dropped, how far down will it drop and are you willing to buy Bitcoin with that amount of variation? Statisticians construct confidence intervals to indicate the range in which the true population parameter will lie. If we are told that the price of Bitcoin is likely to lie in the interval 7500 USD to 8500 USD next month, we would go ahead and buy Bitcoin. But if we're told that the average estimates lies in the interval 6500 USD to 9500 USD, we would hesitate to buy. We hesitate because there is more uncertainty in the wider interval. \n",
    "\n",
    "We learn how to construct confidence intervals for the population mean and experiment by generating different confidence intervals for different samples from the same population. We see via this experiment that confidence intervals are subject to variation."
   ]
  },
  {
   "cell_type": "markdown",
   "metadata": {
    "colab_type": "text",
    "id": "UIcaWNRJRfAC"
   },
   "source": [
    "<img src=\"coindesk-bpi-chart.png\"/>\n",
    "Image courtesy of [coindesk](https://www.coindesk.com/price/)."
   ]
  },
  {
   "cell_type": "markdown",
   "metadata": {
    "colab_type": "text",
    "id": "phJMtEl8RfAG"
   },
   "source": [
    "We construct a confidence interval using the sample mean $\\overline{X}$ and standard deviation or standard error $s.e.$ of the mean. The commonly used confidence level associated with confidence intervals is 0.95; so we talk of a 95% confidence interval. This means the probability is 0.95 that the confidence interval will contain the true population value. Conversely, the probability is 0.05 that the interval does not contain the true population value.\n",
    "\n",
    "The confidence interval is calculated by adding or substracting a margin of error from the sample mean $\\overline{X}$, i.e., $$\\overline{X} \\pm Z * s.e.,$$ where\n",
    "$Z * s.e.$ is the margin of error given by $ Z∗\\dfrac{\\sigma}{\\sqrt{n}}$. Assuming $\\overline{X}$ follows a normal distribution, we calculate the z-value $Z$ as follows, $$Z = (\\overline{X} - \\mu)/ \\dfrac{\\sigma}{\\sqrt{n}},$$ where $\\mu$ is the population mean and $\\sigma$ the population standard deviation. \n",
    "\n",
    "For more on how to calculate z-scores see [T-Score vs. Z-Score: What’s the Difference?](http://www.statisticshowto.com/when-to-use-a-t-score-vs-z-score/)."
   ]
  },
  {
   "cell_type": "markdown",
   "metadata": {
    "colab_type": "text",
    "id": "WX465Eo4RfAL"
   },
   "source": [
    "## Constructing the confidence interval\n",
    "\n",
    "Let's construct the confidence interval for the bitcoin value for November 23rd."
   ]
  },
  {
   "cell_type": "code",
   "execution_count": 0,
   "metadata": {
    "colab": {},
    "colab_type": "code",
    "id": "gM6hciMXRfAR"
   },
   "outputs": [],
   "source": [
    "# load your libraries\n",
    "import matplotlib.pyplot as plt\n",
    "import pandas as pd\n",
    "import seaborn as sns\n",
    "import random as rnd\n",
    "import scipy.stats as stats\n",
    "import numpy as np\n",
    "from math import sqrt"
   ]
  },
  {
   "cell_type": "code",
   "execution_count": 0,
   "metadata": {
    "colab": {},
    "colab_type": "code",
    "id": "eBpBvDfXRfAl"
   },
   "outputs": [],
   "source": [
    "%matplotlib inline"
   ]
  },
  {
   "cell_type": "code",
   "execution_count": 0,
   "metadata": {
    "colab": {},
    "colab_type": "code",
    "id": "KHHwsVFvRfA5"
   },
   "outputs": [],
   "source": [
    "df = pd.read_csv('coindesk-bpi-USD-close_data-2017-11-22_2017-11-23.csv', sep=',', index_col='Date')\n",
    "n = len(df) # number of observations in the dataset"
   ]
  },
  {
   "cell_type": "markdown",
   "metadata": {
    "colab_type": "text",
    "id": "nHSDIzHbRfBH"
   },
   "source": [
    "We use the stats.norm.interval() to calculate a 95% confidence interval. We know the mean and standard deviation of the dataset. We use them to calculate the confidence interval."
   ]
  },
  {
   "cell_type": "code",
   "execution_count": 0,
   "metadata": {
    "colab": {},
    "colab_type": "code",
    "id": "luNDnr7FRfBL"
   },
   "outputs": [],
   "source": [
    "mean, sigma = np.mean(df), np.std(df)\n",
    "conf_int = stats.norm.interval(0.95,       # confidence level\n",
    "                               loc=mean,   # mean\n",
    "                               scale=sigma/sqrt(n))# error"
   ]
  },
  {
   "cell_type": "code",
   "execution_count": 0,
   "metadata": {
    "colab": {},
    "colab_type": "code",
    "id": "H9O7rcujRfBa"
   },
   "outputs": [],
   "source": [
    "conf_int"
   ]
  },
  {
   "cell_type": "markdown",
   "metadata": {
    "colab_type": "text",
    "id": "0CvkxeTwRfBq"
   },
   "source": [
    "### Interpreting the confidence level"
   ]
  },
  {
   "cell_type": "markdown",
   "metadata": {
    "colab_type": "text",
    "id": "dAX0CLXZRfBv"
   },
   "source": [
    "Our confidence interval was (8191.70365972, 8195.94356527). We can say that we are 95% certain that the interval (8094.14073669, 8293.50648829) contains the population mean, the price of bitcoin."
   ]
  },
  {
   "cell_type": "markdown",
   "metadata": {
    "colab_type": "text",
    "id": "qtAclhnORfB3"
   },
   "source": [
    "## Visualizing confidence intervals"
   ]
  },
  {
   "cell_type": "markdown",
   "metadata": {
    "colab_type": "text",
    "collapsed": true,
    "id": "xu3VykZPRfB_"
   },
   "source": [
    "The frequency with which the confidence intervals contain the true population mean when an experiment is repeated infinitely many times can be visualised using error bar plots. Let's sample using simple random sampling. Assuming the standard deviation is known (which we calculated from the data set), let's sample 100 times from the bitcoin data set, selecting samples of size 25 each time."
   ]
  },
  {
   "cell_type": "code",
   "execution_count": 0,
   "metadata": {
    "colab": {},
    "colab_type": "code",
    "id": "e_DNDWMJRfCK"
   },
   "outputs": [],
   "source": [
    "sigma = df.std()  # known standard deviation\n",
    "intervals = []    # confidence intervals \n",
    "sample_means = []\n",
    "for i in range(0,10):\n",
    "    sample = np.random.choice(df['Close Price'], size=25)  # take a random sample of size 25 from data\n",
    "    sample_means.append(np.mean(sample))          # compute the sample mean \n",
    "    deviation = sigma / sqrt(len(sample))              # compute part sigma/sqrt(n)\n",
    "    intervals.append(stats.norm.interval(.95, loc=np.mean(sample), scale=deviation)) # compute the confidence interval"
   ]
  },
  {
   "cell_type": "markdown",
   "metadata": {
    "colab_type": "text",
    "id": "xT7bQtcHRfCl"
   },
   "source": [
    "In the above code, we simulate the experiment 100 times, each time selecting sample sizes of 25. Now we calculate create the error bar interval from the `intervals` object."
   ]
  },
  {
   "cell_type": "code",
   "execution_count": 0,
   "metadata": {
    "colab": {},
    "colab_type": "code",
    "id": "NfEHlDIhRfCq"
   },
   "outputs": [],
   "source": [
    "yerr = []\n",
    "for i in intervals:\n",
    "    yerr.append(i[1] - i[0]) # now have two separate numbers"
   ]
  },
  {
   "cell_type": "code",
   "execution_count": 0,
   "metadata": {
    "colab": {},
    "colab_type": "code",
    "id": "0EPhMxnWRfC7"
   },
   "outputs": [],
   "source": [
    "plt.figure(figsize=(10,9))\n",
    "plt.errorbar(x=np.arange(0,10), \n",
    "             y=sample_means,\n",
    "             yerr=yerr,\n",
    "            fmt = 'o')\n",
    "plt.xlabel('Sample nr.')\n",
    "plt.ylabel('Mean, CI')\n",
    "plt.hlines(xmin=0, xmax=10,\n",
    "           y=mean, \n",
    "           linewidth=2.0,\n",
    "           color=\"red\")\n",
    "\n",
    "#plt.errorbar([0,1,2,3], data_m, yerr=ss.t.ppf(0.95, data_df)*data_sd)"
   ]
  },
  {
   "cell_type": "markdown",
   "metadata": {
    "colab_type": "text",
    "id": "E7UJg8aHRfDI"
   },
   "source": [
    "The red horizontal line indicates the true population mean. The vertical bars are the confidence intervals generated from the 10 samples.\n",
    "\n",
    "For more on plotting confidence intervals and plotting error bars see [Life is a Study](https://hamelg.blogspot.co.za/2015/11/python-for-data-analysis-part-23-point.html).\n"
   ]
  },
  {
   "cell_type": "code",
   "execution_count": 0,
   "metadata": {
    "colab": {},
    "colab_type": "code",
    "id": "hpfyfLFYRfDO"
   },
   "outputs": [],
   "source": []
  },
  {
   "cell_type": "markdown",
   "metadata": {
    "colab_type": "text",
    "id": "wz7mOBZ8RfDa"
   },
   "source": [
    "### Interpreting errorbars"
   ]
  },
  {
   "cell_type": "markdown",
   "metadata": {
    "colab_type": "text",
    "id": "JvyhTLHbRfDf"
   },
   "source": [
    "Approximately 95% of the intervals should contain the true value, which is 8193.82 USD, which is indicated as the horizontal red line in the plot. We observe here that the confidence interval is a random quantity, subject to sampling variability. "
   ]
  },
  {
   "cell_type": "markdown",
   "metadata": {
    "colab_type": "text",
    "id": "9ZOyAw_sRfDj"
   },
   "source": [
    "### Exercise"
   ]
  },
  {
   "cell_type": "markdown",
   "metadata": {
    "colab_type": "text",
    "id": "NqPwl55TRfDm"
   },
   "source": [
    "Construct 99% confidence intervals similarly to the way we constructed the 95% confidence intervals. Sample from the population. Create an errorbar plot of the confidence intervals.\n"
   ]
  },
  {
   "cell_type": "code",
   "execution_count": 0,
   "metadata": {
    "colab": {},
    "colab_type": "code",
    "id": "1gDBdl84RfDq"
   },
   "outputs": [],
   "source": []
  }
 ],
 "metadata": {
  "colab": {
   "name": "dav_16_confidence_intervals.ipynb",
   "provenance": [],
   "version": "0.3.2"
  },
  "kernelspec": {
   "display_name": "Python 3",
   "language": "python",
   "name": "python3"
  },
  "language_info": {
   "codemirror_mode": {
    "name": "ipython",
    "version": 3
   },
   "file_extension": ".py",
   "mimetype": "text/x-python",
   "name": "python",
   "nbconvert_exporter": "python",
   "pygments_lexer": "ipython3",
   "version": "3.7.1"
  }
 },
 "nbformat": 4,
 "nbformat_minor": 1
}
