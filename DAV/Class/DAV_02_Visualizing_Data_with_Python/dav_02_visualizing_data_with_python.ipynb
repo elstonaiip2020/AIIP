{
 "cells": [
  {
   "cell_type": "markdown",
   "metadata": {
    "colab_type": "text",
    "id": "S2qiEtny-FlH"
   },
   "source": [
    "# <font color='maroon'>Visualizing Data using Python</font>\n",
    "\n",
    "In this notebook, we learn how use the Numpy, Matplotlib, Pandas and Seaborn libraries to visualize data and functions. We can perform all plotting functions on data structures like arrays provided by Numpy and data structures likes generic lists. Matplotlib is used with the Numpy library. Pandas allows us to plot directly using dataframes. We also introduce the Seaborn library which is useful for statistical visualization and builds on Matplotlib.\n",
    "\n",
    "<p></p>\n",
    "We also learn how to get help on the libraries and functions necessary to create visualizations, or to use the libraries in general. Begin with the <b> Getting Help</b> section then continue to the visualization section beginning from the <b> Getting Started</b> section.\n",
    "\n",
    " "
   ]
  },
  {
   "cell_type": "markdown",
   "metadata": {
    "colab_type": "text",
    "id": "u01hPhSS-FlP"
   },
   "source": [
    "## Getting Help"
   ]
  },
  {
   "cell_type": "markdown",
   "metadata": {
    "colab_type": "text",
    "id": "XIjmxUN5-FlU"
   },
   "source": [
    "You can find out more about a module or function or data type with the following ways."
   ]
  },
  {
   "cell_type": "code",
   "execution_count": 1,
   "metadata": {
    "colab": {},
    "colab_type": "code",
    "id": "ezVDISCT-FlZ"
   },
   "outputs": [
    {
     "name": "stdout",
     "output_type": "stream",
     "text": [
      "Help on package pandas:\n",
      "\n",
      "NAME\n",
      "    pandas\n",
      "\n",
      "DESCRIPTION\n",
      "    pandas - a powerful data analysis and manipulation library for Python\n",
      "    =====================================================================\n",
      "    \n",
      "    **pandas** is a Python package providing fast, flexible, and expressive data\n",
      "    structures designed to make working with \"relational\" or \"labeled\" data both\n",
      "    easy and intuitive. It aims to be the fundamental high-level building block for\n",
      "    doing practical, **real world** data analysis in Python. Additionally, it has\n",
      "    the broader goal of becoming **the most powerful and flexible open source data\n",
      "    analysis / manipulation tool available in any language**. It is already well on\n",
      "    its way toward this goal.\n",
      "    \n",
      "    Main Features\n",
      "    -------------\n",
      "    Here are just a few of the things that pandas does well:\n",
      "    \n",
      "      - Easy handling of missing data in floating point as well as non-floating\n",
      "        point data.\n",
      "      - Size mutability: columns can be inserted and deleted from DataFrame and\n",
      "        higher dimensional objects\n",
      "      - Automatic and explicit data alignment: objects can be explicitly aligned\n",
      "        to a set of labels, or the user can simply ignore the labels and let\n",
      "        `Series`, `DataFrame`, etc. automatically align the data for you in\n",
      "        computations.\n",
      "      - Powerful, flexible group by functionality to perform split-apply-combine\n",
      "        operations on data sets, for both aggregating and transforming data.\n",
      "      - Make it easy to convert ragged, differently-indexed data in other Python\n",
      "        and NumPy data structures into DataFrame objects.\n",
      "      - Intelligent label-based slicing, fancy indexing, and subsetting of large\n",
      "        data sets.\n",
      "      - Intuitive merging and joining data sets.\n",
      "      - Flexible reshaping and pivoting of data sets.\n",
      "      - Hierarchical labeling of axes (possible to have multiple labels per tick).\n",
      "      - Robust IO tools for loading data from flat files (CSV and delimited),\n",
      "        Excel files, databases, and saving/loading data from the ultrafast HDF5\n",
      "        format.\n",
      "      - Time series-specific functionality: date range generation and frequency\n",
      "        conversion, moving window statistics, moving window linear regressions,\n",
      "        date shifting and lagging, etc.\n",
      "\n",
      "PACKAGE CONTENTS\n",
      "    _libs (package)\n",
      "    _version\n",
      "    api (package)\n",
      "    compat (package)\n",
      "    computation (package)\n",
      "    conftest\n",
      "    core (package)\n",
      "    errors (package)\n",
      "    formats (package)\n",
      "    io (package)\n",
      "    json\n",
      "    lib\n",
      "    parser\n",
      "    plotting (package)\n",
      "    testing\n",
      "    tests (package)\n",
      "    tools (package)\n",
      "    tseries (package)\n",
      "    tslib\n",
      "    types (package)\n",
      "    util (package)\n",
      "\n",
      "SUBMODULES\n",
      "    _hashtable\n",
      "    _lib\n",
      "    _tslib\n",
      "    offsets\n",
      "\n",
      "DATA\n",
      "    IndexSlice = <pandas.core.indexing._IndexSlice object>\n",
      "    NaT = NaT\n",
      "    __docformat__ = 'restructuredtext'\n",
      "    datetools = <module 'pandas.core.datetools' from 'C:\\\\Progra...\\lib\\\\s...\n",
      "    describe_option = <pandas.core.config.CallableDynamicDoc object>\n",
      "    get_option = <pandas.core.config.CallableDynamicDoc object>\n",
      "    json = <module 'pandas.json' from 'C:\\\\ProgramData\\\\Anaconda3\\\\lib\\\\si...\n",
      "    lib = <module 'pandas.lib' from 'C:\\\\ProgramData\\\\Anaconda3\\\\lib\\\\site...\n",
      "    options = <pandas.core.config.DictWrapper object>\n",
      "    parser = <module 'pandas.parser' from 'C:\\\\ProgramData\\\\Anaconda3\\\\lib...\n",
      "    plot_params = {'xaxis.compat': False}\n",
      "    reset_option = <pandas.core.config.CallableDynamicDoc object>\n",
      "    set_option = <pandas.core.config.CallableDynamicDoc object>\n",
      "    tslib = <module 'pandas.tslib' from 'C:\\\\ProgramData\\\\Anaconda3\\\\lib\\\\...\n",
      "\n",
      "VERSION\n",
      "    0.23.4\n",
      "\n",
      "FILE\n",
      "    c:\\programdata\\anaconda3\\lib\\site-packages\\pandas\\__init__.py\n",
      "\n",
      "\n"
     ]
    }
   ],
   "source": [
    "import pandas as pd\n",
    "help(pd) #use pandas or the alias name given for the libary e.g. pd if import pandas as pd"
   ]
  },
  {
   "cell_type": "code",
   "execution_count": 2,
   "metadata": {
    "colab": {},
    "colab_type": "code",
    "id": "-OPJL11t-Flu"
   },
   "outputs": [
    {
     "data": {
      "text/plain": [
       "<module 'pandas' from 'C:\\\\ProgramData\\\\Anaconda3\\\\lib\\\\site-packages\\\\pandas\\\\__init__.py'>"
      ]
     },
     "execution_count": 2,
     "metadata": {},
     "output_type": "execute_result"
    }
   ],
   "source": [
    "pd"
   ]
  },
  {
   "cell_type": "code",
   "execution_count": 3,
   "metadata": {
    "colab": {},
    "colab_type": "code",
    "id": "KpQOHMhe-Fl8"
   },
   "outputs": [
    {
     "data": {
      "text/plain": [
       "['Categorical',\n",
       " 'CategoricalIndex',\n",
       " 'DataFrame',\n",
       " 'DateOffset',\n",
       " 'DatetimeIndex',\n",
       " 'ExcelFile',\n",
       " 'ExcelWriter',\n",
       " 'Expr',\n",
       " 'Float64Index',\n",
       " 'Grouper',\n",
       " 'HDFStore',\n",
       " 'Index',\n",
       " 'IndexSlice',\n",
       " 'Int64Index',\n",
       " 'Interval',\n",
       " 'IntervalIndex',\n",
       " 'MultiIndex',\n",
       " 'NaT',\n",
       " 'Panel',\n",
       " 'Period',\n",
       " 'PeriodIndex',\n",
       " 'RangeIndex',\n",
       " 'Series',\n",
       " 'SparseArray',\n",
       " 'SparseDataFrame',\n",
       " 'SparseSeries',\n",
       " 'Term',\n",
       " 'TimeGrouper',\n",
       " 'Timedelta',\n",
       " 'TimedeltaIndex',\n",
       " 'Timestamp',\n",
       " 'UInt64Index',\n",
       " 'WidePanel',\n",
       " '_DeprecatedModule',\n",
       " '__builtins__',\n",
       " '__cached__',\n",
       " '__doc__',\n",
       " '__docformat__',\n",
       " '__file__',\n",
       " '__loader__',\n",
       " '__name__',\n",
       " '__package__',\n",
       " '__path__',\n",
       " '__spec__',\n",
       " '__version__',\n",
       " '_hashtable',\n",
       " '_lib',\n",
       " '_libs',\n",
       " '_np_version_under1p10',\n",
       " '_np_version_under1p11',\n",
       " '_np_version_under1p12',\n",
       " '_np_version_under1p13',\n",
       " '_np_version_under1p14',\n",
       " '_np_version_under1p15',\n",
       " '_tslib',\n",
       " '_version',\n",
       " 'api',\n",
       " 'bdate_range',\n",
       " 'compat',\n",
       " 'concat',\n",
       " 'core',\n",
       " 'crosstab',\n",
       " 'cut',\n",
       " 'date_range',\n",
       " 'datetime',\n",
       " 'datetools',\n",
       " 'describe_option',\n",
       " 'errors',\n",
       " 'eval',\n",
       " 'factorize',\n",
       " 'get_dummies',\n",
       " 'get_option',\n",
       " 'get_store',\n",
       " 'groupby',\n",
       " 'infer_freq',\n",
       " 'interval_range',\n",
       " 'io',\n",
       " 'isna',\n",
       " 'isnull',\n",
       " 'json',\n",
       " 'lib',\n",
       " 'lreshape',\n",
       " 'match',\n",
       " 'melt',\n",
       " 'merge',\n",
       " 'merge_asof',\n",
       " 'merge_ordered',\n",
       " 'notna',\n",
       " 'notnull',\n",
       " 'np',\n",
       " 'offsets',\n",
       " 'option_context',\n",
       " 'options',\n",
       " 'pandas',\n",
       " 'parser',\n",
       " 'period_range',\n",
       " 'pivot',\n",
       " 'pivot_table',\n",
       " 'plot_params',\n",
       " 'plotting',\n",
       " 'pnow',\n",
       " 'qcut',\n",
       " 'read_clipboard',\n",
       " 'read_csv',\n",
       " 'read_excel',\n",
       " 'read_feather',\n",
       " 'read_fwf',\n",
       " 'read_gbq',\n",
       " 'read_hdf',\n",
       " 'read_html',\n",
       " 'read_json',\n",
       " 'read_msgpack',\n",
       " 'read_parquet',\n",
       " 'read_pickle',\n",
       " 'read_sas',\n",
       " 'read_sql',\n",
       " 'read_sql_query',\n",
       " 'read_sql_table',\n",
       " 'read_stata',\n",
       " 'read_table',\n",
       " 'reset_option',\n",
       " 'scatter_matrix',\n",
       " 'set_eng_float_format',\n",
       " 'set_option',\n",
       " 'show_versions',\n",
       " 'test',\n",
       " 'testing',\n",
       " 'timedelta_range',\n",
       " 'to_datetime',\n",
       " 'to_msgpack',\n",
       " 'to_numeric',\n",
       " 'to_pickle',\n",
       " 'to_timedelta',\n",
       " 'tools',\n",
       " 'tseries',\n",
       " 'tslib',\n",
       " 'unique',\n",
       " 'util',\n",
       " 'value_counts',\n",
       " 'wide_to_long']"
      ]
     },
     "execution_count": 3,
     "metadata": {},
     "output_type": "execute_result"
    }
   ],
   "source": [
    "dir(pd)"
   ]
  },
  {
   "cell_type": "markdown",
   "metadata": {
    "colab_type": "text",
    "id": "kYsJKX9U-FmL"
   },
   "source": [
    "`dir` returns a list of attributes and methods associated with the object."
   ]
  },
  {
   "cell_type": "markdown",
   "metadata": {
    "colab_type": "text",
    "id": "UBNwGtcb-FmP"
   },
   "source": [
    "## <font color='black'>Getting Started</font>"
   ]
  },
  {
   "cell_type": "markdown",
   "metadata": {
    "colab_type": "text",
    "id": "hoIhgTWB-FmU"
   },
   "source": [
    "To get started, we first import the libraries we need into our namespace. \n",
    "We import `matplotlib`, more specifically, we're going to import `pyplot` which lets us easily use `numpy` and `matplotlib` together.\n",
    "\n",
    "<p></p>\n",
    "As you may have seen when working with the previous notebook, we can import the attributes of the library we will be using as shown below."
   ]
  },
  {
   "cell_type": "code",
   "execution_count": 2,
   "metadata": {
    "colab": {},
    "colab_type": "code",
    "id": "jCCTKTU6-FmY"
   },
   "outputs": [],
   "source": [
    "from matplotlib import pyplot"
   ]
  },
  {
   "cell_type": "markdown",
   "metadata": {
    "colab_type": "text",
    "id": "Gp4omO6o-Fmn"
   },
   "source": [
    "Alternatively, we can import the library while renaming it with the standard alias `plt`."
   ]
  },
  {
   "cell_type": "code",
   "execution_count": 5,
   "metadata": {
    "colab": {},
    "colab_type": "code",
    "id": "F2AJcW2F-Fms"
   },
   "outputs": [],
   "source": [
    "import matplotlib.pyplot as plt # uncomment to run"
   ]
  },
  {
   "cell_type": "markdown",
   "metadata": {
    "colab_type": "text",
    "id": "3931YGZE-Fm5"
   },
   "source": [
    "When plotting a graph with `matplotlib`, you decide how you want to view the plot. You can use:\n",
    "0. `pyplot.show()`: see the plot immediately\n",
    "0. `pyplot.savefig()`: save the plot to a file"
   ]
  },
  {
   "cell_type": "markdown",
   "metadata": {
    "colab_type": "text",
    "collapsed": true,
    "id": "AyaqWqbG-Fm-"
   },
   "source": [
    "You can also plot the graph _directly in the notebook_."
   ]
  },
  {
   "cell_type": "code",
   "execution_count": 6,
   "metadata": {
    "colab": {},
    "colab_type": "code",
    "id": "nmB8MVv5-FnC"
   },
   "outputs": [],
   "source": [
    "%matplotlib inline"
   ]
  },
  {
   "cell_type": "markdown",
   "metadata": {
    "colab_type": "text",
    "id": "Jf53hIFb-FnY"
   },
   "source": [
    "The `pandas` library also provides plotting functionality, which we can use directly on the dataframes we learned about earlier.\n",
    "\n",
    "We import the pandas library and rename it to `pd`,  because `pd` is shorter to type than `pandas`. Similarly, we import `seaborn` library."
   ]
  },
  {
   "cell_type": "code",
   "execution_count": 7,
   "metadata": {
    "colab": {},
    "colab_type": "code",
    "id": "PGaPXnDw-Fnh"
   },
   "outputs": [],
   "source": [
    "import pandas as pd\n",
    "import seaborn as sns"
   ]
  },
  {
   "cell_type": "markdown",
   "metadata": {
    "colab_type": "text",
    "id": "WPY9e8R--Fnt"
   },
   "source": [
    "## Plotting Data"
   ]
  },
  {
   "cell_type": "markdown",
   "metadata": {
    "colab_type": "text",
    "id": "px_01ItU-Fnx"
   },
   "source": [
    "### Line graphs\n",
    "\n",
    "A line graph is a great way to visualize trends and variations in data over a period of time. Suppose you have the following data on Bitcoin. You'd like to see how the price of Bitcoin varies over time. Let's start by loading the data and understanding its contents."
   ]
  },
  {
   "cell_type": "code",
   "execution_count": 8,
   "metadata": {
    "colab": {},
    "colab_type": "code",
    "id": "xYCmrmRJ-Fn1"
   },
   "outputs": [],
   "source": [
    "bitcoin = pd.read_csv('coindesk-bpi-USD-close_data-2017-11-22_2017-11-23.csv', sep=',') #load the data"
   ]
  },
  {
   "cell_type": "code",
   "execution_count": 9,
   "metadata": {
    "colab": {},
    "colab_type": "code",
    "id": "Ztw8QHgj-FoB"
   },
   "outputs": [
    {
     "data": {
      "text/html": [
       "<div>\n",
       "<style scoped>\n",
       "    .dataframe tbody tr th:only-of-type {\n",
       "        vertical-align: middle;\n",
       "    }\n",
       "\n",
       "    .dataframe tbody tr th {\n",
       "        vertical-align: top;\n",
       "    }\n",
       "\n",
       "    .dataframe thead th {\n",
       "        text-align: right;\n",
       "    }\n",
       "</style>\n",
       "<table border=\"1\" class=\"dataframe\">\n",
       "  <thead>\n",
       "    <tr style=\"text-align: right;\">\n",
       "      <th></th>\n",
       "      <th>Date</th>\n",
       "      <th>Close Price</th>\n",
       "    </tr>\n",
       "  </thead>\n",
       "  <tbody>\n",
       "    <tr>\n",
       "      <th>2206</th>\n",
       "      <td>2017-11-23 12:47:00</td>\n",
       "      <td>8169.01</td>\n",
       "    </tr>\n",
       "    <tr>\n",
       "      <th>2207</th>\n",
       "      <td>2017-11-23 12:48:00</td>\n",
       "      <td>8172.60</td>\n",
       "    </tr>\n",
       "    <tr>\n",
       "      <th>2208</th>\n",
       "      <td>2017-11-23 12:49:00</td>\n",
       "      <td>8174.09</td>\n",
       "    </tr>\n",
       "    <tr>\n",
       "      <th>2209</th>\n",
       "      <td>This data was produced from the CoinDesk price...</td>\n",
       "      <td>NaN</td>\n",
       "    </tr>\n",
       "    <tr>\n",
       "      <th>2210</th>\n",
       "      <td>http://www.coindesk.com/price/</td>\n",
       "      <td>NaN</td>\n",
       "    </tr>\n",
       "  </tbody>\n",
       "</table>\n",
       "</div>"
      ],
      "text/plain": [
       "                                                   Date  Close Price\n",
       "2206                                2017-11-23 12:47:00      8169.01\n",
       "2207                                2017-11-23 12:48:00      8172.60\n",
       "2208                                2017-11-23 12:49:00      8174.09\n",
       "2209  This data was produced from the CoinDesk price...          NaN\n",
       "2210                     http://www.coindesk.com/price/          NaN"
      ]
     },
     "execution_count": 9,
     "metadata": {},
     "output_type": "execute_result"
    }
   ],
   "source": [
    "bitcoin.tail() #observe the data to understand variables present, in this case, the bottom end of the dataset"
   ]
  },
  {
   "cell_type": "markdown",
   "metadata": {
    "colab_type": "text",
    "id": "sWX3SRJF-FoT"
   },
   "source": [
    "From the previous command, note how there are 3 columns: an index, Date and Close Price of the bitcoin at the date and time indicated, except for the last 2 rows. Let's continue observing the data. You can add cells to observe the data beyond the steps we've given you e.g. What type of data is in each column? What is the frequency of data collection? How many rows and columns does the dataset have? Run the command in the cell below to find out."
   ]
  },
  {
   "cell_type": "code",
   "execution_count": 10,
   "metadata": {
    "colab": {},
    "colab_type": "code",
    "id": "ZFFO9x9m-FoX"
   },
   "outputs": [
    {
     "data": {
      "text/plain": [
       "(2211, 2)"
      ]
     },
     "execution_count": 10,
     "metadata": {},
     "output_type": "execute_result"
    }
   ],
   "source": [
    "#enter a command to find out shape of the dataset.\n",
    "bitcoin.shape"
   ]
  },
  {
   "cell_type": "code",
   "execution_count": 11,
   "metadata": {},
   "outputs": [
    {
     "name": "stdout",
     "output_type": "stream",
     "text": [
      "<class 'pandas.core.frame.DataFrame'>\n",
      "RangeIndex: 2211 entries, 0 to 2210\n",
      "Data columns (total 2 columns):\n",
      "Date           2211 non-null object\n",
      "Close Price    2209 non-null float64\n",
      "dtypes: float64(1), object(1)\n",
      "memory usage: 34.6+ KB\n"
     ]
    }
   ],
   "source": [
    "#type of data in each colunn\n",
    "bitcoin.info()"
   ]
  },
  {
   "cell_type": "markdown",
   "metadata": {
    "colab_type": "text",
    "id": "A0zeXM0p-Foi"
   },
   "source": [
    "Now that we understand how the data is organised, we'll explore what it tells us about bitcoins using different visualization tools. we will see how the price of bitcoin varied over the time period indicated in the file using a line graph. \n",
    "<p></p>\n",
    "To plot a line graph, we need at least two variables for the x and y axes. In this case, we need the time and bitcoin closing price. If you checked the data types for the dataset, you should have seen that the <i>Date</i> column is of the type <b>str</b>. It is cumbersome to plot strings so first, we need to change the <i> Date</i> from str to something more user-friendly. For this example, we will use time. \n",
    "\n"
   ]
  },
  {
   "cell_type": "code",
   "execution_count": 12,
   "metadata": {
    "colab": {},
    "colab_type": "code",
    "id": "W22ORZYT-Fon"
   },
   "outputs": [],
   "source": [
    "bitcoin['Date'] = pd.to_datetime(bitcoin['Date'], format='%Y-%m-%d %H:%M',errors ='coerce') \n",
    "# line above converts Date from string to timestamp format"
   ]
  },
  {
   "cell_type": "markdown",
   "metadata": {
    "colab_type": "text",
    "id": "ZjALCwJ0-Foy"
   },
   "source": [
    "Recall when you used bitcoin.tail(), there were two rows at the end were just information about the data but not actual bitcoin prices. Converting from string to Timestamp as done above did not remove these values. Thereofore, before proceeding to plot anything, we need to remove these values."
   ]
  },
  {
   "cell_type": "code",
   "execution_count": 13,
   "metadata": {
    "colab": {},
    "colab_type": "code",
    "id": "9Z5-QTa8-Fo5"
   },
   "outputs": [
    {
     "data": {
      "text/html": [
       "<div>\n",
       "<style scoped>\n",
       "    .dataframe tbody tr th:only-of-type {\n",
       "        vertical-align: middle;\n",
       "    }\n",
       "\n",
       "    .dataframe tbody tr th {\n",
       "        vertical-align: top;\n",
       "    }\n",
       "\n",
       "    .dataframe thead th {\n",
       "        text-align: right;\n",
       "    }\n",
       "</style>\n",
       "<table border=\"1\" class=\"dataframe\">\n",
       "  <thead>\n",
       "    <tr style=\"text-align: right;\">\n",
       "      <th></th>\n",
       "      <th>Date</th>\n",
       "      <th>Close Price</th>\n",
       "    </tr>\n",
       "  </thead>\n",
       "  <tbody>\n",
       "    <tr>\n",
       "      <th>2206</th>\n",
       "      <td>2017-11-23 12:47:00</td>\n",
       "      <td>8169.01</td>\n",
       "    </tr>\n",
       "    <tr>\n",
       "      <th>2207</th>\n",
       "      <td>2017-11-23 12:48:00</td>\n",
       "      <td>8172.60</td>\n",
       "    </tr>\n",
       "    <tr>\n",
       "      <th>2208</th>\n",
       "      <td>2017-11-23 12:49:00</td>\n",
       "      <td>8174.09</td>\n",
       "    </tr>\n",
       "    <tr>\n",
       "      <th>2209</th>\n",
       "      <td>NaT</td>\n",
       "      <td>NaN</td>\n",
       "    </tr>\n",
       "    <tr>\n",
       "      <th>2210</th>\n",
       "      <td>NaT</td>\n",
       "      <td>NaN</td>\n",
       "    </tr>\n",
       "  </tbody>\n",
       "</table>\n",
       "</div>"
      ],
      "text/plain": [
       "                    Date  Close Price\n",
       "2206 2017-11-23 12:47:00      8169.01\n",
       "2207 2017-11-23 12:48:00      8172.60\n",
       "2208 2017-11-23 12:49:00      8174.09\n",
       "2209                 NaT          NaN\n",
       "2210                 NaT          NaN"
      ]
     },
     "execution_count": 13,
     "metadata": {},
     "output_type": "execute_result"
    }
   ],
   "source": [
    "bitcoin.tail() #conversion to timestamp did not remove the values but still changed them because of the errors part of the code"
   ]
  },
  {
   "cell_type": "code",
   "execution_count": 14,
   "metadata": {
    "colab": {},
    "colab_type": "code",
    "id": "Qdp-luvS-FpJ"
   },
   "outputs": [],
   "source": [
    "bitcoin_clean = bitcoin.dropna(axis =0 , how ='any') #removes rows that are not a number."
   ]
  },
  {
   "cell_type": "markdown",
   "metadata": {
    "colab_type": "text",
    "id": "0W_Tijg6-Fpc"
   },
   "source": [
    "Now that we have: 1) converted Date from strings to timestamp and 2) removed non-numeric data irrelevant for bitcoin price, we can proceed to plot our line graph and see how bitcoin prices changed between November 22 and November 23, 2017."
   ]
  },
  {
   "cell_type": "code",
   "execution_count": 15,
   "metadata": {
    "colab": {},
    "colab_type": "code",
    "id": "jbYte1-O-Fph"
   },
   "outputs": [
    {
     "data": {
      "text/plain": [
       "[<matplotlib.lines.Line2D at 0x1b2ee5ff5f8>]"
      ]
     },
     "execution_count": 15,
     "metadata": {},
     "output_type": "execute_result"
    },
    {
     "data": {
      "image/png": "[encoded data removed]",
      "text/plain": [
       "<Figure size 1440x720 with 1 Axes>"
      ]
     },
     "metadata": {
      "needs_background": "light"
     },
     "output_type": "display_data"
    }
   ],
   "source": [
    "time_= bitcoin_clean['Date'].tolist()               #store the timestamp in a separate list to be used later\n",
    "plt.figure(figsize=(20,10))               # set size of plot figure\n",
    "plt.plot(time_,                           # plto the time (x-axis) against\n",
    "            bitcoin_clean['Close Price'],   # bitcoin closing price (y-axis)\n",
    "            'r--')                          # plot a dashed red line "
   ]
  },
  {
   "cell_type": "markdown",
   "metadata": {
    "colab_type": "text",
    "id": "vJUq5lnz-Fpq"
   },
   "source": [
    "Over the time period indicated, the price of Bitcoin has fluctuated around a little bit over 200USD."
   ]
  },
  {
   "cell_type": "markdown",
   "metadata": {
    "colab_type": "text",
    "id": "QqBW16k9-Fpu"
   },
   "source": [
    "### Bar graphs\n",
    "\n",
    "We can plot the same numerical data with a bar graph.\n",
    "\n"
   ]
  },
  {
   "cell_type": "code",
   "execution_count": 16,
   "metadata": {
    "colab": {},
    "colab_type": "code",
    "id": "n6aF1SXY-Fpx"
   },
   "outputs": [
    {
     "data": {
      "text/plain": [
       "<BarContainer object of 2209 artists>"
      ]
     },
     "execution_count": 16,
     "metadata": {},
     "output_type": "execute_result"
    },
    {
     "data": {
      "image/png": "[encoded data removed]",
      "text/plain": [
       "<Figure size 1440x720 with 1 Axes>"
      ]
     },
     "metadata": {
      "needs_background": "light"
     },
     "output_type": "display_data"
    }
   ],
   "source": [
    "plt.figure(figsize=(20,10))               # set size of plot figure\n",
    "plt.bar(time_,                            # x-axis\n",
    "           bitcoin_clean['Close Price'])     # y-axis\n",
    "                       "
   ]
  },
  {
   "cell_type": "markdown",
   "metadata": {
    "colab_type": "text",
    "id": "Weyf06mb-FqH"
   },
   "source": [
    "This bar graph is a bit cluttered because a bar is given for each day of the month for which the price of bitcoin was collected. Avoid using a bar graph if you have many data points to plot. Bar graphs can also be used to plot categorical data using bar graphs. "
   ]
  },
  {
   "cell_type": "markdown",
   "metadata": {
    "colab_type": "text",
    "id": "z9XXu4vN-FqK"
   },
   "source": [
    "### Histograms"
   ]
  },
  {
   "cell_type": "markdown",
   "metadata": {
    "colab_type": "text",
    "id": "fiddfH_O-FqO"
   },
   "source": [
    "We can use histograms to see how the data is distributed across intervals. In this example, we group the price of Bitcoin into intervals on the horizontal axis while the vertical axis shows how many minutes recorded prices in that interval. We see peaks in the intervals around 8150USD and 8250USD."
   ]
  },
  {
   "cell_type": "code",
   "execution_count": 17,
   "metadata": {
    "colab": {},
    "colab_type": "code",
    "id": "VboGN5Bs-FqR"
   },
   "outputs": [
    {
     "data": {
      "text/plain": [
       "Text(0.5, 0, 'Close price')"
      ]
     },
     "execution_count": 17,
     "metadata": {},
     "output_type": "execute_result"
    },
    {
     "data": {
      "image/png": "[encoded data removed]",
      "text/plain": [
       "<Figure size 720x576 with 1 Axes>"
      ]
     },
     "metadata": {
      "needs_background": "light"
     },
     "output_type": "display_data"
    }
   ],
   "source": [
    "bitcoin.plot(kind='hist',      # choose a plot type for pandas dataframe object\n",
    "             figsize=(10,8))   # set the figure size directly with pandas plot\n",
    "plt.xlabel('Close price')   # label the horizontal axis"
   ]
  },
  {
   "cell_type": "markdown",
   "metadata": {
    "colab_type": "text",
    "id": "6WL8kA9M-Fqd"
   },
   "source": [
    "### Scatter plots"
   ]
  },
  {
   "cell_type": "markdown",
   "metadata": {
    "colab_type": "text",
    "id": "HlS83Q5Q-Fqf"
   },
   "source": [
    "Scatter plots are used to study relationships between data points in a dataset. We use them to look for correlations between data points. We plot the data points in pairs, with the independent data point usually on the x-axis and the dependent data point on the y-axis.  \n",
    "\n",
    "The scatter plot below fails to show any correlation between the bitcoin price and time. "
   ]
  },
  {
   "cell_type": "code",
   "execution_count": 18,
   "metadata": {
    "colab": {},
    "colab_type": "code",
    "id": "jFaEPMAZ-Fqi"
   },
   "outputs": [
    {
     "data": {
      "text/plain": [
       "<matplotlib.collections.PathCollection at 0x1b2f13ad358>"
      ]
     },
     "execution_count": 18,
     "metadata": {},
     "output_type": "execute_result"
    },
    {
     "data": {
      "image/png": "[encoded data removed]",
      "text/plain": [
       "<Figure size 720x576 with 1 Axes>"
      ]
     },
     "metadata": {
      "needs_background": "light"
     },
     "output_type": "display_data"
    }
   ],
   "source": [
    "plt.figure(figsize=(10,8))\n",
    "plt.scatter(time_,\n",
    "               bitcoin_clean['Close Price'],\n",
    "               s=30, \n",
    "               c='green', \n",
    "               marker='o', \n",
    "               alpha=.5)"
   ]
  },
  {
   "cell_type": "markdown",
   "metadata": {
    "colab_type": "text",
    "id": "NFeKohBY-Fqs"
   },
   "source": [
    "The two lists in the first arguments of the scatter function are the x and y values. And the additional arguments are:\n",
    "\n",
    "    `s=5`: sets the size of the dots to 5 pixels\n",
    "    `green`:  will colour the dots green. Choose other options like 'r'\n",
    "    `marker='o'`: will draw a circle for each data point plotted\n",
    "    `alpha=0.2`: will change the transparency of the line (0<=alpha<=1).\n",
    "    \n",
    "<p></p>\n",
    "To learn more about the scatter function, you can uncomment and run the cell below.\n",
    "\n",
    "    "
   ]
  },
  {
   "cell_type": "code",
   "execution_count": null,
   "metadata": {
    "colab": {},
    "colab_type": "code",
    "id": "AQZm1ROw-Fqw"
   },
   "outputs": [],
   "source": [
    "plt.scatter?"
   ]
  },
  {
   "cell_type": "code",
   "execution_count": null,
   "metadata": {
    "colab": {},
    "colab_type": "code",
    "id": "YVGscTwS-Fq8"
   },
   "outputs": [],
   "source": [
    "help(plt.scatter)"
   ]
  },
  {
   "cell_type": "markdown",
   "metadata": {
    "colab_type": "text",
    "id": "e5gfSnMb-FrH"
   },
   "source": [
    "Matplotlib can be used to generate more visualization tools e.g. tables. To explore this further, you can refer to matplotlib documentation and try to create a table representing the bitcoin closing prices as a percentage of all recorded prices. e.g. 8150 occurred X% of the time between Nov 22 and Nov 23. Consult with your peers, online resources and finally your moderators if necessary."
   ]
  },
  {
   "cell_type": "markdown",
   "metadata": {
    "colab_type": "text",
    "id": "Opve2byl-FrK"
   },
   "source": [
    "## Plotting functions"
   ]
  },
  {
   "cell_type": "markdown",
   "metadata": {
    "colab_type": "text",
    "id": "NpWN1iLw-FrN"
   },
   "source": [
    "Now, let's experiment with Matplotlib and Numpy. Besides plotting existing data, you can also plot functions using Matplotlib. Earlier on, we also went through how Numpy is useful for mathematical operations on matrices and arrays. In the following steps, we will see how Matplotlib and Numpy can be used together in visualizing functions. How about plotting simple functions like $$y_1 = 2x + 3,$$ and another set of points $$y_2 = -3x - 5?$$\n",
    "\n",
    " \n"
   ]
  },
  {
   "cell_type": "markdown",
   "metadata": {
    "colab_type": "text",
    "id": "ZNdeiEKp-FrR"
   },
   "source": [
    "Let's generate $x$ data points that lie between $-10$ and $10$. We will use the numpy `arange()` function to generate these points."
   ]
  },
  {
   "cell_type": "code",
   "execution_count": 19,
   "metadata": {
    "colab": {},
    "colab_type": "code",
    "id": "qMk6XLMC-FrT"
   },
   "outputs": [],
   "source": [
    "import numpy as np #first import the relevant library"
   ]
  },
  {
   "cell_type": "code",
   "execution_count": 20,
   "metadata": {
    "colab": {},
    "colab_type": "code",
    "id": "nmSJKW4_-Frh"
   },
   "outputs": [
    {
     "data": {
      "text/plain": [
       "array([-10,  -9,  -8,  -7,  -6,  -5,  -4,  -3,  -2,  -1,   0,   1,   2,\n",
       "         3,   4,   5,   6,   7,   8,   9])"
      ]
     },
     "execution_count": 20,
     "metadata": {},
     "output_type": "execute_result"
    }
   ],
   "source": [
    "x = np.arange(-10, 10)\n",
    "x"
   ]
  },
  {
   "cell_type": "markdown",
   "metadata": {
    "colab_type": "text",
    "id": "YFUOxVl_-Fru"
   },
   "source": [
    "Next, let's generate our $y$ data. Again we use `numpy` (which we renamed `np`). For equation $$y_1 = 2x + 3,$$ we use the variable `y1` in our code for the $y$ values. \n",
    "\n",
    "Using list comprehension, we calculate the question $y_1 = 2x + 3$ and store the information in the variable `y1`."
   ]
  },
  {
   "cell_type": "code",
   "execution_count": 21,
   "metadata": {
    "colab": {},
    "colab_type": "code",
    "id": "vCwrQXc0-Fr0"
   },
   "outputs": [],
   "source": [
    "y1 = [(i*2 + 3) for i in x]"
   ]
  },
  {
   "cell_type": "markdown",
   "metadata": {
    "colab_type": "text",
    "id": "iUySaqxT-Fr-"
   },
   "source": [
    "We now use the `matplotlib` module by calling the function `plot` to plot our data points."
   ]
  },
  {
   "cell_type": "code",
   "execution_count": 22,
   "metadata": {
    "colab": {},
    "colab_type": "code",
    "id": "nRHFWGaH-FsC"
   },
   "outputs": [
    {
     "data": {
      "text/plain": [
       "[<matplotlib.lines.Line2D at 0x1ee973936d8>]"
      ]
     },
     "execution_count": 22,
     "metadata": {},
     "output_type": "execute_result"
    },
    {
     "data": {
      "image/png": "[encoded data removed]",
      "text/plain": [
       "<Figure size 432x288 with 1 Axes>"
      ]
     },
     "metadata": {
      "needs_background": "light"
     },
     "output_type": "display_data"
    }
   ],
   "source": [
    "plt.plot(x, y1)"
   ]
  },
  {
   "cell_type": "markdown",
   "metadata": {
    "colab_type": "text",
    "id": "YocAf7Vj-FsK"
   },
   "source": [
    "The `plot` function takes many arguments. The main arguments are the $x$ and $y$ data points. \n",
    "\n",
    "For equation $$y_2 = -3x - 5,$$ we use the variable `y2` in our code for the $y$ values. We can plot this equation on the same plot as the first equation. "
   ]
  },
  {
   "cell_type": "code",
   "execution_count": 27,
   "metadata": {
    "colab": {},
    "colab_type": "code",
    "id": "Zz0Sw9Dq-FsN"
   },
   "outputs": [
    {
     "data": {
      "text/plain": [
       "[<matplotlib.lines.Line2D at 0x1ee9757d898>,\n",
       " <matplotlib.lines.Line2D at 0x1ee9757d9b0>]"
      ]
     },
     "execution_count": 27,
     "metadata": {},
     "output_type": "execute_result"
    },
    {
     "data": {
      "image/png": "[encoded data removed]",
      "text/plain": [
       "<Figure size 432x288 with 1 Axes>"
      ]
     },
     "metadata": {
      "needs_background": "light"
     },
     "output_type": "display_data"
    }
   ],
   "source": [
    "y2 = [((-3*i) - 5) for i in x]\n",
    "plt.plot(x, y1, 'g', x, y2, 'r', marker='*', linewidth=3, alpha=0.7)"
   ]
  },
  {
   "cell_type": "markdown",
   "metadata": {
    "colab_type": "text",
    "id": "z5orAexY-FsV"
   },
   "source": [
    "#### Note the additional input arguments\n",
    "\n",
    "    `g`:  will colour the line green. You can choose other options like 'r'for red\n",
    "    `marker='*'`: will draw an asterisk for each data point plotted\n",
    "    `alpha=0.2`: will change the transparency of the line (0<=alpha<=1).\n",
    "    `linewidth=3: sets the width of the line to 3 pixels\n",
    "    \n",
    "   \n",
    "For a complete listing of the styles of lines, see the [`plot() documentation`](http://matplotlib.org/api/pyplot_api.html#matplotlib.pyplot.plot)."
   ]
  },
  {
   "cell_type": "code",
   "execution_count": 24,
   "metadata": {
    "colab": {},
    "colab_type": "code",
    "id": "UHUxKLeM-FsZ"
   },
   "outputs": [],
   "source": [
    "#write your own code changing the input arguments and compare to the plot above"
   ]
  },
  {
   "cell_type": "markdown",
   "metadata": {
    "colab_type": "text",
    "id": "8EZiA8Cx-Fsh"
   },
   "source": [
    "<b>Do it yourself exercise</b>: Add a third line to the same plot. This time use a new equation $y = x$. There should be 3 lines on the graph."
   ]
  },
  {
   "cell_type": "code",
   "execution_count": 55,
   "metadata": {
    "colab": {},
    "colab_type": "code",
    "id": "IACXw0Yw-Fsl"
   },
   "outputs": [
    {
     "data": {
      "text/plain": [
       "[<matplotlib.lines.Line2D at 0x1de1af7b390>,\n",
       " <matplotlib.lines.Line2D at 0x1de1af7b4a8>,\n",
       " <matplotlib.lines.Line2D at 0x1de1af7b828>]"
      ]
     },
     "execution_count": 55,
     "metadata": {},
     "output_type": "execute_result"
    },
    {
     "data": {
      "image/png": "[encoded data removed]",
      "text/plain": [
       "<Figure size 432x288 with 1 Axes>"
      ]
     },
     "metadata": {
      "needs_background": "light"
     },
     "output_type": "display_data"
    }
   ],
   "source": [
    "#plot with third line.\n",
    "y3=x\n",
    "plt.plot(x, y1, 'g', x, y2, 'r', x,y3,'k',marker='*', linewidth=3, alpha=.2)"
   ]
  },
  {
   "cell_type": "markdown",
   "metadata": {
    "colab_type": "text",
    "id": "JCNjCkWN-Fsz"
   },
   "source": [
    "## Modifying your plots\n",
    "\n",
    "You can modify the plot to suit your requirements. You can create a subplot and add axes for different plots to the subplot. You can also change the length of the axes, add labels to the axes, add legends to the plot. Let's illustrate these with a simple example."
   ]
  },
  {
   "cell_type": "code",
   "execution_count": 56,
   "metadata": {
    "colab": {},
    "colab_type": "code",
    "id": "0ZwE1EpY-Fs1"
   },
   "outputs": [],
   "source": [
    "x = np.arange(-10, 10) #create x data similar to Plotting Functions example\n",
    "y = [((-3*i) - 5) for i in x]"
   ]
  },
  {
   "cell_type": "markdown",
   "metadata": {
    "colab_type": "text",
    "id": "d4plynnJ-FtU"
   },
   "source": [
    "### Change length of axes"
   ]
  },
  {
   "cell_type": "code",
   "execution_count": 57,
   "metadata": {
    "colab": {},
    "colab_type": "code",
    "id": "xnnc08zr-FtY"
   },
   "outputs": [
    {
     "data": {
      "text/plain": [
       "[<matplotlib.lines.Line2D at 0x1de1afb45c0>]"
      ]
     },
     "execution_count": 57,
     "metadata": {},
     "output_type": "execute_result"
    },
    {
     "data": {
      "image/png": "[encoded data removed]",
      "text/plain": [
       "<Figure size 432x288 with 1 Axes>"
      ]
     },
     "metadata": {
      "needs_background": "light"
     },
     "output_type": "display_data"
    }
   ],
   "source": [
    "fig = plt.figure()            # create a figure object\n",
    "ax = plt.subplot(111)         # create 1 grid with 1 subplot\n",
    "plt.xlim(-30,30)              # change size of horizontal axis\n",
    "plt.ylim(-30,30)              # change size of vertical axis\n",
    "ax.plot(x, y)               # add plot to subplot"
   ]
  },
  {
   "cell_type": "markdown",
   "metadata": {
    "colab_type": "text",
    "id": "_98P68E_-Ftv"
   },
   "source": [
    "### Add labels to your plot\n",
    "\n",
    "We want to plot and label the data points given above. We'll create a subplot and add a title to our subplot. The subplot will also contain a legend. The legend command forces the legend to appear."
   ]
  },
  {
   "cell_type": "code",
   "execution_count": 58,
   "metadata": {
    "colab": {},
    "colab_type": "code",
    "id": "K5_jRPiv-Ft5"
   },
   "outputs": [
    {
     "data": {
      "text/plain": [
       "<matplotlib.legend.Legend at 0x1de1b02df60>"
      ]
     },
     "execution_count": 58,
     "metadata": {},
     "output_type": "execute_result"
    },
    {
     "data": {
      "image/png": "[encoded data removed]",
      "text/plain": [
       "<Figure size 432x288 with 1 Axes>"
      ]
     },
     "metadata": {
      "needs_background": "light"
     },
     "output_type": "display_data"
    }
   ],
   "source": [
    "fig = plt.figure()            # create a figure object\n",
    "ax = plt.subplot(111)         # create 1 grid with 1 subplot\n",
    "ax.plot(x, y, label=\"$y=-3x-5$\")  # label the subplot. $ indicates that the label should appear as an equation\n",
    "plt.title('A line graph')     # add title to figure\n",
    "ax.legend(loc='upper right')      # set location loc of legend to upper left corner "
   ]
  },
  {
   "cell_type": "markdown",
   "metadata": {
    "colab_type": "text",
    "id": "zm9Jagr6-FuG"
   },
   "source": [
    "### Multiple plots in the same figure\n",
    "\n",
    "We can even put more than one plot in a figure by using `subplot()`. For example, we could divide a figure vertically into two subplots, by creating a 1 by 2 grid and positioning the figures in the columns. The first subplot has its own axis, so does the second subplot."
   ]
  },
  {
   "cell_type": "markdown",
   "metadata": {
    "colab_type": "text",
    "id": "w-7u9fKv-FuP"
   },
   "source": [
    "Now, let's create a suplot for the two functions we defined above: y1 and y2."
   ]
  },
  {
   "cell_type": "code",
   "execution_count": 59,
   "metadata": {
    "colab": {},
    "colab_type": "code",
    "id": "jLBNEIdo-FuY"
   },
   "outputs": [
    {
     "data": {
      "text/plain": [
       "[<matplotlib.lines.Line2D at 0x1de1b0d1d68>]"
      ]
     },
     "execution_count": 59,
     "metadata": {},
     "output_type": "execute_result"
    },
    {
     "data": {
      "image/png": "[encoded data removed]",
      "text/plain": [
       "<Figure size 432x288 with 2 Axes>"
      ]
     },
     "metadata": {
      "needs_background": "light"
     },
     "output_type": "display_data"
    }
   ],
   "source": [
    "ax = plt.subplot(1,2,1)  # 1 by 2 grid, first grid\n",
    "ax1 = plt.subplot(1,2,2) # 1 by 2 grid, second grid\n",
    "ax.plot(x, y1)\n",
    "ax1.plot(x,y)\n"
   ]
  },
  {
   "cell_type": "markdown",
   "metadata": {
    "colab_type": "text",
    "collapsed": true,
    "id": "r42a86Eb-Fuj"
   },
   "source": [
    "As always, if you need more information about subploting, you can refer to the help documentation. Uncomment and run the cell below if necessary"
   ]
  },
  {
   "cell_type": "code",
   "execution_count": 0,
   "metadata": {
    "colab": {},
    "colab_type": "code",
    "collapsed": true,
    "id": "r8GMt7QC-Fum"
   },
   "outputs": [],
   "source": [
    "#help(pyplot.subplot)"
   ]
  },
  {
   "cell_type": "markdown",
   "metadata": {
    "colab_type": "text",
    "id": "J3MfslPs-Fut"
   },
   "source": [
    "## References"
   ]
  },
  {
   "cell_type": "markdown",
   "metadata": {
    "colab_type": "text",
    "id": "eDI-ICFk-Fuw"
   },
   "source": [
    "\n",
    "For more information on Matplotlib, see this link: <a href=\"http://matplotlib.org/\">matplotlib</a>\n",
    "\n",
    "For more information on color maps in Matplotlib, see <a href='http://matplotlib.org/examples/color/colormaps_reference.html'>color example code: colormaps_reference.py</a>\n",
    "\n",
    "For more on Seaborn, see <a href=\"http://seaborn.pydata.org\">Seaborn: Statistical Data Visualization</a>\n",
    "\n",
    "For designing charts and visualizations, see this insightful link [Designing Charts and Graphs: How to Choose the Right Data Visualization Types](https://www.datapine.com/blog/how-to-choose-the-right-data-visualization-types/)\n",
    "\n",
    "See the Matplotlib Pyplot gallery for more on different [plots](Matplotlib has great documentation on bar graphs [here](http://matplotlib.org/api/pyplot_api.html#matplotlib.pyplot.bar).\n",
    "\n"
   ]
  }
 ],
 "metadata": {
  "colab": {
   "name": "dav_02_visualizing_data_with_python.ipynb",
   "provenance": [],
   "version": "0.3.2"
  },
  "kernelspec": {
   "display_name": "Python 3",
   "language": "python",
   "name": "python3"
  },
  "language_info": {
   "codemirror_mode": {
    "name": "ipython",
    "version": 3
   },
   "file_extension": ".py",
   "mimetype": "text/x-python",
   "name": "python",
   "nbconvert_exporter": "python",
   "pygments_lexer": "ipython3",
   "version": "3.7.1"
  }
 },
 "nbformat": 4,
 "nbformat_minor": 1
}
