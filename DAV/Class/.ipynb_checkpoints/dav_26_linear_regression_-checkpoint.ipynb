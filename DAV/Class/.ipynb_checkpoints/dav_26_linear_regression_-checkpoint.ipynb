{
 "cells": [
  {
   "cell_type": "markdown",
   "metadata": {},
   "source": [
    "# 1. Linear Regression"
   ]
  },
  {
   "cell_type": "markdown",
   "metadata": {},
   "source": [
    "This notebook contains examples accompanying the section on regression, and includes polynomial regression and overfitting."
   ]
  },
  {
   "cell_type": "markdown",
   "metadata": {},
   "source": [
    "Importing the necessary libraries."
   ]
  },
  {
   "cell_type": "code",
   "execution_count": 1,
   "metadata": {},
   "outputs": [],
   "source": [
    "import numpy as np\n",
    "import pandas as pd\n",
    "import matplotlib.pyplot as plt\n",
    "import scipy.stats as stats"
   ]
  },
  {
   "cell_type": "code",
   "execution_count": 2,
   "metadata": {},
   "outputs": [],
   "source": [
    "%matplotlib inline # to show plots immediately"
   ]
  },
  {
   "cell_type": "markdown",
   "metadata": {},
   "source": [
    "## 1.1 Example 1: Linear Regression - Manually Estimating Parameters"
   ]
  },
  {
   "cell_type": "markdown",
   "metadata": {},
   "source": [
    "Run the cell below, and adjust the sliders to set $m$ and $c$. Use this to answer Exercise VQ 7.1.2.1."
   ]
  },
  {
   "cell_type": "code",
   "execution_count": 126,
   "metadata": {},
   "outputs": [],
   "source": [
    "# some data to plot\n",
    "xvals = np.arange(0.0, 50.0, 2.0)\n",
    "yvals = [49.27787,54.81756,59.81878,52.21263,75.25958,88.22670,82.62580,81.36920,\n",
    "     103.8306,90.49777,112.2656,114.0938,129.4082,127.9359,117.6020,150.7166,\n",
    "     136.3856,149.1376,171.1495,157.3688,175.5486,192.3096,177.6935,191.4740,196.3582]\n",
    "\n",
    "# show the points (x[] and y[]) and the line of best fit determined by y = mx + c, where \n",
    "# m is the gradient and c in the intercept (y value when x=0, or where the line crosses the y axis)\n",
    "def plot_line(x, y, m, c):\n",
    "    # The points\n",
    "    plt.scatter(x, y,  c=\"g\", alpha=0.5,label=\"Points\")\n",
    "    #The Line\n",
    "    plt.plot(x, [m*x +c for x in x])\n",
    "    # Labels etc\n",
    "    plt.xlabel(\"X (Explanatory Variable)\")\n",
    "    plt.ylabel(\"Y (Dependant Variable)\")\n",
    "    plt.legend(loc=2)\n",
    "    plt.ylim([0, 200])\n"
   ]
  },
  {
   "cell_type": "markdown",
   "metadata": {},
   "source": [
    "Instead of calling our function `plot_line()` directly, we can use the following code to make it interactive. You do not need to know to do this, but it's a useful trick:"
   ]
  },
  {
   "cell_type": "code",
   "execution_count": 129,
   "metadata": {},
   "outputs": [
    {
     "data": {
      "application/vnd.jupyter.widget-view+json": {
       "model_id": "661c6274ee5d42fab48f10a3285bf3d1",
       "version_major": 2,
       "version_minor": 0
      },
      "text/html": [
       "<p>Failed to display Jupyter Widget of type <code>interactive</code>.</p>\n",
       "<p>\n",
       "  If you're reading this message in the Jupyter Notebook or JupyterLab Notebook, it may mean\n",
       "  that the widgets JavaScript is still loading. If this message persists, it\n",
       "  likely means that the widgets JavaScript library is either not installed or\n",
       "  not enabled. See the <a href=\"https://ipywidgets.readthedocs.io/en/stable/user_install.html\">Jupyter\n",
       "  Widgets Documentation</a> for setup instructions.\n",
       "</p>\n",
       "<p>\n",
       "  If you're reading this message in another frontend (for example, a static\n",
       "  rendering on GitHub or <a href=\"https://nbviewer.jupyter.org/\">NBViewer</a>),\n",
       "  it may mean that your frontend doesn't currently support widgets.\n",
       "</p>\n"
      ],
      "text/plain": [
       "interactive(children=(FloatSlider(value=0.0, description='m', max=5.0, min=-5.0), FloatSlider(value=75.0, description='c', max=150.0), Output()), _dom_classes=('widget-interact',))"
      ]
     },
     "metadata": {},
     "output_type": "display_data"
    }
   ],
   "source": [
    "from ipywidgets import interact, fixed\n",
    "import ipywidgets as widgets\n",
    "interact(plot_line, x=fixed(xvals),y =fixed(yvals), m=(-5.0, 5.0), c=(0, 150.0));"
   ]
  },
  {
   "cell_type": "markdown",
   "metadata": {},
   "source": [
    "## 1.2 Finding Line of best fit with Scikit-learn software"
   ]
  },
  {
   "cell_type": "markdown",
   "metadata": {},
   "source": [
    "Scikit-learn has done a good job of standardizing the way models, like regression, are built, but some of the terminology may seem strange if you're not familiar with machine learning. In general, the procedure for creating and using a model follows these steps:\n",
    "* Initialize the model - instantiating a model\n",
    "* Train (fit) the model - using some training data to find model parameters. In the case of linear regression, this is finding the line of best fit\n",
    "* Score the model - assessing how well it does\n",
    "* Use the model to make predictions\n",
    "\n",
    "We'll do this now, performing simple linear regression (one explanatory variable, one dependant variable) on some data.\n",
    "\n",
    "The dataset is small, and was downloaded from http://college.cengage.com/mathematics/brase/understandable_statistics/7e/students/datasets/mlr/frames/frame.html\n",
    "\n",
    "No need to download it yourself - the relevant columns are copied into arrays so we can get going. A description of the data is available on the site. The columns we'll be looking at are:\n",
    "* $X1$ = dollars/barrel crude oil (CRUDE)\n",
    "* $X2$ = % interest on ten yr. U.S. treasury notes (INTEREST)\n",
    "* $X6$ = purchasing power U.S. dollar (1983 base) (PP)\n",
    "* $X7$ = consumer debt/billions of dollars (DEBT)\n",
    "\n",
    "We'll try to predict the interest based on the other two variables"
   ]
  },
  {
   "cell_type": "code",
   "execution_count": 4,
   "metadata": {},
   "outputs": [],
   "source": [
    "# The data\n",
    "CRUDE = [10.9, 12, 12.5, 17.7, 28.1,35.6, 31.8, 29, 28.6, 26.8, 14.6, 17.9] #X1\n",
    "INTEREST = [7.61,7.42,8.41,9.44,11.46,13.91,13.00,11.11,12.44,10.62,7.68,8.38] #X2\n",
    "PP = [1.76,1.65,1.53,1.38,1.22,1.10,1.03,1.00,0.96,0.93,0.91,0.88] #X6\n",
    "DEBT = [234.40,263.80,308.30,347.50,349.40,366.60,381.10,430.40,511.80,592.40,646.10,685.50] #X7\n"
   ]
  },
  {
   "cell_type": "markdown",
   "metadata": {},
   "source": [
    "### 1.2.1 Initializing the model"
   ]
  },
  {
   "cell_type": "markdown",
   "metadata": {},
   "source": [
    "Let's get going:"
   ]
  },
  {
   "cell_type": "code",
   "execution_count": 67,
   "metadata": {},
   "outputs": [],
   "source": [
    "# import model from Scikit-learn's sklearn library\n",
    "from sklearn import linear_model\n",
    "\n",
    "# initialize the model, and name it lr1\n",
    "lr1 = linear_model.LinearRegression()"
   ]
  },
  {
   "cell_type": "markdown",
   "metadata": {},
   "source": [
    "Before we can perform the next step, we need to make sure our input data is in the right format. \n",
    "\n",
    "The expected input is an array of input variables $X$ and an array of the same length with the corresponding outputs $Y$.\n",
    "\n",
    "Because some models in `sklearn` can take multiple inputs, $X$ is not a simple 1D array, so calling \n",
    "\n",
    "`lr1.fit(X=CRUDE, y=INTEREST)` will not work. Instead, $X$ must be an array of arrays, with each array containing one or more input variables. So in out case, we want $X$ to look like\n",
    "`[[c0], [c1], [c2], [c3]...]` where `cN` are the elements of `CRUDE`.\n",
    "\n",
    "Below are two ways to turn `CRUDE` into an array of arrays."
   ]
  },
  {
   "cell_type": "code",
   "execution_count": 68,
   "metadata": {},
   "outputs": [],
   "source": [
    "# with the reshape function\n",
    "INPUT = np.array(CRUDE).reshape(-1, 1)"
   ]
  },
  {
   "cell_type": "code",
   "execution_count": null,
   "metadata": {},
   "outputs": [],
   "source": [
    "# or using list comprehension\n",
    "INPUT = [[c] for c in CRUDE]"
   ]
  },
  {
   "cell_type": "code",
   "execution_count": null,
   "metadata": {},
   "outputs": [],
   "source": []
  },
  {
   "cell_type": "markdown",
   "metadata": {},
   "source": [
    "### 1.2.2 Fitting the model"
   ]
  },
  {
   "cell_type": "markdown",
   "metadata": {},
   "source": [
    "Now we can actually fit the data to the model - calculating model parameters based on $X$ and $Y$."
   ]
  },
  {
   "cell_type": "code",
   "execution_count": 72,
   "metadata": {},
   "outputs": [
    {
     "name": "stdout",
     "output_type": "stream",
     "text": [
      "Intercept:  4.5256568624816\n",
      "Coefficient:  [0.25300233]\n"
     ]
    }
   ],
   "source": [
    "lr1.fit(X = INPUT,y = INTEREST)\n",
    "\n",
    "# We can extract the model parameters:\n",
    "print (\"Intercept: \", lr1.intercept_)\n",
    "print (\"Coefficient: \",lr1.coef_)\n"
   ]
  },
  {
   "cell_type": "markdown",
   "metadata": {},
   "source": [
    "Finally, we can plot both the input data and the line of best fit as determined by the model.\n",
    "Original data as scatter plot:"
   ]
  },
  {
   "cell_type": "code",
   "execution_count": 123,
   "metadata": {},
   "outputs": [
    {
     "data": {
      "image/png": "[encoded data removed]",
      "text/plain": [
       "<Figure size 432x288 with 1 Axes>"
      ]
     },
     "metadata": {},
     "output_type": "display_data"
    }
   ],
   "source": [
    "plt.scatter(CRUDE, INTEREST,  c=\"r\", alpha=0.5,label=\"Crude\")\n",
    "# line of best fit. NB, doing this manually based on the parameters\n",
    "plt.plot(CRUDE, [lr1.coef_*x +lr1.intercept_ for x in CRUDE]) # We could also use lr1.predict(x), as in next example\n",
    "plt.xlabel(\"CRUDE\")\n",
    "plt.ylabel(\"INTEREST\");"
   ]
  },
  {
   "cell_type": "code",
   "execution_count": null,
   "metadata": {},
   "outputs": [],
   "source": []
  },
  {
   "cell_type": "markdown",
   "metadata": {},
   "source": [
    "### 1.2.3 Practice"
   ]
  },
  {
   "cell_type": "markdown",
   "metadata": {},
   "source": [
    "For practice, try the same thing with the $x$ and $y$ values as in the first example and see how closely the calculated slope and intercept (model parameters) match your guess. The `xvals` has already been reshaped, so it can be passed into the `fit()` function as is."
   ]
  },
  {
   "cell_type": "code",
   "execution_count": 74,
   "metadata": {},
   "outputs": [],
   "source": [
    "xvals = np.arange(0.0, 50.0, 2.0).reshape(-1, 1)\n",
    "yvals = [49.27787,54.81756,59.81878,52.21263,75.25958,88.22670,82.62580,81.36920,\n",
    "     103.8306,90.49777,112.2656,114.0938,129.4082,127.9359,117.6020,150.7166,\n",
    "     136.3856,149.1376,171.1495,157.3688,175.5486,192.3096,177.6935,191.4740,196.3582]"
   ]
  },
  {
   "cell_type": "code",
   "execution_count": null,
   "metadata": {},
   "outputs": [],
   "source": [
    "# fit the data"
   ]
  },
  {
   "cell_type": "code",
   "execution_count": 75,
   "metadata": {},
   "outputs": [],
   "source": [
    "# print intercept and coefficient"
   ]
  },
  {
   "cell_type": "code",
   "execution_count": 76,
   "metadata": {},
   "outputs": [],
   "source": [
    "# plot the data and the prediction"
   ]
  },
  {
   "cell_type": "markdown",
   "metadata": {},
   "source": [
    "## 1.3 Multiple Regression"
   ]
  },
  {
   "cell_type": "markdown",
   "metadata": {},
   "source": [
    "We aren't constrained to one input with scikit-learn - in fact most models assume multiple inputs. Let's continue with the data from the previous example. We'll choose another explanatory variable, $PP$, and then combine it with the oil price $CRUDE$ to build a more accurate model. Using just $PP$, we can see that the fit isn't great."
   ]
  },
  {
   "cell_type": "code",
   "execution_count": 77,
   "metadata": {},
   "outputs": [
    {
     "data": {
      "text/plain": [
       "LinearRegression(copy_X=True, fit_intercept=True, n_jobs=1, normalize=False)"
      ]
     },
     "execution_count": 77,
     "metadata": {},
     "output_type": "execute_result"
    }
   ],
   "source": [
    "# initialize and train the model as we did before\n",
    "lr2 = linear_model.LinearRegression()\n",
    "lr2.fit(X = np.array(PP).reshape(-1, 1),y = INTEREST)"
   ]
  },
  {
   "cell_type": "code",
   "execution_count": 88,
   "metadata": {},
   "outputs": [
    {
     "name": "stdout",
     "output_type": "stream",
     "text": [
      "Intercept:  14.40763263433503\n",
      "Coef [-3.58268931]\n"
     ]
    }
   ],
   "source": [
    "# intercept + coef\n",
    "print(\"Intercept: \", lr2.intercept_)\n",
    "print(\"Coef\",lr2.coef_)"
   ]
  },
  {
   "cell_type": "code",
   "execution_count": 80,
   "metadata": {},
   "outputs": [
    {
     "data": {
      "text/plain": [
       "(0, 20)"
      ]
     },
     "execution_count": 80,
     "metadata": {},
     "output_type": "execute_result"
    },
    {
     "data": {
      "image/png": "[encoded data removed]",
      "text/plain": [
       "<Figure size 432x288 with 1 Axes>"
      ]
     },
     "metadata": {},
     "output_type": "display_data"
    }
   ],
   "source": [
    "# plot\n",
    "plt.scatter(PP, INTEREST,  c=\"r\", alpha=0.5,label=\"\")\n",
    "plt.plot(PP, [lr2.predict(x) for x in PP]) # Note - much easier than doing it manually\n",
    "plt.xlabel(\"PP\")\n",
    "plt.ylabel(\"INTEREST\")\n",
    "\n",
    "# scaling the Y axis for clarity \n",
    "# Comment out this line. As you will see, matplotlib scales the Axis and it looks like the fit is bad\n",
    "plt.ylim([0, 20]) \n"
   ]
  },
  {
   "cell_type": "markdown",
   "metadata": {},
   "source": [
    "__Now we'll build a model that uses both $CRUDE$ and $PP$ as inputs.__"
   ]
  },
  {
   "cell_type": "markdown",
   "metadata": {},
   "source": [
    "Our input array should now look like this: `[[C1, P1], [C2, P2], [..]...]`"
   ]
  },
  {
   "cell_type": "code",
   "execution_count": 81,
   "metadata": {},
   "outputs": [],
   "source": [
    "INPUT = [[CRUDE[i], PP[i]] for i in range(len(CRUDE))]"
   ]
  },
  {
   "cell_type": "code",
   "execution_count": null,
   "metadata": {},
   "outputs": [],
   "source": [
    "print(INPUT)"
   ]
  },
  {
   "cell_type": "markdown",
   "metadata": {},
   "source": [
    "Fit the model and print model parameters."
   ]
  },
  {
   "cell_type": "code",
   "execution_count": 87,
   "metadata": {},
   "outputs": [
    {
     "name": "stdout",
     "output_type": "stream",
     "text": [
      "Intercept:  2.289217702231169\n",
      "Coef [0.28216229 1.33068289]\n"
     ]
    }
   ],
   "source": [
    "mlr1 = linear_model.LinearRegression()\n",
    "mlr1.fit(X = INPUT,y = INTEREST)\n",
    "\n",
    "# intercept + coef\n",
    "print(\"Intercept: \", mlr1.intercept_)\n",
    "print(\"Coef\",mlr1.coef_)"
   ]
  },
  {
   "cell_type": "markdown",
   "metadata": {},
   "source": [
    "Now, we could try to plot the result in 3D, or we could look at one axis at a time.\n"
   ]
  },
  {
   "cell_type": "code",
   "execution_count": 86,
   "metadata": {},
   "outputs": [
    {
     "data": {
      "text/plain": [
       "<matplotlib.legend.Legend at 0x7fa428715f28>"
      ]
     },
     "execution_count": 86,
     "metadata": {},
     "output_type": "execute_result"
    },
    {
     "data": {
      "image/png": "[encoded data removed]",
      "text/plain": [
       "<Figure size 432x288 with 1 Axes>"
      ]
     },
     "metadata": {},
     "output_type": "display_data"
    }
   ],
   "source": [
    "plt.scatter(CRUDE, INTEREST,  c=\"r\", alpha=0.5,label=\"Observations\") # Actual values\n",
    "plt.scatter(CRUDE, [mlr1.predict([x]) for x in INPUT], alpha=0.3, label=\"Predictions\"); # Predicted values\n",
    "plt.xlabel('CRUDE')\n",
    "plt.ylabel('INTEREST')\n",
    "plt.legend()"
   ]
  },
  {
   "cell_type": "code",
   "execution_count": null,
   "metadata": {},
   "outputs": [],
   "source": []
  },
  {
   "cell_type": "markdown",
   "metadata": {},
   "source": [
    "## 1.4 Scoring Models"
   ]
  },
  {
   "cell_type": "markdown",
   "metadata": {},
   "source": [
    "At this point, we need to find a better way of saying how well a model performs. \"It looks OK\" is good for developing intuition but not much else! Scikit-learn comes to the rescue with a handy `score()` method. Once we've developed a model, we can pass it a set of inputs and the correct outputs. In the case of regression, it will return a metric called the R-Squared measure. There's a more thorough explanation in the _LMS_. It is essentially a number quantifying how well the variation is explained by the model. Closer to one is better. Let's score the models we've made so far:"
   ]
  },
  {
   "cell_type": "markdown",
   "metadata": {},
   "source": [
    "We could score `lr2` and `mlr1`, so for clarity let's redo the models from scratch. First, a simple linear regression model `slr` with one explanatory variable and output and a multiple regression model `mlr` with two input variables."
   ]
  },
  {
   "cell_type": "code",
   "execution_count": 99,
   "metadata": {},
   "outputs": [
    {
     "name": "stdout",
     "output_type": "stream",
     "text": [
      "Simple regression model score\t 0.9396988835518667\n",
      "Multiple regression model score\t 0.9599290494693168\n"
     ]
    }
   ],
   "source": [
    "INPUT = [[c] for c in CRUDE]\n",
    "slr = linear_model.LinearRegression()\n",
    "slr.fit(X = INPUT,y = INTEREST)\n",
    "print ('Simple regression model score\\t', slr.score(INPUT, INTEREST))\n",
    "\n",
    "INPUT = [[CRUDE[i], PP[i]] for i in range(len(CRUDE))]\n",
    "mlr = linear_model.LinearRegression()\n",
    "mlr.fit(X = INPUT,y = INTEREST);\n",
    "print ('Multiple regression model score\\t', mlr.score(INPUT, INTEREST))"
   ]
  },
  {
   "cell_type": "markdown",
   "metadata": {},
   "source": [
    "Notice, the multiple regression model does slightly better. In most real world examples, scores will be lower and adding variables can help more dramatically."
   ]
  },
  {
   "cell_type": "markdown",
   "metadata": {},
   "source": [
    "Worth noting: The score function here was given the same data we used to make the model. This is dangerous - we may end up with a model that fits the training data _too_ well, but is inaccurate for any new data. This is called overfitting, and will be explored a bit later. Small datasets or too many input variables can be causes of overfitting."
   ]
  },
  {
   "cell_type": "code",
   "execution_count": null,
   "metadata": {},
   "outputs": [],
   "source": []
  },
  {
   "cell_type": "markdown",
   "metadata": {},
   "source": [
    "## 1.5 Polynomial Regression"
   ]
  },
  {
   "cell_type": "markdown",
   "metadata": {},
   "source": [
    "To capture more complex curves, we can include higher order terms. To do this, we simply compute a new input. For example, given an input $X$, we can add a second input that is $X^2$. We'll illustrate this using one of the built-in datasets that comes with scikit-learn."
   ]
  },
  {
   "cell_type": "markdown",
   "metadata": {},
   "source": [
    "Scikit-learn comes with a lot of datasets that we can use to hone our skills. For example, the Boston housing data:"
   ]
  },
  {
   "cell_type": "code",
   "execution_count": 100,
   "metadata": {},
   "outputs": [
    {
     "name": "stdout",
     "output_type": "stream",
     "text": [
      "(506, 13)\n"
     ]
    }
   ],
   "source": [
    "from sklearn.datasets import load_boston\n",
    "boston = load_boston()\n",
    "print(boston.data.shape)"
   ]
  },
  {
   "cell_type": "code",
   "execution_count": 50,
   "metadata": {},
   "outputs": [],
   "source": [
    "#print(boston.DESCR)"
   ]
  },
  {
   "cell_type": "code",
   "execution_count": 47,
   "metadata": {},
   "outputs": [
    {
     "data": {
      "text/plain": [
       "(506, 13)"
      ]
     },
     "execution_count": 47,
     "metadata": {},
     "output_type": "execute_result"
    }
   ],
   "source": [
    "bost.shape"
   ]
  },
  {
   "cell_type": "code",
   "execution_count": 52,
   "metadata": {},
   "outputs": [],
   "source": [
    "# turn the boston data into a Pandas Dataframe\n",
    "bost = pd.DataFrame(boston.data)"
   ]
  },
  {
   "cell_type": "markdown",
   "metadata": {},
   "source": [
    "With this new dataset, let's look at some scatter plots to see what interesting relationships might be present. A brief diversion - take a look at these two features that had a high correlation coefficient:"
   ]
  },
  {
   "cell_type": "code",
   "execution_count": 103,
   "metadata": {},
   "outputs": [
    {
     "name": "stdout",
     "output_type": "stream",
     "text": [
      "Correlation with outliers: 0.9102281885331822 (506, 13)\n"
     ]
    },
    {
     "data": {
      "image/png": "[encoded data removed]",
      "text/plain": [
       "<Figure size 432x288 with 1 Axes>"
      ]
     },
     "metadata": {},
     "output_type": "display_data"
    }
   ],
   "source": [
    "# \n",
    "plt.scatter(bost[8], bost[9]) # check it out visually - some dangerous outliers! \n",
    "# these two are apparently highly correlated\n",
    "print (\"Correlation with outliers:\", bost.corr()[8][9], bost.shape)"
   ]
  },
  {
   "cell_type": "markdown",
   "metadata": {},
   "source": [
    "Notice the two outliers. We'll make a new dataframe without those two outliers. Watch how the correlation drops from 0.91 to 0.25!\n"
   ]
  },
  {
   "cell_type": "code",
   "execution_count": 104,
   "metadata": {},
   "outputs": [
    {
     "name": "stdout",
     "output_type": "stream",
     "text": [
      "Correlation without outliers: 0.24975731331429227 (369, 13)\n"
     ]
    },
    {
     "data": {
      "image/png": "[encoded data removed]",
      "text/plain": [
       "<Figure size 432x288 with 1 Axes>"
      ]
     },
     "metadata": {},
     "output_type": "display_data"
    }
   ],
   "source": [
    "bost2 = bost.ix[bost[9]<600]\n",
    "plt.scatter(bost2[8], bost2[9], color='g')\n",
    "print (\"Correlation without outliers:\", bost2.corr()[8][9], bost2.shape)"
   ]
  },
  {
   "cell_type": "markdown",
   "metadata": {},
   "source": [
    "Something weird is going on there that would bear further investigation. For now, we're just looking for examples so we'll move on."
   ]
  },
  {
   "cell_type": "markdown",
   "metadata": {},
   "source": [
    "Features or variables `bost[4]` and `bost[7]` have a more interesting relationship that doesn't look entirely linear, and `bost[6]` and `bost[7]` also show some sort of trend:"
   ]
  },
  {
   "cell_type": "code",
   "execution_count": 54,
   "metadata": {},
   "outputs": [
    {
     "data": {
      "text/plain": [
       "<matplotlib.collections.PathCollection at 0x7fa42cdde9e8>"
      ]
     },
     "execution_count": 54,
     "metadata": {},
     "output_type": "execute_result"
    },
    {
     "data": {
      "image/png": "[encoded data removed]",
      "text/plain": [
       "<Figure size 432x288 with 1 Axes>"
      ]
     },
     "metadata": {},
     "output_type": "display_data"
    }
   ],
   "source": [
    "plt.scatter(bost[4], bost[7])"
   ]
  },
  {
   "cell_type": "code",
   "execution_count": 55,
   "metadata": {},
   "outputs": [
    {
     "data": {
      "text/plain": [
       "<matplotlib.collections.PathCollection at 0x7fa42ce0a8d0>"
      ]
     },
     "execution_count": 55,
     "metadata": {},
     "output_type": "execute_result"
    },
    {
     "data": {
      "image/png": "[encoded data removed]",
      "text/plain": [
       "<Figure size 432x288 with 1 Axes>"
      ]
     },
     "metadata": {},
     "output_type": "display_data"
    }
   ],
   "source": [
    "plt.scatter(bost[6], bost[7])"
   ]
  },
  {
   "cell_type": "markdown",
   "metadata": {},
   "source": [
    "If we were trying to predict the 7th variable here, we could use both the 4th and 6th to try and get a better prediction. Let's plot `bost[4]` and `bost[7]` using a simple linear regression model."
   ]
  },
  {
   "cell_type": "code",
   "execution_count": 108,
   "metadata": {},
   "outputs": [
    {
     "name": "stdout",
     "output_type": "stream",
     "text": [
      "Intercept:  11.548749680948145\n",
      "Coef [-13.97832352]\n",
      "Score:  0.5917149670934201\n"
     ]
    },
    {
     "data": {
      "text/plain": [
       "[<matplotlib.lines.Line2D at 0x7fa42864d128>]"
      ]
     },
     "execution_count": 108,
     "metadata": {},
     "output_type": "execute_result"
    },
    {
     "data": {
      "image/png": "[encoded data removed]",
      "text/plain": [
       "<Figure size 432x288 with 1 Axes>"
      ]
     },
     "metadata": {},
     "output_type": "display_data"
    }
   ],
   "source": [
    "lr = linear_model.LinearRegression()\n",
    "lr.fit(X = bost[4].values.reshape(-1, 1),y = bost[7])\n",
    "\n",
    "# intercept + Coef\n",
    "print(\"Intercept: \", lr.intercept_)\n",
    "print(\"Coef\",lr.coef_)\n",
    "print(\"Score: \",lr.score(X = bost[4].values.reshape(-1, 1),y = bost[7]))\n",
    "\n",
    "\n",
    "# plot\n",
    "plt.scatter(bost[4], bost[7],  c=\"r\", alpha=0.5,label=\"DEBT\")\n",
    "plt.plot(bost[4], [lr.predict(x) for x in bost[4]])"
   ]
  },
  {
   "cell_type": "markdown",
   "metadata": {},
   "source": [
    "Now let's add the squared term. Let's look at `bost[4]`. The squared term is `bost[4]*bost[4]` (or in Pythonic terms `bost[4][i]**2`. Then add it as a second input. "
   ]
  },
  {
   "cell_type": "code",
   "execution_count": 111,
   "metadata": {},
   "outputs": [
    {
     "name": "stdout",
     "output_type": "stream",
     "text": [
      "Intercept:  28.743491575903043\n",
      "Coef [-74.16719933  50.42774842]\n",
      "Score:  0.7357206992477009\n"
     ]
    },
    {
     "data": {
      "text/plain": [
       "[<matplotlib.lines.Line2D at 0x7fa428f448d0>]"
      ]
     },
     "execution_count": 111,
     "metadata": {},
     "output_type": "execute_result"
    },
    {
     "data": {
      "image/png": "[encoded data removed]",
      "text/plain": [
       "<Figure size 432x288 with 1 Axes>"
      ]
     },
     "metadata": {},
     "output_type": "display_data"
    }
   ],
   "source": [
    "# list comprehension to calculate the squared term of bost[4] and add it to In_vars\n",
    "In_vars = [[bost[4][i], bost[4][i]**2] for i in range(len(bost[4]))] # [b, b^2] \n",
    "\n",
    "lr = linear_model.LinearRegression()\n",
    "lr.fit(X = In_vars,y = bost[7])\n",
    "\n",
    "# intercept + Coef\n",
    "print(\"Intercept: \", lr.intercept_)\n",
    "print(\"Coef\",lr.coef_)\n",
    "print(\"Score: \", lr.score(X = In_vars,y = bost[7]))\n",
    "\n",
    "\n",
    "# plot\n",
    "plt.scatter(bost[4], bost[7],  c=\"r\", alpha=0.5,label=\"\")\n",
    "X = np.linspace(0.3, 1, 100)\n",
    "plt.plot(X, [lr.predict([[x, x**2]]) for x in X])"
   ]
  },
  {
   "cell_type": "markdown",
   "metadata": {},
   "source": [
    "Now let's add a third order and fourth order term, i.e., `bost[4]**3` and `bost[4]**4`."
   ]
  },
  {
   "cell_type": "code",
   "execution_count": 112,
   "metadata": {},
   "outputs": [
    {
     "name": "stdout",
     "output_type": "stream",
     "text": [
      "Intercept:  33.653548834003395\n",
      "Coef [ -59.46395113 -109.3724554   306.14832218 -172.98105222]\n",
      "Score: 0.7529407350205491\n"
     ]
    },
    {
     "data": {
      "text/plain": [
       "[<matplotlib.lines.Line2D at 0x7fa42865ceb8>]"
      ]
     },
     "execution_count": 112,
     "metadata": {},
     "output_type": "execute_result"
    },
    {
     "data": {
      "image/png": "[encoded data removed]",
      "text/plain": [
       "<Figure size 432x288 with 1 Axes>"
      ]
     },
     "metadata": {},
     "output_type": "display_data"
    }
   ],
   "source": [
    "# Adding ^3 and ^4 terms\n",
    "In_vars = [[bost[4][i], bost[4][i]**2, bost[4][i]**3, bost[4][i]**4] for i in range(len(bost[4]))]\n",
    "\n",
    "lr = linear_model.LinearRegression()\n",
    "lr.fit(X = In_vars,y = bost[7])\n",
    "\n",
    "# Intercept + Coef\n",
    "print(\"Intercept: \", lr.intercept_)\n",
    "print(\"Coef\",lr.coef_)\n",
    "print(\"Score:\", lr.score(X = In_vars,y = bost[7]))\n",
    "\n",
    "\n",
    "#Plot\n",
    "plt.scatter(bost[4], bost[7],  c=\"r\", alpha=0.5,label=\"\")\n",
    "X = np.linspace(0.3, 1, 100)\n",
    "plt.plot(X, [lr.predict([[x, x**2, x**3, x**4]]) for x in X])"
   ]
  },
  {
   "cell_type": "markdown",
   "metadata": {},
   "source": [
    "Our model is getting better and better as the scores reflect.\n",
    "\n",
    "\n",
    "Higher order polynomials can get long and it is easy to make mistakes. Also, when taking in more than one variable as input, you need extra terms $x1^2, x1^3,\\ldots$. The [sklearn library](http://scikit-learn.org/stable/modules/preprocessing.html) (see section 4.3.7) has a module that automatically creates  higher order terms given the degree of the polynomial."
   ]
  },
  {
   "cell_type": "code",
   "execution_count": 116,
   "metadata": {},
   "outputs": [],
   "source": [
    "# \n",
    "from sklearn.preprocessing import PolynomialFeatures"
   ]
  },
  {
   "cell_type": "markdown",
   "metadata": {},
   "source": [
    "Create a polynomial of degree 5. This means we'll have variables of the form $x, x^2, x^3, x^4, x^5$."
   ]
  },
  {
   "cell_type": "code",
   "execution_count": 117,
   "metadata": {},
   "outputs": [],
   "source": [
    "polyF = PolynomialFeatures(degree=5)"
   ]
  },
  {
   "cell_type": "code",
   "execution_count": 118,
   "metadata": {},
   "outputs": [
    {
     "name": "stdout",
     "output_type": "stream",
     "text": [
      "[1.         0.469      0.219961   0.10316171 0.04838284 0.02269155]\n",
      "Intercept:  505.0076653106081\n",
      "Coef [     0.          -4150.52354342  13851.87045938 -23105.4899769\n",
      "  19116.52160225  -6247.12746913]\n",
      "Score 0.7576583681160542\n"
     ]
    },
    {
     "data": {
      "text/plain": [
       "[<matplotlib.lines.Line2D at 0x7fa428640f98>]"
      ]
     },
     "execution_count": 118,
     "metadata": {},
     "output_type": "execute_result"
    },
    {
     "data": {
      "image/png": "[encoded data removed]",
      "text/plain": [
       "<Figure size 432x288 with 1 Axes>"
      ]
     },
     "metadata": {},
     "output_type": "display_data"
    }
   ],
   "source": [
    "X = [[b] for b in bost[4]] # instead of [b1, b2...] we get [[b1], [b2] ...] - equivalent to the .reshape() we used\n",
    "X_p = polyF.fit_transform(X)\n",
    "print(X_p[1]) # 1, x, x**2, x**3, x**4, x**5\n",
    "\n",
    "# we can use this to build the model\n",
    "lr = linear_model.LinearRegression()\n",
    "lr.fit(X = X_p,y = bost[7])\n",
    "\n",
    "# intercept + coef\n",
    "print(\"Intercept: \", lr.intercept_)\n",
    "print(\"Coef\",lr.coef_)\n",
    "print(\"Score\", lr.score(X = X_p,y = bost[7]))\n",
    "\n",
    "# plot\n",
    "plt.scatter(bost[4], bost[7],  c=\"r\", alpha=0.5,label=\"\")\n",
    "X = np.linspace(0.35, 0.9, 100)\n",
    "plt.plot(X, [lr.predict([[x**i for i in range(5+1)]]) for x in X])"
   ]
  },
  {
   "cell_type": "code",
   "execution_count": null,
   "metadata": {},
   "outputs": [],
   "source": []
  },
  {
   "cell_type": "markdown",
   "metadata": {},
   "source": [
    "We can combine polynomial regression with multiple regression. We take the two, or more, input variables and generate polynomial terms. `PolynomialFeatures` will handle creation of the cross terms (see LMS for explanation of what these are). We get a model that scores even better."
   ]
  },
  {
   "cell_type": "code",
   "execution_count": 121,
   "metadata": {},
   "outputs": [
    {
     "name": "stdout",
     "output_type": "stream",
     "text": [
      "[1.00000000e+00 4.69000000e-01 7.89000000e+01 2.19961000e-01\n",
      " 3.70041000e+01 6.22521000e+03 1.03161709e-01 1.73549229e+01\n",
      " 2.91962349e+03 4.91169069e+05]\n",
      "Intercept:  57.874029459501024\n",
      "Coef [ 0.00000000e+00 -2.40525351e+02  8.39841687e-02  3.72673431e+02\n",
      " -5.69062825e-01  1.09792995e-03 -2.18864867e+02  1.12917147e+00\n",
      " -5.98200801e-03  1.16554706e-05]\n",
      "Score 0.7646566850222245\n",
      "(506, 10)\n",
      "(506,)\n"
     ]
    },
    {
     "data": {
      "image/png": "[encoded data removed]",
      "text/plain": [
       "<Figure size 432x288 with 1 Axes>"
      ]
     },
     "metadata": {},
     "output_type": "display_data"
    }
   ],
   "source": [
    "polyF = PolynomialFeatures(degree=3)\n",
    "X = [[ bost[4][i], bost[6][i]] for i in range(len(bost[4]))] # <<<<<\n",
    "X_p = polyF.fit_transform(X)\n",
    "print(X_p[1])\n",
    "\n",
    "# we can use this to build the model\n",
    "lr = linear_model.LinearRegression()\n",
    "lr.fit(X = X_p,y = bost[7])\n",
    "\n",
    "# intercept + coef\n",
    "print(\"Intercept: \", lr.intercept_)\n",
    "print(\"Coef\",lr.coef_)\n",
    "print(\"Score\", lr.score(X = X_p,y = bost[7]))\n",
    "\n",
    "# plot\n",
    "plt.scatter(bost[4], bost[7],  c=\"r\", alpha=0.5,label=\"\")\n",
    "X = np.linspace(0.35, 0.9, 100)\n",
    "print(X_p.shape)\n",
    "print(lr.predict(X_p).shape)\n",
    "\n",
    "plt.scatter(bost[4], lr.predict(X_p),alpha=0.5);"
   ]
  },
  {
   "cell_type": "markdown",
   "metadata": {},
   "source": [
    "## Practice on your own"
   ]
  },
  {
   "cell_type": "markdown",
   "metadata": {},
   "source": [
    "This time we'll use another dataset available from another library:"
   ]
  },
  {
   "cell_type": "code",
   "execution_count": 130,
   "metadata": {},
   "outputs": [],
   "source": [
    "from ggplot import mtcars\n",
    "mtcars"
   ]
  },
  {
   "cell_type": "code",
   "execution_count": null,
   "metadata": {},
   "outputs": [],
   "source": []
  },
  {
   "cell_type": "markdown",
   "metadata": {},
   "source": [
    "a) Use simple linear regression to model the relationship between car weight $wt$ and fuel efficiency $mpg$. Use $mpg$ as the dependant variable. Plot a scatter plot and the line of best fit."
   ]
  },
  {
   "cell_type": "code",
   "execution_count": null,
   "metadata": {},
   "outputs": [],
   "source": []
  },
  {
   "cell_type": "markdown",
   "metadata": {},
   "source": [
    "b) Now add a squared term of the independent variable. Does the model score increase?"
   ]
  },
  {
   "cell_type": "code",
   "execution_count": null,
   "metadata": {},
   "outputs": [],
   "source": []
  },
  {
   "cell_type": "markdown",
   "metadata": {},
   "source": [
    "c) Add a second variable, power $hp$. Take a look at a scatter plot and decide if squared term is needed. In deciding, looking at the scores for the models."
   ]
  },
  {
   "cell_type": "code",
   "execution_count": null,
   "metadata": {},
   "outputs": [],
   "source": []
  },
  {
   "cell_type": "markdown",
   "metadata": {},
   "source": [
    "If you get stuck, check out http://hamelg.blogspot.co.za/2015/11/python-for-data-analysis-part-27-linear.html - they work through linear regression on this dataset in some detail. "
   ]
  },
  {
   "cell_type": "code",
   "execution_count": null,
   "metadata": {
    "collapsed": true
   },
   "outputs": [],
   "source": []
  }
 ],
 "metadata": {
  "celltoolbar": "Raw Cell Format",
  "kernelspec": {
   "display_name": "Python 3",
   "language": "python",
   "name": "python3"
  },
  "language_info": {
   "codemirror_mode": {
    "name": "ipython",
    "version": 3
   },
   "file_extension": ".py",
   "mimetype": "text/x-python",
   "name": "python",
   "nbconvert_exporter": "python",
   "pygments_lexer": "ipython3",
   "version": "3.7.1"
  },
  "widgets": {
   "state": {
    "142ac09471e34358beea3cbb47a0a501": {
     "views": [
      {
       "cell_index": 7
      }
     ]
    }
   },
   "version": "1.2.0"
  }
 },
 "nbformat": 4,
 "nbformat_minor": 2
}
