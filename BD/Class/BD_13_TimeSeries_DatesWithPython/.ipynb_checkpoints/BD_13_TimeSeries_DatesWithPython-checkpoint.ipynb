{
 "cells": [
  {
   "cell_type": "markdown",
   "metadata": {
    "colab_type": "text",
    "id": "kz-K2tjQo852"
   },
   "source": [
    "# Dates and times in pandas\n",
    "\n",
    "As mentioned in previously what makes a dataset a time series is the the date indexing. This means while working with such data we are to ensure we have well formatted dates so as to ensure  that any other processing done on the data is aware of the date element.\n",
    "\n",
    "In a dataset the date interval could be yearly, monthly, weekly and daily. We could also have intervals in time such as hourly, minutes and even seconds. We need to ensure that the integrity of these units are kept throughout.\n",
    "\n",
    "Both python and pandas have builtiin support for dates and times. In this course we will specifially looking at dealing with dates in pandas dataframes.\n"
   ]
  },
  {
   "cell_type": "markdown",
   "metadata": {
    "colab_type": "text",
    "id": "439uscBduKje"
   },
   "source": [
    "# Reading data with dates and times\n",
    "\n",
    "Datetimes in data are mostly in one of three formats\n",
    "\n",
    "\n",
    "*   **String** - A string representing a datetime Eg. \"2018/06/12\", \"2018-Jun-12\"\n",
    "*   **Epoch** - An integer specifying the number of seconds that has elaspse since a particular time(origin). Eg. 1544572800 which translates to 12 june 2018 midnight\n",
    "*   **Spread out in different columns** - Occasionally the date is spread out in different columns such that the month, year, day are in integers or strings in different columns of the dataframe.\n",
    "\n",
    "Pandas is built to be able to handle all of the above scenarios. A datetime object in pandas is called a TimeStamp\n",
    "\n",
    "Pandas provides a function `pandas.to_datetime` to convert all the above options to a datetime object\n",
    "\n",
    "Please review the official documentation [here](https://pandas.pydata.org/pandas-docs/stable/generated/pandas.to_datetime.html) to see the syntax of this function and also understand the different parameters it accepts.\n"
   ]
  },
  {
   "cell_type": "markdown",
   "metadata": {
    "colab_type": "text",
    "id": "P6CHCPrMesOa"
   },
   "source": [
    "# Time Deltas\n",
    "Timedeltas are differences in times, expressed in difference units, e.g. days, hours, minutes, seconds. They can be both positive and negative.\n",
    "An example is a \"differnce of 2 days\", \"difference of -4 months\".\n",
    "\n",
    "In pandas when you subtract two dates what you get is a time delta specifying the time difference between the two dates. This can then be converted into different units like days, hours, minutes.\n",
    "\n",
    "Review the documentation to know the understand the aliases and units used https://pandas.pydata.org/pandas-docs/stable/generated/pandas.Timedelta.html\n"
   ]
  },
  {
   "cell_type": "code",
   "execution_count": null,
   "metadata": {
    "colab": {
     "autoexec": {
      "startup": false,
      "wait_interval": 0
     },
     "base_uri": "https://localhost:8080/",
     "height": 36
    },
    "colab_type": "code",
    "executionInfo": {
     "elapsed": 874,
     "status": "ok",
     "timestamp": 1524572464792,
     "user": {
      "displayName": "Eyram Adjaku",
      "photoUrl": "//lh3.googleusercontent.com/-5iFk2YnMvn8/AAAAAAAAAAI/AAAAAAAAAKU/-AxYB6DNJXE/s50-c-k-no/photo.jpg",
      "userId": "113279431062694058728"
     },
     "user_tz": 0
    },
    "id": "N883Osj9etuA",
    "outputId": "dec48862-4698-404f-b7aa-40b01145bb87"
   },
   "outputs": [],
   "source": [
    "import pandas as pd\n",
    "import numpy as np\n",
    "\n",
    "# strings\n",
    "# pd.Timedelta('1 days') \n",
    "\n",
    "# Also written as\n",
    "pd.Timedelta(1,'D')"
   ]
  },
  {
   "cell_type": "code",
   "execution_count": null,
   "metadata": {
    "colab": {
     "autoexec": {
      "startup": false,
      "wait_interval": 0
     },
     "base_uri": "https://localhost:8080/",
     "height": 36
    },
    "colab_type": "code",
    "executionInfo": {
     "elapsed": 794,
     "status": "ok",
     "timestamp": 1524571295668,
     "user": {
      "displayName": "Eyram Adjaku",
      "photoUrl": "//lh3.googleusercontent.com/-5iFk2YnMvn8/AAAAAAAAAAI/AAAAAAAAAKU/-AxYB6DNJXE/s50-c-k-no/photo.jpg",
      "userId": "113279431062694058728"
     },
     "user_tz": 0
    },
    "id": "JHFVl1d1gwqg",
    "outputId": "fd8b1829-c0ac-4bd1-d9cf-6098a1725a40"
   },
   "outputs": [],
   "source": [
    "# integers with a unit\n",
    "pd.Timedelta(50, unit='s')"
   ]
  },
  {
   "cell_type": "markdown",
   "metadata": {
    "colab_type": "text",
    "id": "fV342IivH0dk"
   },
   "source": [
    "# Converting string formatted dates\n",
    "The most common form dates are presented in. String formatted dates can be in any very different arrangements. Pandas is able to handle all formats.\n",
    "\n",
    "In the example below we create dataframe with four different date formats. Pandas automatically detects the format foreach and makes the right convertion."
   ]
  },
  {
   "cell_type": "code",
   "execution_count": null,
   "metadata": {
    "colab": {
     "autoexec": {
      "startup": false,
      "wait_interval": 0
     },
     "base_uri": "https://localhost:8080/",
     "height": 206
    },
    "colab_type": "code",
    "executionInfo": {
     "elapsed": 800,
     "status": "ok",
     "timestamp": 1524569993442,
     "user": {
      "displayName": "Eyram Adjaku",
      "photoUrl": "//lh3.googleusercontent.com/-5iFk2YnMvn8/AAAAAAAAAAI/AAAAAAAAAKU/-AxYB6DNJXE/s50-c-k-no/photo.jpg",
      "userId": "113279431062694058728"
     },
     "user_tz": 0
    },
    "id": "c26uOdJKoUpO",
    "outputId": "31b669af-25d6-4aab-dc80-4877f29eb503"
   },
   "outputs": [],
   "source": [
    "import pandas as pd\n",
    "import numpy as np\n",
    "df = pd.DataFrame({'date': ['2005/11/23',\n",
    "                            '2010.12.31',\n",
    "                            'Jul 31, 2009', \n",
    "                            '2010-01-10',\n",
    "                             None]})\n",
    "df    "
   ]
  },
  {
   "cell_type": "code",
   "execution_count": null,
   "metadata": {
    "colab": {
     "autoexec": {
      "startup": false,
      "wait_interval": 0
     },
     "base_uri": "https://localhost:8080/",
     "height": 206
    },
    "colab_type": "code",
    "executionInfo": {
     "elapsed": 2994,
     "status": "ok",
     "timestamp": 1524565307402,
     "user": {
      "displayName": "Eyram Adjaku",
      "photoUrl": "//lh3.googleusercontent.com/-5iFk2YnMvn8/AAAAAAAAAAI/AAAAAAAAAKU/-AxYB6DNJXE/s50-c-k-no/photo.jpg",
      "userId": "113279431062694058728"
     },
     "user_tz": 0
    },
    "id": "xcgeJt30HFaq",
    "outputId": "2da923c8-cd5f-4634-9f3e-ecde5f47bebb"
   },
   "outputs": [],
   "source": [
    "df['full_date'] = pd.to_datetime(df['date'])\n",
    "df"
   ]
  },
  {
   "cell_type": "markdown",
   "metadata": {
    "colab_type": "text",
    "id": "SAjTRcKGJdU8"
   },
   "source": [
    "When provided with invalid data pandas returns \"NaT\" which means \"not a time\"\n",
    "\n",
    "When using string dates you can also pass a format argument.This states the format in which the original date is in. Providing this ensures specific parsing and also potentially speed up the conversion considerably.\n",
    "\n",
    "Note: passing the format argument means all the dates will be parsed with the same format, so if you have a datasets with different date styles in the same column its advisable not to provide this option."
   ]
  },
  {
   "cell_type": "code",
   "execution_count": null,
   "metadata": {
    "colab": {
     "autoexec": {
      "startup": false,
      "wait_interval": 0
     },
     "base_uri": "https://localhost:8080/",
     "height": 175
    },
    "colab_type": "code",
    "executionInfo": {
     "elapsed": 850,
     "status": "ok",
     "timestamp": 1524566271210,
     "user": {
      "displayName": "Eyram Adjaku",
      "photoUrl": "//lh3.googleusercontent.com/-5iFk2YnMvn8/AAAAAAAAAAI/AAAAAAAAAKU/-AxYB6DNJXE/s50-c-k-no/photo.jpg",
      "userId": "113279431062694058728"
     },
     "user_tz": 0
    },
    "id": "2J6tjSVZOJCw",
    "outputId": "7747ca3e-ab37-40e5-ada3-71d0c2aa92db"
   },
   "outputs": [],
   "source": [
    "import pandas as pd\n",
    "df = pd.DataFrame({'date': ['2005/11/23 00:00',\n",
    "                            '2010/12/31 03:45',\n",
    "                            '2015/8/20 13:59',\n",
    "                            '2018/5/7 19:12']})\n",
    "df    "
   ]
  },
  {
   "cell_type": "code",
   "execution_count": null,
   "metadata": {
    "colab": {
     "autoexec": {
      "startup": false,
      "wait_interval": 0
     },
     "base_uri": "https://localhost:8080/",
     "height": 175
    },
    "colab_type": "code",
    "executionInfo": {
     "elapsed": 674,
     "status": "ok",
     "timestamp": 1524566316072,
     "user": {
      "displayName": "Eyram Adjaku",
      "photoUrl": "//lh3.googleusercontent.com/-5iFk2YnMvn8/AAAAAAAAAAI/AAAAAAAAAKU/-AxYB6DNJXE/s50-c-k-no/photo.jpg",
      "userId": "113279431062694058728"
     },
     "user_tz": 0
    },
    "id": "-zIhKf5tO0NM",
    "outputId": "78f74043-243e-4ae4-d134-ce539e8749f4"
   },
   "outputs": [],
   "source": [
    "df['full_date'] = pd.to_datetime(df['date'], format='%Y/%m/%d %H:%M')\n",
    "df"
   ]
  },
  {
   "cell_type": "markdown",
   "metadata": {
    "colab_type": "text",
    "id": "Vf5DEAiKPM-O"
   },
   "source": [
    "For more information on how to specify the `format` options, see https://docs.python.org/3/library/datetime.html#strftime-and-strptime-behavior."
   ]
  },
  {
   "cell_type": "markdown",
   "metadata": {
    "colab_type": "text",
    "id": "QY2uYm2z5I-Y"
   },
   "source": [
    "# Converting dates from Epoch to timestamps\n",
    "\n",
    "As mentioned before epoch is an integer which specifies the number of seconds that has elaspsed since a particular time which is defined as the origin. The default origin for computers is January 1, 1970 midnight. This means most epoch times represent the number of seconds since that time. It is possible to have a different origin for private use, pandas allows you to specify the origin if yours isn't the default \"January 1, 1970\".\n",
    "\n",
    "Epoch while an interesting concepts does raise an intersting problem in the future similar to Y2K, there's nothing to worry though, you read more on this [here](https://www.theguardian.com/technology/2014/dec/17/is-the-year-2038-problem-the-new-y2k-bug) \n",
    "\n",
    "You can also expreriment to epoch times with this [converter](https://www.epochconverter.com/)"
   ]
  },
  {
   "cell_type": "code",
   "execution_count": null,
   "metadata": {
    "colab": {
     "autoexec": {
      "startup": false,
      "wait_interval": 0
     },
     "base_uri": "https://localhost:8080/",
     "height": 175
    },
    "colab_type": "code",
    "executionInfo": {
     "elapsed": 808,
     "status": "ok",
     "timestamp": 1524561649576,
     "user": {
      "displayName": "Eyram Adjaku",
      "photoUrl": "//lh3.googleusercontent.com/-5iFk2YnMvn8/AAAAAAAAAAI/AAAAAAAAAKU/-AxYB6DNJXE/s50-c-k-no/photo.jpg",
      "userId": "113279431062694058728"
     },
     "user_tz": 0
    },
    "id": "3KiDZ6N-7rL-",
    "outputId": "94799eaa-31cc-4b52-b9f0-af7d4d1b5d86"
   },
   "outputs": [],
   "source": [
    "import pandas as pd\n",
    "df = pd.DataFrame({'date': [1524460623, 1524560699,151456057,1544572800]})\n",
    "df    "
   ]
  },
  {
   "cell_type": "code",
   "execution_count": null,
   "metadata": {
    "colab": {
     "autoexec": {
      "startup": false,
      "wait_interval": 0
     },
     "base_uri": "https://localhost:8080/",
     "height": 175
    },
    "colab_type": "code",
    "executionInfo": {
     "elapsed": 794,
     "status": "ok",
     "timestamp": 1524561664858,
     "user": {
      "displayName": "Eyram Adjaku",
      "photoUrl": "//lh3.googleusercontent.com/-5iFk2YnMvn8/AAAAAAAAAAI/AAAAAAAAAKU/-AxYB6DNJXE/s50-c-k-no/photo.jpg",
      "userId": "113279431062694058728"
     },
     "user_tz": 0
    },
    "id": "wgAylaNo8uHS",
    "outputId": "65fb3111-5a53-4c2c-d7de-aa4d06867e46"
   },
   "outputs": [],
   "source": [
    "df['full_date'] = pd.to_datetime(df['date'],unit='s')\n",
    "df"
   ]
  },
  {
   "cell_type": "markdown",
   "metadata": {
    "colab_type": "text",
    "id": "TXrlbSO23Q3y"
   },
   "source": [
    "# Reading dates spread out in different columns"
   ]
  },
  {
   "cell_type": "code",
   "execution_count": null,
   "metadata": {
    "colab": {
     "autoexec": {
      "startup": false,
      "wait_interval": 0
     },
     "base_uri": "https://localhost:8080/",
     "height": 175
    },
    "colab_type": "code",
    "executionInfo": {
     "elapsed": 910,
     "status": "ok",
     "timestamp": 1524570015216,
     "user": {
      "displayName": "Eyram Adjaku",
      "photoUrl": "//lh3.googleusercontent.com/-5iFk2YnMvn8/AAAAAAAAAAI/AAAAAAAAAKU/-AxYB6DNJXE/s50-c-k-no/photo.jpg",
      "userId": "113279431062694058728"
     },
     "user_tz": 0
    },
    "id": "RRQIS0T5xllS",
    "outputId": "2b4c54a3-e924-4c51-d8a3-8b662871c424"
   },
   "outputs": [],
   "source": [
    "import pandas as pd\n",
    "df = pd.DataFrame({'year': [2015, 2016,2017,2018],\n",
    "                       'month': [2, 3, 4, 5],\n",
    "                       'day': [4, 5, 12, 23],\n",
    "                       'count': [258, 356, 421, 578]})\n",
    "df    "
   ]
  },
  {
   "cell_type": "markdown",
   "metadata": {
    "colab_type": "text",
    "id": "2jwehqXa4DHE"
   },
   "source": [
    "From above the dataframe has column for day, month and year. The pandas function `pandas.to_datetime` also accepts a dataframe of columns which it can then assemble into a series of timestamps\n",
    "\n",
    "We will create a new column called \"full_date\" which will hold the assembled date. Also pay attention to the fact that only the columns needed for the date is passed to the function."
   ]
  },
  {
   "cell_type": "code",
   "execution_count": null,
   "metadata": {
    "colab": {
     "autoexec": {
      "startup": false,
      "wait_interval": 0
     },
     "base_uri": "https://localhost:8080/",
     "height": 175
    },
    "colab_type": "code",
    "executionInfo": {
     "elapsed": 800,
     "status": "ok",
     "timestamp": 1524570018882,
     "user": {
      "displayName": "Eyram Adjaku",
      "photoUrl": "//lh3.googleusercontent.com/-5iFk2YnMvn8/AAAAAAAAAAI/AAAAAAAAAKU/-AxYB6DNJXE/s50-c-k-no/photo.jpg",
      "userId": "113279431062694058728"
     },
     "user_tz": 0
    },
    "id": "H98vmYLExpRi",
    "outputId": "f43424e9-8327-4f37-b59a-558ef42220a0"
   },
   "outputs": [],
   "source": [
    "df['full_date'] = pd.to_datetime(df[['year', 'day', 'month']])\n",
    "df"
   ]
  },
  {
   "cell_type": "markdown",
   "metadata": {
    "colab_type": "text",
    "id": "5fCf34Nv-Ixs"
   },
   "source": [
    "Note: the names of the columns passed to the function matters. Pandas uses the keys to determine which part of the date is which. \n",
    "\n",
    "**From the documentation:** The keys can be common abbreviations like [‘year’, ‘month’, ‘day’, ‘minute’, ‘second’, ‘ms’, ‘us’, ‘ns’]) or plurals of the same"
   ]
  },
  {
   "cell_type": "markdown",
   "metadata": {
    "colab_type": "text",
    "id": "iQ-bc78giHBC"
   },
   "source": [
    "# Adding to and subtracting from dates\n",
    "\n",
    "Its not possible to add two dates, but it is possible to add to and subtract from dates. You will use this answer question like\n",
    "\n",
    "*   What is 5 days from now\n",
    "*   what was the date 2 months ago\n",
    "\n",
    "To this we use we add or subtract a time delta. \n",
    "See the example below\n",
    "\n"
   ]
  },
  {
   "cell_type": "code",
   "execution_count": null,
   "metadata": {
    "colab": {
     "autoexec": {
      "startup": false,
      "wait_interval": 0
     },
     "base_uri": "https://localhost:8080/",
     "height": 175
    },
    "colab_type": "code",
    "executionInfo": {
     "elapsed": 898,
     "status": "ok",
     "timestamp": 1524583632424,
     "user": {
      "displayName": "Eyram Adjaku",
      "photoUrl": "//lh3.googleusercontent.com/-5iFk2YnMvn8/AAAAAAAAAAI/AAAAAAAAAKU/-AxYB6DNJXE/s50-c-k-no/photo.jpg",
      "userId": "113279431062694058728"
     },
     "user_tz": 0
    },
    "id": "149R12Pbalii",
    "outputId": "6e90b6dc-38de-4ad6-a855-6cd1f1501889"
   },
   "outputs": [],
   "source": [
    "import pandas as pd\n",
    "df = pd.DataFrame({'date': ['2005/11/23',\n",
    "                            '2010.12.31',\n",
    "                            'Jul 31, 2009', \n",
    "                            '2010-01-10']})\n",
    "df['date'] = pd.to_datetime(df['date']) # converting column to timestamp object\n",
    "\n",
    "\n",
    "df['plus_5_days'] =df['date'] + pd.Timedelta(5,'D')\n",
    "df['minus_2_months'] =df['date'] - pd.Timedelta(2,'M')\n",
    "df['minus_50_minutes'] =df['date'] - pd.Timedelta(50,'m')\n",
    "df"
   ]
  },
  {
   "cell_type": "markdown",
   "metadata": {
    "colab_type": "text",
    "id": "YS4m11GXqTwK"
   },
   "source": [
    "Another way is to use the DateOffset function"
   ]
  },
  {
   "cell_type": "code",
   "execution_count": null,
   "metadata": {
    "colab": {
     "autoexec": {
      "startup": false,
      "wait_interval": 0
     },
     "base_uri": "https://localhost:8080/",
     "height": 175
    },
    "colab_type": "code",
    "executionInfo": {
     "elapsed": 938,
     "status": "ok",
     "timestamp": 1524573841506,
     "user": {
      "displayName": "Eyram Adjaku",
      "photoUrl": "//lh3.googleusercontent.com/-5iFk2YnMvn8/AAAAAAAAAAI/AAAAAAAAAKU/-AxYB6DNJXE/s50-c-k-no/photo.jpg",
      "userId": "113279431062694058728"
     },
     "user_tz": 0
    },
    "id": "rSKu5jb0q2YC",
    "outputId": "24b2d688-bee4-45b1-f78c-3ebb59598d9c"
   },
   "outputs": [],
   "source": [
    "import pandas as pd\n",
    "df = pd.DataFrame({'date': ['2005/11/23',\n",
    "                            '2010.12.31',\n",
    "                            'Jul 31, 2009', \n",
    "                            '2010-01-10']})\n",
    "df['date'] = pd.to_datetime(df['date']) # converting column to timestamp object\n",
    "\n",
    "\n",
    "df['plus_5_days'] =df['date'] + pd.DateOffset(days=5)\n",
    "df['minus_2_months'] =df['date'] - pd.DateOffset(months=2)\n",
    "df['minus_50_minutes'] =df['date'] - pd.DateOffset(minutes=50)\n",
    "df"
   ]
  },
  {
   "cell_type": "markdown",
   "metadata": {
    "colab_type": "text",
    "id": "GA7PyblyRP9y"
   },
   "source": [
    "There is a slight  difference between `timedelta` and `dateoffset`, timedelta holds a time difference so adding or subtracting it adds or subtracts it from the date as a whole while `DateOffset` ads or subtracts to the part of the date which is the same unit as the `DateOffset`\n",
    "\n",
    "You can see an example from the above where subtracting two months yeilds different results with respect to the hours.\n",
    "`Timedelta` uses the fact that 1 month = 30.4167 days while `DateOffset` simply subtracts 2 from the month part of date."
   ]
  },
  {
   "cell_type": "markdown",
   "metadata": {
    "colab_type": "text",
    "id": "vrzrCWE3pXVk"
   },
   "source": [
    "# Subtracting two dates\n",
    "Subtracting two dates is as easy as using the subtraction sign. Subtracting two dates yeilds a timedelta object"
   ]
  },
  {
   "cell_type": "code",
   "execution_count": null,
   "metadata": {
    "colab": {
     "autoexec": {
      "startup": false,
      "wait_interval": 0
     },
     "base_uri": "https://localhost:8080/",
     "height": 187
    },
    "colab_type": "code",
    "executionInfo": {
     "elapsed": 760,
     "status": "ok",
     "timestamp": 1524584305186,
     "user": {
      "displayName": "Eyram Adjaku",
      "photoUrl": "//lh3.googleusercontent.com/-5iFk2YnMvn8/AAAAAAAAAAI/AAAAAAAAAKU/-AxYB6DNJXE/s50-c-k-no/photo.jpg",
      "userId": "113279431062694058728"
     },
     "user_tz": 0
    },
    "id": "NPUh8tAsbCtM",
    "outputId": "01cfc8da-ad55-47fc-e35d-583a00e1f03a"
   },
   "outputs": [],
   "source": [
    "import pandas as pd\n",
    "df = pd.DataFrame({'start_date': ['2005/11/23 14:00',\n",
    "                            '2010.12.25',\n",
    "                            'Jul 31, 2009', \n",
    "                            '2010-01-10'],\n",
    "                  'end_date':['2005/11/23 14:45',\n",
    "                            '2010.12.31',\n",
    "                            'Oct 31, 2009', \n",
    "                            '2011-01-10']})\n",
    "df['start_date'] = pd.to_datetime(df['start_date']) # converting column to timestamp object\n",
    "df['end_date'] = pd.to_datetime(df['end_date']) # converting column to timestamp object\n",
    "\n",
    "df['difference'] = (df['end_date'] - df['start_date'])\n",
    "print(df)\n",
    "\n",
    "print(df.dtypes)\n"
   ]
  },
  {
   "cell_type": "markdown",
   "metadata": {
    "colab_type": "text",
    "id": "ThqIimYji9g2"
   },
   "source": [
    "# Creating date ranges\n",
    "\n",
    "We can also create date ranges which starts from a given date to another and at any interval of our choosing. we use the function `date_range`.\n",
    "\n",
    "In the example below we generate dates from '1 january 2018' to '31 july 2018' with a 5 day interval"
   ]
  },
  {
   "cell_type": "code",
   "execution_count": null,
   "metadata": {
    "colab": {
     "autoexec": {
      "startup": false,
      "wait_interval": 0
     },
     "base_uri": "https://localhost:8080/",
     "height": 168
    },
    "colab_type": "code",
    "executionInfo": {
     "elapsed": 828,
     "status": "ok",
     "timestamp": 1524584838118,
     "user": {
      "displayName": "Eyram Adjaku",
      "photoUrl": "//lh3.googleusercontent.com/-5iFk2YnMvn8/AAAAAAAAAAI/AAAAAAAAAKU/-AxYB6DNJXE/s50-c-k-no/photo.jpg",
      "userId": "113279431062694058728"
     },
     "user_tz": 0
    },
    "id": "YYp8Vl3sUOM6",
    "outputId": "80dd5102-e464-4158-8af7-fbf0c4454eab"
   },
   "outputs": [],
   "source": [
    "pd.date_range( start='1/1/2011', end='31 july 2018' ,freq='5D')"
   ]
  }
 ],
 "metadata": {
  "colab": {
   "collapsed_sections": [],
   "default_view": {},
   "name": "Dates with python.ipynb",
   "provenance": [],
   "toc_visible": true,
   "version": "0.3.2",
   "views": {}
  },
  "kernelspec": {
   "display_name": "Python 3",
   "language": "python",
   "name": "python3"
  },
  "language_info": {
   "codemirror_mode": {
    "name": "ipython",
    "version": 3
   },
   "file_extension": ".py",
   "mimetype": "text/x-python",
   "name": "python",
   "nbconvert_exporter": "python",
   "pygments_lexer": "ipython3",
   "version": "3.6.7"
  }
 },
 "nbformat": 4,
 "nbformat_minor": 1
}
