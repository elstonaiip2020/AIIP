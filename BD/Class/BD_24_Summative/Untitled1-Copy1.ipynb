{
 "cells": [
  {
   "cell_type": "code",
   "execution_count": 2,
   "metadata": {},
   "outputs": [],
   "source": [
    "#### lib required for dashboard\n",
    "import plotly.graph_objects as go\n",
    "import dash\n",
    "import dash_html_components as html\n",
    "import dash_core_components as dcc\n",
    "\n",
    "import plotly.offline as pyo\n",
    "\n",
    "from dash.dependencies import State, Input, Output\n",
    "\n",
    "import numpy as np\n",
    "import pandas as pd"
   ]
  },
  {
   "cell_type": "code",
   "execution_count": 3,
   "metadata": {},
   "outputs": [],
   "source": [
    "d1=pd.read_csv(\"data.csv\");"
   ]
  },
  {
   "cell_type": "code",
   "execution_count": 4,
   "metadata": {},
   "outputs": [],
   "source": [
    "def datagen(data_r):\n",
    "    cat_g=sorted(data_r['ID'].unique())\n",
    "    data =pd.DataFrame(columns=data_r.columns)\n",
    "    sampled_data =pd.DataFrame(columns=data.columns)\n",
    "    for i in cat_g:\n",
    "        grouped_data=data_r[data_r['ID']==i].groupby('Time').mean()\n",
    "        grouped_data=grouped_data.reset_index()\n",
    "        sampled_data=pd.concat([sampled_data,grouped_data],ignore_index= True, sort=False)\n",
    "    return(sampled_data)"
   ]
  },
  {
   "cell_type": "code",
   "execution_count": 5,
   "metadata": {},
   "outputs": [],
   "source": [
    "cat_g=sorted(d1['ID'].unique())\n",
    "\n",
    "## Creating values and lables for dropdown\n",
    "\n",
    "options_list = []\n",
    "for i in cat_g:\n",
    "    options_list.append({'label': i, 'value': i})"
   ]
  },
  {
   "cell_type": "code",
   "execution_count": null,
   "metadata": {},
   "outputs": [],
   "source": [
    "def fig_generator(sample_data,input_cat):\n",
    "    plot_data =[]\n",
    "    \n",
    "    temp=['T1','T2','T3','Tamb']\n",
    "    for j in temp:\n",
    "        plot_data.append(go.Scatter(x=sample_data['Time'], y=sample_data[j], name = j ))\n",
    "    plot_layout = go.Layout(title = \"Temperature Reading for Device \"+str(input_cat))\n",
    "\n",
    "    fig = go.Figure( data = plot_data ,layout = plot_layout)\n",
    "\n",
    "    return(fig.data,fig.layout)\n"
   ]
  },
  {
   "cell_type": "code",
   "execution_count": null,
   "metadata": {},
   "outputs": [],
   "source": [
    "app = dash.Dash()\n",
    "\n",
    "### defining the HTML component\n",
    "\n",
    "\n",
    "app.layout = html.Div(children=[html.Div(\"SENSOR TEMPRATURE DASHBOAD\",style= {   \"color\": \"white\",\n",
    "                                                      \"text-align\": \"center\",\"background-color\": \"blue\",\n",
    "                                                      \"border-style\": \"dotted\",\"display\":\"inline-block\",\"width\":\"90%\"\n",
    "                                                      \n",
    "                                                    }),\n",
    "                       html.Div(dcc.Dropdown(id = \"drop_down_1\" ,options= options_list , value= 1\n",
    "                                                       ),style= {\n",
    "                                                      \"color\": \"green\",\n",
    "                                                      \"text-align\": \"center\",\"background-color\": \"darkorange\",\n",
    "                                                      \"border-style\": \"dotted\",\"display\":\"inline-block\",\"width\":\"20%\",\n",
    "                                                      \n",
    "                                                    }),\n",
    "                       html.Div(children=[html.P(\n",
    "                            id=\"map-title\",\n",
    "                            children = \"DISPLAY BOARD \",\n",
    "                        ), html.Div(dcc.Graph(id =\"plot_area\"))\n",
    "                                                       ],style= {\n",
    "                                                      \"color\": \"black\",\n",
    "                                                      \"text-align\": \"center\",\"background-color\": \"yellow\",\n",
    "                                                      \"border-style\": \"dotted\",\"display\":\"inline-block\",\"width\":\"70%\",\n",
    "                                                                                                            \n",
    "                                                    })],style={\"width\":\"100%\",'paffing':10})\n",
    "\n",
    "## Creating callback buttons\n",
    "\n",
    "@app.callback(Output(\"plot_area\", 'figure'),\n",
    "              \n",
    "              [Input(\"drop_down_1\", \"value\")])\n",
    "\n",
    "def updateplot(input_cat):\n",
    "    \n",
    "    df= datagen(d1)\n",
    "    sample_data = df[df[\"ID\"] ==input_cat]\n",
    "    \n",
    "    trace,layout = fig_generator(sample_data,input_cat)\n",
    "    \n",
    "    return {\n",
    "        'data': trace,\n",
    "        'layout':layout\n",
    "    }\n",
    "    \n",
    "    \n",
    "    \n",
    "if __name__=='__main__':\n",
    "    app.run_server()\n",
    "\t\n",
    "\t"
   ]
  },
  {
   "cell_type": "code",
   "execution_count": null,
   "metadata": {},
   "outputs": [],
   "source": []
  },
  {
   "cell_type": "code",
   "execution_count": null,
   "metadata": {},
   "outputs": [],
   "source": []
  },
  {
   "cell_type": "code",
   "execution_count": null,
   "metadata": {},
   "outputs": [],
   "source": []
  }
 ],
 "metadata": {
  "hide_input": false,
  "kernelspec": {
   "display_name": "Python 3",
   "language": "python",
   "name": "python3"
  },
  "language_info": {
   "codemirror_mode": {
    "name": "ipython",
    "version": 3
   },
   "file_extension": ".py",
   "mimetype": "text/x-python",
   "name": "python",
   "nbconvert_exporter": "python",
   "pygments_lexer": "ipython3",
   "version": "3.7.1"
  }
 },
 "nbformat": 4,
 "nbformat_minor": 2
}
