{
 "cells": [
  {
   "cell_type": "code",
   "execution_count": null,
   "metadata": {},
   "outputs": [],
   "source": [
    "#### lib required for dashboard\n",
    "import plotly.graph_objects as go\n",
    "import dash\n",
    "import dash_html_components as html\n",
    "import dash_core_components as dcc\n",
    "\n",
    "import plotly.offline as pyo\n",
    "\n",
    "from dash.dependencies import State, Input, Output\n",
    "\n",
    "import numpy as np\n",
    "import pandas as pd"
   ]
  },
  {
   "cell_type": "code",
   "execution_count": null,
   "metadata": {},
   "outputs": [],
   "source": [
    "d1=pd.read_csv(\"data.csv\");"
   ]
  },
  {
   "cell_type": "code",
   "execution_count": null,
   "metadata": {},
   "outputs": [],
   "source": [
    "cat_g=sorted(data_r['ID'].unique())\n",
    "data =pd.DataFrame(columns=data_r.columns)\n",
    "sampled_data =pd.DataFrame(columns=data.columns)\n",
    "for i in cat_g:\n",
    "    grouped_data=data_r[data_r['ID']==i].groupby('Time').mean()\n",
    "    grouped_data=grouped_data.reset_index()\n",
    "    sampled_data=pd.concat([sampled_data,grouped_data],ignore_index= True, sort=False)"
   ]
  },
  {
   "cell_type": "code",
   "execution_count": 3,
   "metadata": {},
   "outputs": [],
   "source": [
    "def datagen(data_r):\n",
    "    cat_g=sorted(data_r['ID'].unique())\n",
    "    data =pd.DataFrame(columns=data_r.columns)\n",
    "    sampled_data =pd.DataFrame(columns=data.columns)\n",
    "    for i in cat_g:\n",
    "        grouped_data=data_r[data_r['ID']==i].groupby('Time').mean()\n",
    "        grouped_data=grouped_data.reset_index()\n",
    "        sampled_data=pd.concat([sampled_data,grouped_data],ignore_index= True, sort=False)\n",
    "    return(sampled_data)"
   ]
  },
  {
   "cell_type": "code",
   "execution_count": 4,
   "metadata": {},
   "outputs": [],
   "source": [
    "cat_g=sorted(d1['ID'].unique())\n",
    "\n",
    "## Creating values and lables for dropdown\n",
    "\n",
    "options_list = []\n",
    "for i in cat_g:\n",
    "    options_list.append({'label':'Device'+ str(i) , 'value': i})"
   ]
  },
  {
   "cell_type": "code",
   "execution_count": 5,
   "metadata": {},
   "outputs": [],
   "source": [
    "def fig_generator(sample_data,input_cat):\n",
    "    plot_data =[]\n",
    "    \n",
    "    temp=['T1','T2','T3','Tamb']\n",
    "    for j in temp:\n",
    "        plot_data.append(go.Scatter(x=sample_data['Time'], y=sample_data[j], name = j ))\n",
    "    plot_layout = go.Layout(title = \"Temperature Reading for Device \"+str(input_cat))\n",
    "\n",
    "    fig = go.Figure( data = plot_data ,layout = plot_layout)\n",
    "\n",
    "    return(fig.data,fig.layout)\n"
   ]
  },
  {
   "cell_type": "code",
   "execution_count": null,
   "metadata": {},
   "outputs": [
    {
     "name": "stdout",
     "output_type": "stream",
     "text": [
      "Dash is running on http://127.0.0.1:8050/\n",
      "\n",
      "Dash is running on http://127.0.0.1:8050/\n",
      "\n",
      "Dash is running on http://127.0.0.1:8050/\n",
      "\n",
      "Dash is running on http://127.0.0.1:8050/\n",
      "\n",
      " Warning: This is a development server. Do not use app.run_server\n",
      " Warning: This is a development server. Do not use app.run_server\n",
      " Warning: This is a development server. Do not use app.run_server\n",
      " Warning: This is a development server. Do not use app.run_server\n",
      " in production, use a production WSGI server like gunicorn instead.\n",
      "\n",
      " in production, use a production WSGI server like gunicorn instead.\n",
      "\n",
      " in production, use a production WSGI server like gunicorn instead.\n",
      "\n",
      " in production, use a production WSGI server like gunicorn instead.\n",
      "\n",
      " * Serving Flask app \"__main__\" (lazy loading)\n",
      " * Environment: production\n",
      "   WARNING: Do not use the development server in a production environment.\n",
      "   Use a production WSGI server instead.\n",
      " * Debug mode: off\n"
     ]
    },
    {
     "name": "stderr",
     "output_type": "stream",
     "text": [
      " * Running on http://127.0.0.1:8050/ (Press CTRL+C to quit)\n"
     ]
    }
   ],
   "source": [
    "app = dash.Dash()\n",
    "\n",
    "### defining the HTML component\n",
    "\n",
    "\n",
    "app.layout = html.Div(children=[html.Div(\"SENSOR TEMPRATURE DASHBOAD\",style= {   \"color\": \"white\",\n",
    "                                                      \"text-align\": \"center\",\"background-color\": \"blue\",\n",
    "                                                      \"border-style\": \"dotted\",\"display\":\"inline-block\",\"width\":\"90%\"\n",
    "                                                      \n",
    "                                                    }),\n",
    "                       html.Div(dcc.dropdown(id = \"drop_down_1\", options= options_list , value=0),style= {\n",
    "                                                      \"color\": \"green\",\n",
    "                                                      \"text-align\": \"left\",\"background-color\": \"darkorange\",\n",
    "                                                      \"border-style\": \"dotted\",\"display\":\"inline-block\",\"width\":\"5%\",\n",
    "                                                      \n",
    "                                                    }),\n",
    "                       html.Div(children=[html.P(\n",
    "                            id=\"map-title\",\n",
    "                            children = \"DISPLAY BOARD \",\n",
    "                        ), html.Div(dcc.Graph(id =\"plot_area\"))\n",
    "                                                       ],style= {\n",
    "                                                      \"color\": \"black\",\n",
    "                                                      \"text-align\": \"center\",\"background-color\": \"yellow\",\n",
    "                                                      \"border-style\": \"dotted\",\"display\":\"inline-block\",\"width\":\"85%\",                                                                              \n",
    "                                                    })],style={\"width\":\"100%\",'padding':10})\n",
    "\n",
    "## Creating callback buttons\n",
    "\n",
    "@app.callback(Output(\"plot_area\", 'figure'),\n",
    "              \n",
    "              [Input(\"drop_down_1\", \"value\")])\n",
    "\n",
    "def updateplot(input_cat):\n",
    "    \n",
    "    df= datagen(fi)\n",
    "    sample_data = df[df[\"ID\"] ==input_cat]\n",
    "    \n",
    "    trace,layout = fig_generator(sample_data,input_cat)\n",
    "    \n",
    "    return {\n",
    "        'data': trace,\n",
    "        'layout':layout\n",
    "    }\n",
    "    \n",
    "    \n",
    "    \n",
    "if __name__=='__main__':\n",
    "    app.run_server()\n",
    "\t\n",
    "\t"
   ]
  },
  {
   "cell_type": "code",
   "execution_count": null,
   "metadata": {},
   "outputs": [],
   "source": []
  },
  {
   "cell_type": "code",
   "execution_count": null,
   "metadata": {},
   "outputs": [],
   "source": []
  }
 ],
 "metadata": {
  "hide_input": false,
  "kernelspec": {
   "display_name": "Python 3",
   "language": "python",
   "name": "python3"
  },
  "language_info": {
   "codemirror_mode": {
    "name": "ipython",
    "version": 3
   },
   "file_extension": ".py",
   "mimetype": "text/x-python",
   "name": "python",
   "nbconvert_exporter": "python",
   "pygments_lexer": "ipython3",
   "version": "3.7.1"
  }
 },
 "nbformat": 4,
 "nbformat_minor": 2
}
