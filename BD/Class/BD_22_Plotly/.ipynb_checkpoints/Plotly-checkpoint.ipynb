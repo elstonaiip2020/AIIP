{
 "cells": [
  {
   "cell_type": "markdown",
   "metadata": {},
   "source": [
    "# Creating offline plots with plotly"
   ]
  },
  {
   "cell_type": "markdown",
   "metadata": {},
   "source": [
    "You may need to install plotly: `conda install -c plotly plotly`\n",
    "\n",
    "First, we'll make a plot in offline mode. This is useful for figuring out the syntax, trying things rapidly and experimenting without a plotly account."
   ]
  },
  {
   "cell_type": "code",
   "execution_count": null,
   "metadata": {},
   "outputs": [],
   "source": [
    "# Create a plot offline\n",
    "import plotly.offline\n",
    "plotly.offline.init_notebook_mode()\n",
    "\n",
    "\n",
    "x1 = [1, 3, 5, 7, 9]\n",
    "x2 = [2, 4, 6, 4, 2]\n",
    "x3 = [1, 4, 2, 6, 3]\n",
    "# import graph objects as \"go\"\n",
    "import plotly.graph_objs as go\n",
    "\n",
    "# Creating trace1\n",
    "trace1 = go.Scatter(\n",
    "                    x = x1,\n",
    "                    y = x2,\n",
    "                    mode = \"lines\",\n",
    "                    name = \"line1\",\n",
    "                    marker = dict(color = 'rgba(16, 112, 2, 0.8)'),\n",
    "                    text= x3)\n",
    "# Creating trace2\n",
    "trace2 = go.Scatter(\n",
    "                    x = x1,\n",
    "                    y = x3,\n",
    "                    mode = \"lines+markers\",\n",
    "                    name = \"line2\",\n",
    "                    marker = dict(color = 'rgba(80, 26, 80, 0.8)'),\n",
    "                    text= x3)\n",
    "data = [trace1, trace2]\n",
    "layout = dict(title = 'Two line plots',\n",
    "              xaxis= dict(title= 'X axis label',ticklen= 5,zeroline= False)\n",
    "             )\n",
    "fig = dict(data = data, layout = layout)\n",
    "\n",
    "plotly.offline.iplot(fig, filename=\"file.html\")"
   ]
  },
  {
   "cell_type": "markdown",
   "metadata": {},
   "source": [
    "Observe that the plot is \"interactive\" - you can zoom in, see particular values on mouse hover etc. It is also saved as an html file - one that could easily be included in a webpage or email report."
   ]
  },
  {
   "cell_type": "markdown",
   "metadata": {},
   "source": [
    "# Creating a plot and uploading to plotly"
   ]
  },
  {
   "cell_type": "markdown",
   "metadata": {},
   "source": [
    "This section requires that you have a plotly account, and is entirely optional. Notice that the figure creation is similar, with the only difference being the last few lines. \n",
    "\n",
    "The code to set credentials only needs to be run once - the API key can be found/generated from your plotly account."
   ]
  },
  {
   "cell_type": "code",
   "execution_count": null,
   "metadata": {},
   "outputs": [],
   "source": [
    "import plotly \n",
    "plotly.tools.set_credentials_file(username='YOUR_USERNAME', api_key='YOUR_API_KEY')"
   ]
  },
  {
   "cell_type": "code",
   "execution_count": null,
   "metadata": {},
   "outputs": [],
   "source": [
    "import plotly.graph_objs as go\n",
    "import plotly.plotly as py\n",
    "\n",
    "import numpy as np\n",
    "\n",
    "colorscale = [[0, '#FAEE1C'], [0.33, '#F3558E'], [0.66, '#9C1DE7'], [1, '#581B98']]\n",
    "trace1 = go.Scatter(\n",
    "    y = np.random.randn(500),\n",
    "    mode='markers',\n",
    "    marker=dict(\n",
    "        size=16,\n",
    "        color = np.random.randn(500),\n",
    "        colorscale=colorscale,\n",
    "        showscale=True\n",
    "    )\n",
    ")\n",
    "data = [trace1]\n",
    "url_1 = py.plot(data, filename='scatter-for-dashboard', auto_open=False)\n",
    "py.iplot(data, filename='scatter-for-dashboard')"
   ]
  }
 ],
 "metadata": {
  "kernelspec": {
   "display_name": "Python 3",
   "language": "python",
   "name": "python3"
  },
  "language_info": {
   "codemirror_mode": {
    "name": "ipython",
    "version": 3
   },
   "file_extension": ".py",
   "mimetype": "text/x-python",
   "name": "python",
   "nbconvert_exporter": "python",
   "pygments_lexer": "ipython3",
   "version": "3.7.3"
  }
 },
 "nbformat": 4,
 "nbformat_minor": 2
}
