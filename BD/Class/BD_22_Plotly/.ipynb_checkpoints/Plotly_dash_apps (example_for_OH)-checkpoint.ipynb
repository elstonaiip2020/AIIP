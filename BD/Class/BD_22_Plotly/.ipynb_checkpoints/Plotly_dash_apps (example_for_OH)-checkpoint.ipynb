{
 "cells": [
  {
   "cell_type": "markdown",
   "metadata": {},
   "source": [
    "# Setup"
   ]
  },
  {
   "cell_type": "code",
   "execution_count": 1,
   "metadata": {
    "colab": {},
    "colab_type": "code",
    "id": "FjWSL95XTnEy"
   },
   "outputs": [],
   "source": [
    "!pip install jupyter-dash -q"
   ]
  },
  {
   "cell_type": "code",
   "execution_count": 2,
   "metadata": {
    "colab": {},
    "colab_type": "code",
    "id": "vS3UggcZUeUz"
   },
   "outputs": [],
   "source": [
    "import plotly.express as px\n",
    "from jupyter_dash import JupyterDash\n",
    "import dash_core_components as dcc\n",
    "import dash_html_components as html\n",
    "from dash.dependencies import Input, Output"
   ]
  },
  {
   "cell_type": "code",
   "execution_count": 3,
   "metadata": {
    "colab": {},
    "colab_type": "code",
    "id": "oOcdQO0ZVLnS"
   },
   "outputs": [],
   "source": [
    "import pandas as pd\n",
    "import numpy as np"
   ]
  },
  {
   "cell_type": "markdown",
   "metadata": {
    "colab_type": "text",
    "id": "6BkdRQIgVlxc"
   },
   "source": [
    "# Loading Some Data"
   ]
  },
  {
   "cell_type": "markdown",
   "metadata": {
    "colab_type": "text",
    "id": "RM8Ue8hyVWcv"
   },
   "source": [
    "I used the data from https://drive.google.com/drive/u/1/folders/1dxwRUNX0a3iQhbvzJrOpvutKfadoBooS (BD11 spark ml notebook)"
   ]
  },
  {
   "cell_type": "code",
   "execution_count": 7,
   "metadata": {
    "colab": {
     "base_uri": "https://localhost:8080/",
     "height": 221
    },
    "colab_type": "code",
    "id": "Q0vsRvvRVaEu",
    "outputId": "80f30834-d09a-46bf-8330-182f135db325"
   },
   "outputs": [
    {
     "name": "stdout",
     "output_type": "stream",
     "text": [
      "(768, 8)\n"
     ]
    },
    {
     "data": {
      "text/html": [
       "<div>\n",
       "<style scoped>\n",
       "    .dataframe tbody tr th:only-of-type {\n",
       "        vertical-align: middle;\n",
       "    }\n",
       "\n",
       "    .dataframe tbody tr th {\n",
       "        vertical-align: top;\n",
       "    }\n",
       "\n",
       "    .dataframe thead th {\n",
       "        text-align: right;\n",
       "    }\n",
       "</style>\n",
       "<table border=\"1\" class=\"dataframe\">\n",
       "  <thead>\n",
       "    <tr style=\"text-align: right;\">\n",
       "      <th></th>\n",
       "      <th>Relative_Compactness</th>\n",
       "      <th>Surface_Area</th>\n",
       "      <th>Wall_Area</th>\n",
       "      <th>Roof_Area</th>\n",
       "      <th>Overall_Height</th>\n",
       "      <th>Orientation</th>\n",
       "      <th>Glazing_Area</th>\n",
       "      <th>Cooling_Load</th>\n",
       "    </tr>\n",
       "  </thead>\n",
       "  <tbody>\n",
       "    <tr>\n",
       "      <th>0</th>\n",
       "      <td>0.98</td>\n",
       "      <td>514.5</td>\n",
       "      <td>294.0</td>\n",
       "      <td>110.25</td>\n",
       "      <td>7.0</td>\n",
       "      <td>2</td>\n",
       "      <td>0.0</td>\n",
       "      <td>21.33</td>\n",
       "    </tr>\n",
       "    <tr>\n",
       "      <th>1</th>\n",
       "      <td>0.98</td>\n",
       "      <td>514.5</td>\n",
       "      <td>294.0</td>\n",
       "      <td>110.25</td>\n",
       "      <td>7.0</td>\n",
       "      <td>3</td>\n",
       "      <td>0.0</td>\n",
       "      <td>21.33</td>\n",
       "    </tr>\n",
       "    <tr>\n",
       "      <th>2</th>\n",
       "      <td>0.98</td>\n",
       "      <td>514.5</td>\n",
       "      <td>294.0</td>\n",
       "      <td>110.25</td>\n",
       "      <td>7.0</td>\n",
       "      <td>4</td>\n",
       "      <td>0.0</td>\n",
       "      <td>21.33</td>\n",
       "    </tr>\n",
       "    <tr>\n",
       "      <th>3</th>\n",
       "      <td>0.98</td>\n",
       "      <td>514.5</td>\n",
       "      <td>294.0</td>\n",
       "      <td>110.25</td>\n",
       "      <td>7.0</td>\n",
       "      <td>5</td>\n",
       "      <td>0.0</td>\n",
       "      <td>21.33</td>\n",
       "    </tr>\n",
       "    <tr>\n",
       "      <th>4</th>\n",
       "      <td>0.90</td>\n",
       "      <td>563.5</td>\n",
       "      <td>318.5</td>\n",
       "      <td>122.50</td>\n",
       "      <td>7.0</td>\n",
       "      <td>2</td>\n",
       "      <td>0.0</td>\n",
       "      <td>28.28</td>\n",
       "    </tr>\n",
       "  </tbody>\n",
       "</table>\n",
       "</div>"
      ],
      "text/plain": [
       "   Relative_Compactness  Surface_Area  Wall_Area  Roof_Area  Overall_Height  \\\n",
       "0                  0.98         514.5      294.0     110.25             7.0   \n",
       "1                  0.98         514.5      294.0     110.25             7.0   \n",
       "2                  0.98         514.5      294.0     110.25             7.0   \n",
       "3                  0.98         514.5      294.0     110.25             7.0   \n",
       "4                  0.90         563.5      318.5     122.50             7.0   \n",
       "\n",
       "   Orientation  Glazing_Area  Cooling_Load  \n",
       "0            2           0.0         21.33  \n",
       "1            3           0.0         21.33  \n",
       "2            4           0.0         21.33  \n",
       "3            5           0.0         21.33  \n",
       "4            2           0.0         28.28  "
      ]
     },
     "execution_count": 7,
     "metadata": {},
     "output_type": "execute_result"
    }
   ],
   "source": [
    "df = pd.read_csv('energy_data_ml.csv').drop('Unnamed: 0', axis=1)\n",
    "print(df.shape)\n",
    "df.head()"
   ]
  },
  {
   "cell_type": "markdown",
   "metadata": {
    "colab_type": "text",
    "id": "FMonPmILVn2S"
   },
   "source": [
    "We might want to plot the relationship between Surface Area and Cooling Load. In pandas, we can do:"
   ]
  },
  {
   "cell_type": "code",
   "execution_count": 8,
   "metadata": {
    "colab": {
     "base_uri": "https://localhost:8080/",
     "height": 297
    },
    "colab_type": "code",
    "id": "Z9C4j71mVikF",
    "outputId": "c2c46244-2128-4589-a197-593cf9acca18"
   },
   "outputs": [
    {
     "data": {
      "text/plain": [
       "<matplotlib.axes._subplots.AxesSubplot at 0x7f7a44f2f4d0>"
      ]
     },
     "execution_count": 8,
     "metadata": {},
     "output_type": "execute_result"
    },
    {
     "data": {
      "image/png": "[encoded data removed]",
      "text/plain": [
       "<Figure size 432x288 with 1 Axes>"
      ]
     },
     "metadata": {
      "needs_background": "light"
     },
     "output_type": "display_data"
    }
   ],
   "source": [
    "df.plot(kind='scatter', x='Surface_Area', y='Cooling_Load')"
   ]
  },
  {
   "cell_type": "markdown",
   "metadata": {
    "colab_type": "text",
    "id": "DGSdiJzRV87L"
   },
   "source": [
    "But what if we wanted to share this data and make it interactive? Enter Plotly/Dash"
   ]
  },
  {
   "cell_type": "markdown",
   "metadata": {},
   "source": [
    "# Minimal Example"
   ]
  },
  {
   "cell_type": "code",
   "execution_count": 9,
   "metadata": {
    "colab": {
     "base_uri": "https://localhost:8080/",
     "height": 671
    },
    "colab_type": "code",
    "id": "VzeTkp8YV5vF",
    "outputId": "e7cfc75f-be21-4912-b859-ce4f953ad2fa"
   },
   "outputs": [
    {
     "data": {
      "text/html": [
       "\n",
       "        <iframe\n",
       "            width=\"800\"\n",
       "            height=\"650\"\n",
       "            src=\"http://127.0.0.1:8050/\"\n",
       "            frameborder=\"0\"\n",
       "            allowfullscreen\n",
       "        ></iframe>\n",
       "        "
      ],
      "text/plain": [
       "<IPython.lib.display.IFrame at 0x7f7a46252c90>"
      ]
     },
     "metadata": {},
     "output_type": "display_data"
    }
   ],
   "source": [
    "# Build App\n",
    "app = JupyterDash(__name__)\n",
    "app.layout = html.Div([\n",
    "    html.H1(\"JupyterDash Demo 1 - Use HTML components!\"),\n",
    "    dcc.Graph(id='graph1',\n",
    "      figure=px.scatter(\n",
    "          df, # Specify the dataframe\n",
    "          x=\"Surface_Area\", \n",
    "          y=\"Cooling_Load\",\n",
    "          title=\"Surface Area vs Cooling Load\",\n",
    "          color='Surface_Area' # We can add color or size options...\n",
    "      )\n",
    "    ),\n",
    "])\n",
    "\n",
    "# Run app and display result inline in the notebook\n",
    "app.run_server(mode='inline')"
   ]
  },
  {
   "cell_type": "markdown",
   "metadata": {
    "colab": {},
    "colab_type": "code",
    "id": "-mbbqCGzWj52"
   },
   "source": [
    "That's pretty cool already, and since it's a flask app under the hood it's very easy to host somewhere (eg pythonanywhere). But where plotly shines is in interactivity:"
   ]
  },
  {
   "cell_type": "markdown",
   "metadata": {},
   "source": [
    "# Now make it interactive!"
   ]
  },
  {
   "cell_type": "code",
   "execution_count": 10,
   "metadata": {},
   "outputs": [
    {
     "data": {
      "text/html": [
       "\n",
       "        <iframe\n",
       "            width=\"800\"\n",
       "            height=\"650\"\n",
       "            src=\"http://127.0.0.1:8050/\"\n",
       "            frameborder=\"0\"\n",
       "            allowfullscreen\n",
       "        ></iframe>\n",
       "        "
      ],
      "text/plain": [
       "<IPython.lib.display.IFrame at 0x7f7a43520050>"
      ]
     },
     "metadata": {},
     "output_type": "display_data"
    }
   ],
   "source": [
    "# Build App\n",
    "app = JupyterDash(__name__)\n",
    "app.layout = html.Div([\n",
    "    html.H1(\"JupyterDash Demo 2 - Callbacks and interactivity\"),\n",
    "    dcc.Graph(id='graph1'), # We'll update the figure in the callback\n",
    "    html.Label([\n",
    "        \"X Axis\",\n",
    "        dcc.Dropdown(\n",
    "            id='x-axis-dropdown', clearable=False,\n",
    "            value='Surface_Area', options=[\n",
    "                {'label': c, 'value': c}\n",
    "                for c in df.columns\n",
    "            ])\n",
    "    ]),\n",
    "])\n",
    "\n",
    "# Callbacks!\n",
    "# Define callback to update graph\n",
    "@app.callback(\n",
    "    Output('graph1', 'figure'), # What are we updating?\n",
    "    [Input(\"x-axis-dropdown\", \"value\")] # What triggers an update?\n",
    ")\n",
    "def update_figure(chosen_x):\n",
    "    figure=px.scatter(\n",
    "          df, # Specify the dataframe\n",
    "          x=chosen_x, \n",
    "          y=\"Cooling_Load\",\n",
    "          title=chosen_x + \" vs Cooling Load\",\n",
    "          color='Surface_Area' # We can add color or size options...\n",
    "      )\n",
    "    return figure\n",
    "\n",
    "# Run app and display result inline in the notebook\n",
    "app.run_server(mode='inline')"
   ]
  },
  {
   "cell_type": "markdown",
   "metadata": {},
   "source": [
    "# Multiple figures\n",
    "\n",
    "There is no reason we can't make multiple figures and arrange them however we like. Here's an example:"
   ]
  },
  {
   "cell_type": "code",
   "execution_count": 13,
   "metadata": {},
   "outputs": [
    {
     "data": {
      "text/html": [
       "\n",
       "        <iframe\n",
       "            width=\"800\"\n",
       "            height=\"650\"\n",
       "            src=\"http://127.0.0.1:8050/\"\n",
       "            frameborder=\"0\"\n",
       "            allowfullscreen\n",
       "        ></iframe>\n",
       "        "
      ],
      "text/plain": [
       "<IPython.lib.display.IFrame at 0x7f7a42c53e50>"
      ]
     },
     "metadata": {},
     "output_type": "display_data"
    }
   ],
   "source": [
    "# Build App\n",
    "app = JupyterDash(__name__, external_stylesheets=['https://codepen.io/chriddyp/pen/bWLwgP.css'])\n",
    "app.layout = html.Div([\n",
    "    html.H1(\"JupyterDash Demo 3 - Multiple Figures!\"),\n",
    "    html.Div(className=\"row\", style={ 'width':'100%'}, children=[\n",
    "        html.Div(\n",
    "            dcc.Graph(id='graph2',\n",
    "              figure=px.scatter(\n",
    "                  df, # Specify the dataframe\n",
    "                  x=\"Roof_Area\", \n",
    "                  y=\"Cooling_Load\",\n",
    "                  title=\"Roof Area vs Cooling Load\"\n",
    "              ),\n",
    "            ), style={'display': 'inline-block', 'width':'49%'} # We can use HTML/CSS styling)\n",
    "        ),\n",
    "        html.Div(\n",
    "            dcc.Graph(id='graph3',\n",
    "              figure=px.scatter(\n",
    "                  df, # Specify the dataframe\n",
    "                  x=\"Wall_Area\", \n",
    "                  y=\"Cooling_Load\",\n",
    "                  title=\"Wall Area vs Cooling Load\"\n",
    "              ),\n",
    "            ), style={'display': 'inline-block', 'width':'49%'} # We can use HTML/CSS styling)\n",
    "        ),\n",
    "    ]),\n",
    "    \n",
    "    dcc.Graph(id='graph1',\n",
    "      figure=px.scatter(\n",
    "          df, # Specify the dataframe\n",
    "          x=\"Surface_Area\", \n",
    "          y=\"Cooling_Load\",\n",
    "          title=\"Surface Area vs Cooling Load\",\n",
    "          color='Surface_Area' # We can add color or size options...\n",
    "      )\n",
    "    ),\n",
    "])\n",
    "\n",
    "# Run app and display result inline in the notebook\n",
    "app.run_server(mode='inline')"
   ]
  },
  {
   "cell_type": "code",
   "execution_count": 12,
   "metadata": {},
   "outputs": [
    {
     "name": "stdout",
     "output_type": "stream",
     "text": [
      "Dash app running on http://127.0.0.1:8050/\n"
     ]
    }
   ],
   "source": [
    "# To run this and view in a separate tab:\n",
    "app.run_server(mode='external')"
   ]
  },
  {
   "cell_type": "code",
   "execution_count": null,
   "metadata": {},
   "outputs": [],
   "source": []
  }
 ],
 "metadata": {
  "colab": {
   "name": "Plotly/dash apps.ipynb",
   "provenance": []
  },
  "hide_input": false,
  "kernelspec": {
   "display_name": "Python 3",
   "language": "python",
   "name": "python3"
  },
  "language_info": {
   "codemirror_mode": {
    "name": "ipython",
    "version": 3
   },
   "file_extension": ".py",
   "mimetype": "text/x-python",
   "name": "python",
   "nbconvert_exporter": "python",
   "pygments_lexer": "ipython3",
   "version": "3.7.1"
  }
 },
 "nbformat": 4,
 "nbformat_minor": 1
}
