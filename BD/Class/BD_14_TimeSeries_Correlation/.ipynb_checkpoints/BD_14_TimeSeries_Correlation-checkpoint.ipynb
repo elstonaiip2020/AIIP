{
 "cells": [
  {
   "cell_type": "markdown",
   "metadata": {
    "colab_type": "text",
    "id": "hiyK9UKzjzVx"
   },
   "source": [
    "# Correlation\n",
    "\n",
    "Correlation is the measure of the relationship between two entites or variables.  \n",
    "Two entitites/variables are said to have positive corellation if both entities/varibles either:  \n",
    "   1) increase with time  \n",
    "   2) Decrease with time  \n",
    "The brightness of a lightbulb is positively correlated to the amount of power supplied to the lightbulb.  \n",
    "Two entitites/variables are said to have positive corellation if both entities/varibles move in opposite directions with time.  \n",
    "Number of games played on the a phone is negatively correlated to battery life.  \n",
    "\n",
    "A feature of correlation is direction.  \n",
    "If both variables are increasing, it is referred to that as positive correlation.  \n",
    "If both variables are decreasing, it is referred to that as negative correlation.  \n",
    "If both variables do not appear to have discernable pattern (sattered), it is said to have no correlation.\n"
   ]
  },
  {
   "cell_type": "code",
   "execution_count": null,
   "metadata": {
    "cellView": "code",
    "colab": {
     "autoexec": {
      "startup": false,
      "wait_interval": 0
     },
     "base_uri": "https://localhost:8080/",
     "height": 89,
     "resources": {
      "http://localhost:8080/nbextensions/google.colab/files.js": {
       "data": "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",
       "headers": [
        [
         "content-type",
         "application/javascript"
        ]
       ],
       "ok": true,
       "status": 200,
       "status_text": ""
      }
     }
    },
    "colab_type": "code",
    "executionInfo": {
     "elapsed": 16112,
     "status": "ok",
     "timestamp": 1525241796639,
     "user": {
      "displayName": "Kingston Coker",
      "photoUrl": "//lh6.googleusercontent.com/-cBcD86sOfdQ/AAAAAAAAAAI/AAAAAAAAABI/PtDVJTRIWKI/s50-c-k-no/photo.jpg",
      "userId": "114706732942057342717"
     },
     "user_tz": 0
    },
    "id": "d_6zUn-tkRYF",
    "outputId": "5331b3b9-a45f-4f6f-886d-99a4ecb2f6cf"
   },
   "outputs": [],
   "source": [
    "import pandas as pd\n",
    "import matplotlib.pyplot as pyplot\n",
    "# from google.colab import files\n",
    "\n",
    "!ls\n",
    "# !rm \"multichoice_call_volumes.csv\"\n",
    "# uploaded = files.upload()"
   ]
  },
  {
   "cell_type": "code",
   "execution_count": null,
   "metadata": {
    "colab": {
     "autoexec": {
      "startup": false,
      "wait_interval": 0
     },
     "base_uri": "https://localhost:8080/",
     "height": 204
    },
    "colab_type": "code",
    "executionInfo": {
     "elapsed": 907,
     "status": "ok",
     "timestamp": 1525241797599,
     "user": {
      "displayName": "Kingston Coker",
      "photoUrl": "//lh6.googleusercontent.com/-cBcD86sOfdQ/AAAAAAAAAAI/AAAAAAAAABI/PtDVJTRIWKI/s50-c-k-no/photo.jpg",
      "userId": "114706732942057342717"
     },
     "user_tz": 0
    },
    "id": "bf2aXhA5ehwQ",
    "outputId": "8e74ecd3-678a-417d-e3a1-252d6f261a9a"
   },
   "outputs": [],
   "source": [
    "# This dataset represent the number of complaints a company recieves between\n",
    "# the hours of 7 a.m. to 10 p.m. from 2015-04-01 to 2018-02-18 among \n",
    "# two products they offer.\n",
    "data = pd.read_csv(\"multichoice_call_volumes.csv\")\n",
    "data.tail()\n"
   ]
  },
  {
   "cell_type": "code",
   "execution_count": null,
   "metadata": {
    "colab": {
     "autoexec": {
      "startup": false,
      "wait_interval": 0
     },
     "base_uri": "https://localhost:8080/",
     "height": 102
    },
    "colab_type": "code",
    "executionInfo": {
     "elapsed": 799,
     "status": "ok",
     "timestamp": 1525241798792,
     "user": {
      "displayName": "Kingston Coker",
      "photoUrl": "//lh6.googleusercontent.com/-cBcD86sOfdQ/AAAAAAAAAAI/AAAAAAAAABI/PtDVJTRIWKI/s50-c-k-no/photo.jpg",
      "userId": "114706732942057342717"
     },
     "user_tz": 0
    },
    "id": "kZM3s89oiQzM",
    "outputId": "f1fb214f-4393-44b9-9f66-acacd66a2317"
   },
   "outputs": [],
   "source": [
    " data.dtypes"
   ]
  },
  {
   "cell_type": "markdown",
   "metadata": {
    "colab_type": "text",
    "id": "z22IsaFNEz-Q"
   },
   "source": [
    "Convert the Date column to a date object"
   ]
  },
  {
   "cell_type": "code",
   "execution_count": null,
   "metadata": {
    "colab": {
     "autoexec": {
      "startup": false,
      "wait_interval": 0
     },
     "base_uri": "https://localhost:8080/",
     "height": 102
    },
    "colab_type": "code",
    "executionInfo": {
     "elapsed": 760,
     "status": "ok",
     "timestamp": 1525241800648,
     "user": {
      "displayName": "Kingston Coker",
      "photoUrl": "//lh6.googleusercontent.com/-cBcD86sOfdQ/AAAAAAAAAAI/AAAAAAAAABI/PtDVJTRIWKI/s50-c-k-no/photo.jpg",
      "userId": "114706732942057342717"
     },
     "user_tz": 0
    },
    "id": "Msyme9elf_5X",
    "outputId": "63779945-fa38-4f83-cf14-a339f5ad44f2"
   },
   "outputs": [],
   "source": [
    "data.Date = pd.to_datetime(data.Date)\n",
    "data.Time = data.Time.astype(str) +  \":00\"\n",
    "data.dtypes"
   ]
  },
  {
   "cell_type": "code",
   "execution_count": null,
   "metadata": {
    "colab": {
     "autoexec": {
      "startup": false,
      "wait_interval": 0
     },
     "base_uri": "https://localhost:8080/",
     "height": 204
    },
    "colab_type": "code",
    "executionInfo": {
     "elapsed": 755,
     "status": "ok",
     "timestamp": 1525241801849,
     "user": {
      "displayName": "Kingston Coker",
      "photoUrl": "//lh6.googleusercontent.com/-cBcD86sOfdQ/AAAAAAAAAAI/AAAAAAAAABI/PtDVJTRIWKI/s50-c-k-no/photo.jpg",
      "userId": "114706732942057342717"
     },
     "user_tz": 0
    },
    "id": "h9I_H-k38Axx",
    "outputId": "3b6329fd-8e22-4bae-93b7-63614fb7473c"
   },
   "outputs": [],
   "source": [
    "data.head()\n",
    "# data.Time.map(type)"
   ]
  },
  {
   "cell_type": "markdown",
   "metadata": {
    "colab_type": "text",
    "id": "wb6dBAtKpGay"
   },
   "source": [
    "##Correlation Direction\n",
    "Correlation between two varaible are measured by a correlation cofficient  \n",
    "Correlation coefficient takes on values between -1 and +1 i.e. -1 < r < 1  \n",
    "\n",
    "Both sign and magnitude of the correllation coefficent are important\n",
    "\n",
    "A positive correlation implies 0 < r < 1  \n",
    "A negative correlation implies -1 < r < 0  \n",
    "No correlation imples r = 0\n",
    "\n",
    "To find the correlation between the two products we use the function `pd.corr`\n"
   ]
  },
  {
   "cell_type": "code",
   "execution_count": null,
   "metadata": {
    "colab": {
     "autoexec": {
      "startup": false,
      "wait_interval": 0
     },
     "base_uri": "https://localhost:8080/",
     "height": 34
    },
    "colab_type": "code",
    "executionInfo": {
     "elapsed": 807,
     "status": "ok",
     "timestamp": 1525241805550,
     "user": {
      "displayName": "Kingston Coker",
      "photoUrl": "//lh6.googleusercontent.com/-cBcD86sOfdQ/AAAAAAAAAAI/AAAAAAAAABI/PtDVJTRIWKI/s50-c-k-no/photo.jpg",
      "userId": "114706732942057342717"
     },
     "user_tz": 0
    },
    "id": "ZiP8td9YpHIB",
    "outputId": "07b66bf5-04a8-4964-fb6f-09c86d9651e2"
   },
   "outputs": [],
   "source": [
    "data['product_1'].corr(data['product_2'])"
   ]
  },
  {
   "cell_type": "markdown",
   "metadata": {
    "colab_type": "text",
    "id": "FwjiOSX7-VYz"
   },
   "source": [
    "From the correlation coeffiecent value, we can say product_1 and product_2 have a positve correlation."
   ]
  },
  {
   "cell_type": "markdown",
   "metadata": {
    "colab_type": "text",
    "id": "poMvxP6RmXgo"
   },
   "source": [
    "## Correlation Strength\n",
    "The closer the correlation coefficient is to 1 the higher the correlation regardless of the the sign  \n",
    "\n",
    "A perfect positive correlation implies r = ±1.  \n",
    "A high or strong positive correlation implies ±0.8 < r <= ±1  \n",
    "A medium positive correlation implies ±0.5 < r <= ±0.8  \n",
    "A low positive correlation implies r <= ±0.4\n"
   ]
  },
  {
   "cell_type": "code",
   "execution_count": null,
   "metadata": {
    "colab": {
     "autoexec": {
      "startup": false,
      "wait_interval": 0
     },
     "base_uri": "https://localhost:8080/",
     "height": 34
    },
    "colab_type": "code",
    "executionInfo": {
     "elapsed": 732,
     "status": "ok",
     "timestamp": 1525241809121,
     "user": {
      "displayName": "Kingston Coker",
      "photoUrl": "//lh6.googleusercontent.com/-cBcD86sOfdQ/AAAAAAAAAAI/AAAAAAAAABI/PtDVJTRIWKI/s50-c-k-no/photo.jpg",
      "userId": "114706732942057342717"
     },
     "user_tz": 0
    },
    "id": "UIOGf1bCmXIy",
    "outputId": "6cb1e089-e892-4060-a8aa-6892c4831cb8"
   },
   "outputs": [],
   "source": [
    "data['product_1'][1:6].corr(data['product_2'][1:6])"
   ]
  },
  {
   "cell_type": "markdown",
   "metadata": {
    "colab_type": "text",
    "id": "_jCQIiLQqf7D"
   },
   "source": [
    "The above correlation coefficient indicates a high positve correlation between product_1 and product_2"
   ]
  },
  {
   "cell_type": "code",
   "execution_count": null,
   "metadata": {
    "colab": {
     "autoexec": {
      "startup": false,
      "wait_interval": 0
     },
     "base_uri": "https://localhost:8080/",
     "height": 34
    },
    "colab_type": "code",
    "executionInfo": {
     "elapsed": 758,
     "status": "ok",
     "timestamp": 1525241810580,
     "user": {
      "displayName": "Kingston Coker",
      "photoUrl": "//lh6.googleusercontent.com/-cBcD86sOfdQ/AAAAAAAAAAI/AAAAAAAAABI/PtDVJTRIWKI/s50-c-k-no/photo.jpg",
      "userId": "114706732942057342717"
     },
     "user_tz": 0
    },
    "id": "XPp5sb8Gp6aE",
    "outputId": "50a09df8-1140-40ab-9bd3-a9c84f01fc80"
   },
   "outputs": [],
   "source": [
    "data['product_1'][6:12].corr(data['product_2'][6:12])\n"
   ]
  },
  {
   "cell_type": "markdown",
   "metadata": {
    "colab_type": "text",
    "id": "A7qmncotOc7V"
   },
   "source": [
    "The above correlation coefficient indicates a medium negative correlation between product_1 and product_2"
   ]
  },
  {
   "cell_type": "markdown",
   "metadata": {
    "colab_type": "text",
    "id": "wHu2mStAiopY"
   },
   "source": [
    "# AutoCorrelation \n",
    "\n"
   ]
  },
  {
   "cell_type": "code",
   "execution_count": null,
   "metadata": {
    "colab": {
     "autoexec": {
      "startup": false,
      "wait_interval": 0
     },
     "base_uri": "https://localhost:8080/",
     "height": 373
    },
    "colab_type": "code",
    "executionInfo": {
     "elapsed": 3562,
     "status": "ok",
     "timestamp": 1525241820862,
     "user": {
      "displayName": "Kingston Coker",
      "photoUrl": "//lh6.googleusercontent.com/-cBcD86sOfdQ/AAAAAAAAAAI/AAAAAAAAABI/PtDVJTRIWKI/s50-c-k-no/photo.jpg",
      "userId": "114706732942057342717"
     },
     "user_tz": 0
    },
    "id": "gO6tm2HIjuNH",
    "outputId": "c29d305f-82d1-4e41-ab8c-db0290ea3606"
   },
   "outputs": [],
   "source": [
    "from pandas import Series\n",
    "data_clean = data\n",
    "data_clean['Date'] = pd.to_datetime(data['Date'].apply(str)+' '+ data['Time'])\n",
    "# data_clean\n",
    "\n",
    "\n",
    "# The code will create the dataset as a Pandas Series.\n",
    "ts = Series(data['product_1'].values, index=data.Date) \n",
    "plt = ts[1:1000].plot()\n",
    "pyplot.show(plt)"
   ]
  },
  {
   "cell_type": "code",
   "execution_count": null,
   "metadata": {
    "colab": {
     "autoexec": {
      "startup": false,
      "wait_interval": 0
     }
    },
    "colab_type": "code",
    "id": "pDWLrHR-wPnr"
   },
   "outputs": [],
   "source": [
    "# create a series object from the second product (product_2) and plot the values"
   ]
  },
  {
   "cell_type": "markdown",
   "metadata": {
    "colab_type": "text",
    "id": "4AvhWwoyugKG"
   },
   "source": [
    "## Quick Check for Autocorrelation\n",
    "\n",
    "There is a quick, visual check that we can do to see if there is an autocorrelation in our time series dataset.  \n",
    "Pandas provides a built-in plot to do exactly this, called the lag_plot() function."
   ]
  },
  {
   "cell_type": "code",
   "execution_count": null,
   "metadata": {
    "colab": {
     "autoexec": {
      "startup": false,
      "wait_interval": 0
     },
     "base_uri": "https://localhost:8080/",
     "height": 378
    },
    "colab_type": "code",
    "executionInfo": {
     "elapsed": 1135,
     "status": "ok",
     "timestamp": 1525241824803,
     "user": {
      "displayName": "Kingston Coker",
      "photoUrl": "//lh6.googleusercontent.com/-cBcD86sOfdQ/AAAAAAAAAAI/AAAAAAAAABI/PtDVJTRIWKI/s50-c-k-no/photo.jpg",
      "userId": "114706732942057342717"
     },
     "user_tz": 0
    },
    "id": "fsanI5krufrV",
    "outputId": "9150e2c9-f624-4c20-92e9-d1ad8cb82cac"
   },
   "outputs": [],
   "source": [
    "from pandas.plotting import lag_plot\n",
    "lag_plot(ts)\n",
    "pyplot.show()"
   ]
  },
  {
   "cell_type": "markdown",
   "metadata": {
    "colab_type": "text",
    "id": "ciL2OsNmvVpZ"
   },
   "source": [
    "We can see a large ball of observations along a diagonal line of the plot.  \n",
    "It shows a relationship or some correlation."
   ]
  },
  {
   "cell_type": "markdown",
   "metadata": {
    "colab_type": "text",
    "id": "-HwBqEWnxEND"
   },
   "source": [
    "## Autocorelation Plots\n",
    "\n",
    "We can plot the correlation coefficient for each lag variable.  \n",
    "This can very quickly give an idea of which lag variables may be good candidates for use in a predictive model and how the relationship between the observation and its historic values changes over time.  \n",
    "Pandas provides a built-in plot called the autocorrelation_plot() function.  \n",
    "The plot provides the lag number along the x-axis and the correlation coefficient value between -1 and 1 on the y-axis. The plot also includes solid and dashed lines that indicate the 95% and 99% confidence interval for the correlation values. Correlation values above these lines are more significant than those below the line, providing a threshold or cutoff for selecting more relevant lag values."
   ]
  },
  {
   "cell_type": "code",
   "execution_count": null,
   "metadata": {
    "colab": {
     "autoexec": {
      "startup": false,
      "wait_interval": 0
     },
     "base_uri": "https://localhost:8080/",
     "height": 365
    },
    "colab_type": "code",
    "executionInfo": {
     "elapsed": 914,
     "status": "ok",
     "timestamp": 1525241859409,
     "user": {
      "displayName": "Kingston Coker",
      "photoUrl": "//lh6.googleusercontent.com/-cBcD86sOfdQ/AAAAAAAAAAI/AAAAAAAAABI/PtDVJTRIWKI/s50-c-k-no/photo.jpg",
      "userId": "114706732942057342717"
     },
     "user_tz": 0
    },
    "id": "2WqPaqQpxQzx",
    "outputId": "3ebfd9da-74a7-45ce-9e2c-00513fbc3336"
   },
   "outputs": [],
   "source": [
    "from pandas.plotting import autocorrelation_plot\n",
    "\n",
    "autocorrelation_plot(ts[1:1000])\n",
    "pyplot.show()"
   ]
  },
  {
   "cell_type": "markdown",
   "metadata": {
    "colab_type": "text",
    "id": "2mjm6XsYgVkG"
   },
   "source": [
    "Running the example shows the swing in positive and negative correlation as the call volume values change across seasons each previous year."
   ]
  },
  {
   "cell_type": "code",
   "execution_count": null,
   "metadata": {
    "colab": {
     "autoexec": {
      "startup": false,
      "wait_interval": 0
     },
     "base_uri": "https://localhost:8080/",
     "height": 396
    },
    "colab_type": "code",
    "executionInfo": {
     "elapsed": 775,
     "status": "ok",
     "timestamp": 1525241864461,
     "user": {
      "displayName": "Kingston Coker",
      "photoUrl": "//lh6.googleusercontent.com/-cBcD86sOfdQ/AAAAAAAAAAI/AAAAAAAAABI/PtDVJTRIWKI/s50-c-k-no/photo.jpg",
      "userId": "114706732942057342717"
     },
     "user_tz": 0
    },
    "id": "C8Ln-KVlSEa7",
    "outputId": "aa40dae2-8a37-47a7-87d8-59c3154c2c47"
   },
   "outputs": [],
   "source": [
    "from statsmodels.graphics.tsaplots import plot_acf\n",
    "plot_acf(ts, lags=31)\n",
    "pyplot.show()"
   ]
  },
  {
   "cell_type": "markdown",
   "metadata": {
    "colab_type": "text",
    "id": "vYDjVTU1xEoH"
   },
   "source": [
    "In the above example, we limit the lag variables evaluated to 31 for readability."
   ]
  },
  {
   "cell_type": "markdown",
   "metadata": {
    "colab_type": "text",
    "id": "AQ3M0OOTth_j"
   },
   "source": [
    "To calculate the autocorrelation of the data with different lags pandas provides the function autocorr on the series object which accepts an integer parameter for the lag.  \n",
    "In the code below i want to find the autocorrelation from lag=1 to lag=100.  \n",
    "The function used in general terms is referred to as the autocorrelation function(ACF)"
   ]
  },
  {
   "cell_type": "code",
   "execution_count": null,
   "metadata": {
    "colab": {
     "autoexec": {
      "startup": false,
      "wait_interval": 0
     },
     "base_uri": "https://localhost:8080/",
     "height": 170
    },
    "colab_type": "code",
    "executionInfo": {
     "elapsed": 745,
     "status": "ok",
     "timestamp": 1525241870016,
     "user": {
      "displayName": "Kingston Coker",
      "photoUrl": "//lh6.googleusercontent.com/-cBcD86sOfdQ/AAAAAAAAAAI/AAAAAAAAABI/PtDVJTRIWKI/s50-c-k-no/photo.jpg",
      "userId": "114706732942057342717"
     },
     "user_tz": 0
    },
    "id": "jksCpQ8Ki305",
    "outputId": "a84708e1-8d83-4446-e6af-4e0310b7d244"
   },
   "outputs": [],
   "source": [
    "from pandas.plotting import autocorrelation_plot\n",
    "\n",
    "auto_correlation = [ts.autocorr(i) for i in range(0,100)]\n",
    "auto_correlation[1:10] # show the first 10 values. Remove the indexing to see all\n",
    "\n"
   ]
  },
  {
   "cell_type": "code",
   "execution_count": null,
   "metadata": {
    "colab": {
     "autoexec": {
      "startup": false,
      "wait_interval": 0
     }
    },
    "colab_type": "code",
    "id": "OvFB9mCQjVnQ"
   },
   "outputs": [],
   "source": [
    "# find the autocorrelation for the second product (product_2)\n",
    "# auto_correlation_2\n"
   ]
  },
  {
   "cell_type": "markdown",
   "metadata": {
    "colab_type": "text",
    "id": "z9MfGDUPi9oY"
   },
   "source": [
    "To graph it we will use the autocorrelation_plot function from pandas. The function accepts a pandas series and automatically calculates the autocorrelation at varying time lags."
   ]
  },
  {
   "cell_type": "markdown",
   "metadata": {
    "colab_type": "text",
    "id": "_RdzrxN68vra"
   },
   "source": [
    "# Autoregression Model\n",
    "An autoregression model is a linear regression model that uses lagged variables as input variables.  \n",
    "\n",
    "The statsmodels library provides an autoregression model that automatically selects an appropriate lag value using statistical tests and trains a linear regression model. It is provided in the AR class.  \n",
    "\n",
    "We can use this model by first creating the model AR() and then calling fit() to train it on our dataset. This returns an ARResult object.  \n",
    "\n",
    "Once fit, we can use the model to make a prediction by calling the predict() function for a number of observations in the future.  "
   ]
  },
  {
   "cell_type": "code",
   "execution_count": null,
   "metadata": {
    "colab": {
     "autoexec": {
      "startup": false,
      "wait_interval": 0
     },
     "base_uri": "https://localhost:8080/",
     "height": 840
    },
    "colab_type": "code",
    "executionInfo": {
     "elapsed": 1737,
     "status": "ok",
     "timestamp": 1525241879118,
     "user": {
      "displayName": "Kingston Coker",
      "photoUrl": "//lh6.googleusercontent.com/-cBcD86sOfdQ/AAAAAAAAAAI/AAAAAAAAABI/PtDVJTRIWKI/s50-c-k-no/photo.jpg",
      "userId": "114706732942057342717"
     },
     "user_tz": 0
    },
    "id": "92cDVtzxi9DA",
    "outputId": "a4f3ffb1-1d38-429d-deba-39ed8fc7c6a2"
   },
   "outputs": [],
   "source": [
    "from statsmodels.tsa.ar_model import AR\n",
    "from sklearn.metrics import mean_squared_error\n",
    "\n",
    "# split dataset to get only the values\n",
    "ts_values = ts.values\n",
    "\n",
    "train, test = ts_values[1:len(ts_values)-16], ts_values[len(ts_values)-16:]\n",
    "\n",
    "# train autoregression\n",
    "model = AR(train)\n",
    "model_fit = model.fit()\n",
    "print('Lag: %s' % model_fit.k_ar)\n",
    "print('Coefficients: %s' % model_fit.params)\n",
    "\n",
    "predictions = model_fit.predict(start=len(train), end=len(train)+len(test)-1, dynamic=False)\n",
    "for i in range(len(predictions)):\n",
    "\tprint('predicted=%f, expected=%f' % (predictions[i], test[i]))\n",
    "error = mean_squared_error(test, predictions)\n",
    "print('Test MSE: %.3f' % error)\n",
    "# plot results\n",
    "pyplot.plot(test)\n",
    "pyplot.plot(predictions, color='red')\n",
    "pyplot.show()"
   ]
  },
  {
   "cell_type": "markdown",
   "metadata": {
    "colab_type": "text",
    "id": "meef4x8jmuzo"
   },
   "source": [
    "Running the example first prints the chosen optimal lag and the list of coefficients in the trained linear regression model.  \n",
    "\n",
    "We can see that a 43-lag model was chosen and trained.  \n",
    "\n",
    "The 16 hour forecast is then printed and the mean squared error of the forecast is summarized.  "
   ]
  },
  {
   "cell_type": "markdown",
   "metadata": {
    "colab_type": "text",
    "id": "AkYy8yhHj8Kl"
   },
   "source": [
    "A plot of the expected (blue) vs the predicted values (red) is made.\n",
    "\n",
    "The forecast does looks ok (about 5 callers out each hour), with big deviation on hour 3 (9 am)."
   ]
  },
  {
   "cell_type": "markdown",
   "metadata": {
    "colab_type": "text",
    "id": "PSYK5FHUnMu0"
   },
   "source": [
    "### Model Updates\n",
    "\n",
    "The statsmodels API does not make it easy to update the model as new observations become available.  \n",
    "\n",
    "One way would be to re-train the AR model each day as new observations become available, would be to use the learned coefficients and manually make predictions. This requires that the history of 43 prior observations be kept and that the coefficients be retrieved from the model and used in the regression equation to come up with new forecasts.\n",
    "\n",
    "The coefficients are provided in an array with the intercept term followed by the coefficients for each lag variable starting at t-1 to t-n. We simply need to use them in the right order on the history of observations, as follows:\n",
    "\n",
    "        yhat = b0 + b1*X1 + b2*X2 ... bn*Xn"
   ]
  },
  {
   "cell_type": "code",
   "execution_count": null,
   "metadata": {
    "colab": {
     "autoexec": {
      "startup": false,
      "wait_interval": 0
     },
     "base_uri": "https://localhost:8080/",
     "height": 636
    },
    "colab_type": "code",
    "executionInfo": {
     "elapsed": 1010,
     "status": "ok",
     "timestamp": 1525241897934,
     "user": {
      "displayName": "Kingston Coker",
      "photoUrl": "//lh6.googleusercontent.com/-cBcD86sOfdQ/AAAAAAAAAAI/AAAAAAAAABI/PtDVJTRIWKI/s50-c-k-no/photo.jpg",
      "userId": "114706732942057342717"
     },
     "user_tz": 0
    },
    "id": "7sSUZmQLtd5t",
    "outputId": "d4a8b234-380f-4f7a-a678-68dba6eaf120"
   },
   "outputs": [],
   "source": [
    "from pandas import Series\n",
    "from matplotlib import pyplot\n",
    "from statsmodels.tsa.ar_model import AR\n",
    "from sklearn.metrics import mean_squared_error\n",
    "# split dataset\n",
    "\n",
    "ts_values = ts.values\n",
    "train, test = ts_values[1:len(ts_values)-16], ts_values[len(ts_values)-16:]\n",
    "\n",
    "\n",
    "# train autoregression\n",
    "model = AR(train)\n",
    "model_fit = model.fit()\n",
    "window = model_fit.k_ar\n",
    "coef = model_fit.params\n",
    "\n",
    "# walk forward over time steps in test\n",
    "history = train[len(train)-window:]\n",
    "history = [history[i] for i in range(len(history))]\n",
    "predictions = list()\n",
    "for t in range(len(test)):\n",
    "\tlength = len(history)\n",
    "\tlag = [history[i] for i in range(length-window,length)]\n",
    "\tyhat = coef[0]\n",
    "\tfor d in range(window):\n",
    "\t\tyhat += coef[d+1] * lag[window-d-1]\n",
    "\tobs = test[t]\n",
    "\tpredictions.append(yhat)\n",
    "\thistory.append(obs)\n",
    "\tprint('predicted=%f, expected=%f' % (yhat, obs))\n",
    "error = mean_squared_error(test, predictions)\n",
    "print('Test MSE: %.3f' % error)\n",
    "# plot\n",
    "pyplot.plot(test)\n",
    "pyplot.plot(predictions, color='red')\n",
    "pyplot.show()"
   ]
  },
  {
   "cell_type": "markdown",
   "metadata": {
    "colab_type": "text",
    "id": "SBO4MvnGtdG5"
   },
   "source": [
    "There is now a small improvement in the forecast as the red line is closer to the blue"
   ]
  },
  {
   "cell_type": "code",
   "execution_count": null,
   "metadata": {},
   "outputs": [],
   "source": []
  }
 ],
 "metadata": {
  "colab": {
   "collapsed_sections": [],
   "default_view": {},
   "name": "TimeSeriesAR_notebook.ipynb",
   "provenance": [],
   "version": "0.3.2",
   "views": {}
  },
  "kernelspec": {
   "display_name": "Python 3",
   "language": "python",
   "name": "python3"
  },
  "language_info": {
   "codemirror_mode": {
    "name": "ipython",
    "version": 3
   },
   "file_extension": ".py",
   "mimetype": "text/x-python",
   "name": "python",
   "nbconvert_exporter": "python",
   "pygments_lexer": "ipython3",
   "version": "3.6.7"
  }
 },
 "nbformat": 4,
 "nbformat_minor": 1
}
