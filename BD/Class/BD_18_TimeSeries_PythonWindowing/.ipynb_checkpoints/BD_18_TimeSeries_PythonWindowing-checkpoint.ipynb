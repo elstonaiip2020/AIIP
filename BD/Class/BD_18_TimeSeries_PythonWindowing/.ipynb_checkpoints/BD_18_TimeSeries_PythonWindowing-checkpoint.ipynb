{
 "cells": [
  {
   "cell_type": "markdown",
   "metadata": {
    "colab_type": "text",
    "id": "O-SICgl8-1CQ"
   },
   "source": [
    "# Window functions\n",
    "\n",
    "Window functions perform calculations across a set of table rows (window). When a window size is specified, a window function will continuously  perform the same calculation as it slides through the specified window.\n",
    "\n",
    "Window functions are used to calculate rolling statistics like rolling means and rolling sums. When applied to time series data, we are able to perform rolling statistics that are time aware.\n",
    "\n",
    "Pandas has two main functions for windowing `.rolling()` and `.expanding()`. These functions can be called on series and dataframes.\n",
    "\n",
    "**`.rolling()`** - This function expects the parameter `window` which specifies the size of the window. The function is then applied to the set rows matching the window. If window size of say 2 is specified the function applied considers the current row and the previous only.\n",
    "\n",
    "**`.expanding()`** - Unlike the a rolling function this function continuously  expands its windows size starting with a specified minimum.\n",
    "\n",
    "Read more on pandas window functions [here](https://pandas.pydata.org/pandas-docs/stable/computation.html#window-functions)"
   ]
  },
  {
   "cell_type": "markdown",
   "metadata": {
    "colab_type": "text",
    "id": "ST9epnWrMQoW"
   },
   "source": [
    "# Rolling function example\n"
   ]
  },
  {
   "cell_type": "code",
   "execution_count": null,
   "metadata": {
    "colab": {
     "autoexec": {
      "startup": false,
      "wait_interval": 0
     },
     "base_uri": "https://localhost:8080/",
     "height": 206
    },
    "colab_type": "code",
    "executionInfo": {
     "elapsed": 926,
     "status": "ok",
     "timestamp": 1524775992590,
     "user": {
      "displayName": "Eyram Adjaku",
      "photoUrl": "//lh3.googleusercontent.com/-5iFk2YnMvn8/AAAAAAAAAAI/AAAAAAAAAKU/-AxYB6DNJXE/s50-c-k-no/photo.jpg",
      "userId": "113279431062694058728"
     },
     "user_tz": 0
    },
    "id": "RjWrrIgaja0W",
    "outputId": "03c5fa47-d9a4-42a3-94a3-09bb0865f550"
   },
   "outputs": [],
   "source": [
    "import pandas as pd\n",
    "import numpy as np\n",
    "\n",
    "# generate data with an interval of 30 seconds\n",
    "df = pd.DataFrame(np.random.randint(low =1,high=5,size=2881),\n",
    "                     index=pd.date_range(start='1/1/2018',\n",
    "                                         end='1/2/2018',\n",
    "                                         freq='30s'),\n",
    "                      columns=['A'])\n",
    "df.head()"
   ]
  },
  {
   "cell_type": "code",
   "execution_count": null,
   "metadata": {
    "colab": {
     "autoexec": {
      "startup": false,
      "wait_interval": 0
     },
     "base_uri": "https://localhost:8080/",
     "height": 206
    },
    "colab_type": "code",
    "executionInfo": {
     "elapsed": 848,
     "status": "ok",
     "timestamp": 1524776002958,
     "user": {
      "displayName": "Eyram Adjaku",
      "photoUrl": "//lh3.googleusercontent.com/-5iFk2YnMvn8/AAAAAAAAAAI/AAAAAAAAAKU/-AxYB6DNJXE/s50-c-k-no/photo.jpg",
      "userId": "113279431062694058728"
     },
     "user_tz": 0
    },
    "id": "fDHZ8WjkqvLC",
    "outputId": "43ebae4e-006b-47c3-86c9-a8d18dc04da6"
   },
   "outputs": [],
   "source": [
    "#this calculates the sum of the current row and the previous row \n",
    "df['rolling_sum'] = df['A'].rolling(window=2).sum() \n",
    "df.head()"
   ]
  },
  {
   "cell_type": "markdown",
   "metadata": {
    "colab_type": "text",
    "id": "74X7okMcMsbQ"
   },
   "source": [
    "# Expanding function example"
   ]
  },
  {
   "cell_type": "code",
   "execution_count": null,
   "metadata": {
    "colab": {
     "autoexec": {
      "startup": false,
      "wait_interval": 0
     },
     "base_uri": "https://localhost:8080/",
     "height": 206
    },
    "colab_type": "code",
    "executionInfo": {
     "elapsed": 846,
     "status": "ok",
     "timestamp": 1524776157816,
     "user": {
      "displayName": "Eyram Adjaku",
      "photoUrl": "//lh3.googleusercontent.com/-5iFk2YnMvn8/AAAAAAAAAAI/AAAAAAAAAKU/-AxYB6DNJXE/s50-c-k-no/photo.jpg",
      "userId": "113279431062694058728"
     },
     "user_tz": 0
    },
    "id": "usrCXUJpMzVa",
    "outputId": "869b23f9-3d55-490a-8fde-28deec768f28"
   },
   "outputs": [],
   "source": [
    "#this calculates the sum of the current row and the previous row \n",
    "df['expanding_sum'] = df['A'].expanding(min_periods=2).sum() \n",
    "df.head()"
   ]
  },
  {
   "cell_type": "markdown",
   "metadata": {
    "colab_type": "text",
    "id": "OJFll-U_NrFA"
   },
   "source": [
    "From the above example the rolling sum add the current row to the previous only while the expanding sum adds current row to all previous rows. The first rows are empty because the window size is 2.\n",
    "\n",
    "The rolling function can be made time-aware by setting rolling frequency to a time based frequency.This uses the offset aliases found [here](http://pandas.pydata.org/pandas-docs/stable/timeseries.html#offset-aliases)\n",
    "\n",
    "In the example below we set the window size to be 60 seconds, this means the function will be applied continuously  on only 60 seconds of data"
   ]
  },
  {
   "cell_type": "code",
   "execution_count": null,
   "metadata": {
    "colab": {
     "autoexec": {
      "startup": false,
      "wait_interval": 0
     },
     "base_uri": "https://localhost:8080/",
     "height": 206
    },
    "colab_type": "code",
    "executionInfo": {
     "elapsed": 814,
     "status": "ok",
     "timestamp": 1524776248882,
     "user": {
      "displayName": "Eyram Adjaku",
      "photoUrl": "//lh3.googleusercontent.com/-5iFk2YnMvn8/AAAAAAAAAAI/AAAAAAAAAKU/-AxYB6DNJXE/s50-c-k-no/photo.jpg",
      "userId": "113279431062694058728"
     },
     "user_tz": 0
    },
    "id": "1xfOzxyrPmvm",
    "outputId": "bdadf961-58f6-4bca-a10d-a08667c5339a"
   },
   "outputs": [],
   "source": [
    "df['rolling_sum_60seconds'] = df['A'].rolling('60s').sum()\n",
    "df.head()"
   ]
  },
  {
   "cell_type": "markdown",
   "metadata": {
    "colab_type": "text",
    "id": "Vxtqyh1nTADm"
   },
   "source": [
    "# Assessment\n",
    "\n",
    "Using the data in Timeseries/manuplating_dates/data/internet_traffic provide the following statistics\n",
    "\n",
    "\n",
    "*   Average houly bits transferred\n",
    "*   Total daily bits transferred\n",
    "\n",
    "The data shows in megabits the amount of data transferred by an ISP at 5 minute intervals"
   ]
  },
  {
   "cell_type": "code",
   "execution_count": null,
   "metadata": {
    "colab": {
     "autoexec": {
      "startup": false,
      "wait_interval": 0
     }
    },
    "colab_type": "code",
    "id": "ZfXgdVg5WERq"
   },
   "outputs": [],
   "source": [
    "#write code here"
   ]
  }
 ],
 "metadata": {
  "colab": {
   "default_view": {},
   "name": "Python window functions.ipynb",
   "provenance": [],
   "version": "0.3.2",
   "views": {}
  },
  "kernelspec": {
   "display_name": "Python 3",
   "language": "python",
   "name": "python3"
  },
  "language_info": {
   "codemirror_mode": {
    "name": "ipython",
    "version": 3
   },
   "file_extension": ".py",
   "mimetype": "text/x-python",
   "name": "python",
   "nbconvert_exporter": "python",
   "pygments_lexer": "ipython3",
   "version": "3.7.3"
  }
 },
 "nbformat": 4,
 "nbformat_minor": 1
}
