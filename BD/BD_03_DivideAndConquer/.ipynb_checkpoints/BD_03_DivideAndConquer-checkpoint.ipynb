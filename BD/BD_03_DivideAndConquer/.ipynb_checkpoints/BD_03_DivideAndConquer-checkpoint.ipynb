{
 "cells": [
  {
   "cell_type": "markdown",
   "metadata": {
    "colab_type": "text",
    "id": "k59GTmMHpooO"
   },
   "source": [
    "# Divide and Conquer with python\n",
    "\n",
    "As already discussed divide and conquer algorithms break down problems into smaller bit and solved concurrently. \n",
    "\n",
    "Lets look at a very simple example implemented in python.\n",
    "\n",
    "\n"
   ]
  },
  {
   "cell_type": "markdown",
   "metadata": {
    "colab_type": "text",
    "id": "LMmioTfdrVgw"
   },
   "source": [
    "We will be using data collected on how much people tipped after having a meal at restuarant. We want to know how much each tipped as a percentage of the total bill."
   ]
  },
  {
   "cell_type": "code",
   "execution_count": null,
   "metadata": {
    "colab": {
     "autoexec": {
      "startup": false,
      "wait_interval": 0
     },
     "base_uri": "https://localhost:8080/",
     "height": 206
    },
    "colab_type": "code",
    "executionInfo": {
     "elapsed": 952,
     "status": "ok",
     "timestamp": 1524823941738,
     "user": {
      "displayName": "Eyram Adjaku",
      "photoUrl": "//lh3.googleusercontent.com/-5iFk2YnMvn8/AAAAAAAAAAI/AAAAAAAAAKU/-AxYB6DNJXE/s50-c-k-no/photo.jpg",
      "userId": "113279431062694058728"
     },
     "user_tz": 0
    },
    "id": "6rqMF3mkxvGw",
    "outputId": "c30a34e4-5789-45ff-e5e5-f23a58586141"
   },
   "outputs": [],
   "source": [
    "import pandas as pd\n",
    "import numpy as np\n",
    "import seaborn as sns\n",
    "from multiprocessing import Pool\n",
    "\n",
    "# Divide function, recieves the full data set and splits them\n",
    "# You can have different logic in here for how you may want to split your data\n",
    "def divide(data):\n",
    "    return np.array_split(data, 10)\n",
    "\n",
    "# Conquer function, recieves the split data and the function to be applied\n",
    "# Creates a pool of 10 process and distributes the work among them\n",
    "def conquer(list_of_data, function_to_apply):\n",
    "    pool = Pool(10)\n",
    "    results = pool.map_async(function_to_apply, list_of_data)\n",
    "    return results.get()\n",
    "\n",
    "# Combine function, recieves a list of results and puts them together.\n",
    "# Again you can have a different logic on how you want to combine your results depending on the problem you are solving\n",
    "def combine(conqueredResult):\n",
    "    return pd.concat(conqueredResult)\n",
    "\n",
    "# Function to find percentage. Gets called by the processes with differnet set of data\n",
    "def find_percentage(data):\n",
    "    data['tip_percentage'] = (data['tip'] / data['total_bill'])*100\n",
    "    return data\n",
    "\n",
    "\n",
    "# Load tips data from seaborn package\n",
    "tips = sns.load_dataset('tips')\n",
    "\n",
    "# call the divide function to split the data\n",
    "divided = divide(tips)\n",
    "\n",
    "# pass the split data and the funtion to apply to conquer function\n",
    "conquered = conquer(divided, find_percentage)\n",
    "\n",
    "# Pass the split results to the combine function so the results are put toget as one\n",
    "combined = combine(conquered)\n",
    "combined.head()\n"
   ]
  },
  {
   "cell_type": "markdown",
   "metadata": {
    "colab_type": "text",
    "id": "vQ58ix1oxY3E"
   },
   "source": [
    "# Assesment\n",
    "Based on this give this a try\n",
    "\n",
    "\n",
    "*   Read data from data/student_grades.csv\n",
    "*   Calculate the final grade for each student as a percentage. \n",
    "*   Homeworks are weighted 40% and exam 60*\n",
    "*   Use a divide and conquer algorithm with multiprocessing \n",
    "\n"
   ]
  },
  {
   "cell_type": "code",
   "execution_count": null,
   "metadata": {
    "colab": {
     "autoexec": {
      "startup": false,
      "wait_interval": 0
     }
    },
    "colab_type": "code",
    "id": "msrLsS-Kxjn8"
   },
   "outputs": [],
   "source": [
    "# implement logic here"
   ]
  }
 ],
 "metadata": {
  "colab": {
   "collapsed_sections": [],
   "default_view": {},
   "name": "Divide and conquer.ipynb",
   "provenance": [],
   "version": "0.3.2",
   "views": {}
  },
  "kernelspec": {
   "display_name": "Python 3",
   "language": "python",
   "name": "python3"
  },
  "language_info": {
   "codemirror_mode": {
    "name": "ipython",
    "version": 3
   },
   "file_extension": ".py",
   "mimetype": "text/x-python",
   "name": "python",
   "nbconvert_exporter": "python",
   "pygments_lexer": "ipython3",
   "version": "3.7.3"
  }
 },
 "nbformat": 4,
 "nbformat_minor": 1
}
