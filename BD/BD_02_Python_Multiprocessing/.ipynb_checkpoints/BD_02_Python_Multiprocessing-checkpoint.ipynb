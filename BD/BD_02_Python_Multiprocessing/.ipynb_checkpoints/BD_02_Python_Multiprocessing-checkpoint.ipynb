{
 "cells": [
  {
   "cell_type": "markdown",
   "metadata": {
    "colab_type": "text",
    "id": "1Z-sOgn1V7cm"
   },
   "source": [
    "# Introduction to parallel programming with python\n",
    "\n",
    "As previously discussed parallel computing involves solving the same problem with 1 or more cpu cores or even more than one computers. Parallel solutions mostly involve sub tasks that are able to run independently of each other with very little or no communication.\n",
    "\n",
    "In python the two common approaches to parallel programming are running code with multiple threads or multiple processes. The main difference between the terms is that threads are a part of a process, that is a process may contain one or more threads, but a thread cannot contain a process. Read more on the differences [here](https://www.backblaze.com/blog/whats-the-diff-programs-processes-and-threads/)\n",
    "\n",
    "Threads from the reading have shared memory while processes have completely memory locations (distributed memory). Using threads can easily lead to to race conditions when data access isn't synchronized, this where a multiple threads try to read/write to the same memory location. Depending on the relative speeds of the threads the results for the same operation could differ.\n",
    "\n",
    "![alt text](http://twimgs.com/ddj/images/article/2011/0611/thread.gif)\n",
    "\n",
    "With the above example the final value of x can be 1,2,3 depending how the threads run.\n",
    "\n",
    "A safer approach is to run multiple process where each will run its own memory space. The trade off here is the communication overhead between separate process.\n",
    "\n",
    "Another reason why processes may be a better option over threads is python's GIL (Global Interpreter Lock). In order to prevent conflicts between threads python implements a locking mechanism that prevents multiple threads from executing python bytecode at once.The reason for this is beyond this course but for the curious souls read more [here](https://realpython.com/python-gil/)\n"
   ]
  },
  {
   "cell_type": "markdown",
   "metadata": {
    "colab_type": "text",
    "id": "PK0WULLOfPvC"
   },
   "source": [
    "# Python's `multiprocessing` module\n",
    "\n",
    "Python has a standard library for writing multi-process programs. Find the official documentation [here](https://docs.python.org/3.6/library/multiprocessing.html)\n",
    "\n",
    "# The `process` class\n",
    "The basic approach is to use the `Process` class. Processes are spawned by creating a `Process` object then calling its start method. \n",
    "\n",
    "The syntax of a process method is `Process(group=None, target=None, name=None, args=(), kwargs={}, *, daemon=None)`.  \n",
    "\n",
    "The most important arguments include:\n",
    "*   target - The function/method to be called by the process\n",
    "*   name - A name for the process\n",
    "*   args - arguments to pass to the target function\n",
    "\n",
    "\n"
   ]
  },
  {
   "cell_type": "code",
   "execution_count": null,
   "metadata": {
    "colab": {
     "autoexec": {
      "startup": false,
      "wait_interval": 0
     },
     "base_uri": "https://localhost:8080/",
     "height": 36
    },
    "colab_type": "code",
    "executionInfo": {
     "elapsed": 876,
     "status": "ok",
     "timestamp": 1524304447864,
     "user": {
      "displayName": "Eyram Adjaku",
      "photoUrl": "//lh3.googleusercontent.com/-5iFk2YnMvn8/AAAAAAAAAAI/AAAAAAAAAKU/-AxYB6DNJXE/s50-c-k-no/photo.jpg",
      "userId": "113279431062694058728"
     },
     "user_tz": 0
    },
    "id": "HMDXPQQPmxYm",
    "outputId": "745fa395-dd88-4339-9552-878b39578ab0"
   },
   "outputs": [],
   "source": [
    "# Example from python's documentation\n",
    "\n",
    "#import the Process from the multiprocessing library\n",
    "from multiprocessing import Process\n",
    "\n",
    "# Function to be run by the process. \n",
    "# Prints hello and the any argument passed in the name parameter\n",
    "def f(name):\n",
    "    print('hello', name)\n",
    "\n",
    "# Create a process object which will call the function \"f\" and passes the string \"bob\"\n",
    "p = Process(target=f, args=('bob',))\n",
    "\n",
    "# Calling start on the process starts its execution\n",
    "p.start()\n",
    "\n",
    "# The join method hints the main process to wait for the child process to finish executing before continuing\n",
    "p.join()"
   ]
  },
  {
   "cell_type": "markdown",
   "metadata": {
    "colab_type": "text",
    "id": "zDMX2tbUm_yc"
   },
   "source": [
    "\n",
    "Lets look at another example suppose we are to generate 5 random numbers between 1 and 50. We could generate one number after the other or we could do this faster by starting 5 process with each generating one."
   ]
  },
  {
   "cell_type": "code",
   "execution_count": null,
   "metadata": {
    "colab": {
     "autoexec": {
      "startup": false,
      "wait_interval": 0
     },
     "base_uri": "https://localhost:8080/",
     "height": 130
    },
    "colab_type": "code",
    "executionInfo": {
     "elapsed": 2846,
     "status": "ok",
     "timestamp": 1524308726524,
     "user": {
      "displayName": "Eyram Adjaku",
      "photoUrl": "//lh3.googleusercontent.com/-5iFk2YnMvn8/AAAAAAAAAAI/AAAAAAAAAKU/-AxYB6DNJXE/s50-c-k-no/photo.jpg",
      "userId": "113279431062694058728"
     },
     "user_tz": 0
    },
    "id": "idGSKXvSj_vG",
    "outputId": "e8cd75e7-22c1-46e6-9d50-533ed361373c"
   },
   "outputs": [],
   "source": [
    "from multiprocessing import Process,current_process\n",
    "import random\n",
    "import time\n",
    "\n",
    "# method that generates and prints a random number along with the current process' name\n",
    "def generate_random_number():\n",
    "  # sleeping the process for 2 secons to simiulate some long running computation\n",
    "  time.sleep(2)\n",
    "  \n",
    "  x = random.randint(1,51)\n",
    "  current_process_name = current_process().name\n",
    "  print(current_process_name +\" says %d\"%(x) )\n",
    "  \n",
    "\n",
    "# Setup a list of processes that we want to run\n",
    "processes = [Process(target=generate_random_number, name=\"process %d\"%(x),) for x in range(5)]\n",
    "\n",
    "# processes now contains a list of process object,\n",
    "print(processes)\n",
    "\n",
    "# Run processes\n",
    "for p in processes:\n",
    "    p.start()\n",
    "    \n",
    "# # Exit the completed processes\n",
    "for p in processes:\n",
    "    p.join()"
   ]
  },
  {
   "cell_type": "markdown",
   "metadata": {
    "colab_type": "text",
    "id": "ejqkCp0cq9O8"
   },
   "source": [
    "In this example we create 5 process. Each runs generating and printing a single random number. The order of the results is based on the order of completion."
   ]
  },
  {
   "cell_type": "markdown",
   "metadata": {
    "colab_type": "text",
    "id": "K-DTKf1YsmHG"
   },
   "source": [
    "# The `Pool` Class\n",
    "The pool class is similar to the Process class except you control a pool of process. The process in the pool execute the tasks submitted to it.This is a good class if your functions need to return some values.\n",
    "Please review the official [documentation](https://docs.python.org/3.6/library/multiprocessing.html#module-multiprocessing.pool)\n",
    "\n",
    "The class has 4 very interesting methods\n",
    "*   `Pool.apply` \n",
    "*   `Pool.apply_async`\n",
    "*   `Pool.map`\n",
    "*   `Pool.map_async`\n",
    "\n",
    "These functions are equivalents of the built in [apply](https://docs.python.org/2/library/functions.html#apply) and [map](https://docs.python.org/3.6/library/functions.html#map) functions\n",
    "\n",
    "Each method is used based on the problem you need to solve. See the table below\n",
    "<table>\n",
    "  <tr>\n",
    "    <th>Function</th>\n",
    "    <th>Multiple arguments</th>\n",
    "    <th>Concurrence</th>\n",
    "    <th>Blocking</th>\n",
    "    <th>Ordered-results</th>\n",
    "  </tr>\n",
    "  <tr>\n",
    "    <th>`map`</th>\n",
    "    <td>no</td>\n",
    "    <td>yes</td>\n",
    "    <td>yes</td>\n",
    "    <td>yes</td>\n",
    "  </tr>\n",
    "  <tr>   \n",
    "    <th>`apply`</th>\n",
    "    <td>yes</td>\n",
    "    <td>no</td>\n",
    "    <td>yes</td>\n",
    "    <td>no</td></tr>\n",
    "  <tr>  \n",
    "    <th>`map_async`</th>\n",
    "    <td>no</td>\n",
    "    <td>yes</td>\n",
    "    <td>no</td>\n",
    "    <td>yes</td></tr>\n",
    "  <tr>   \n",
    "    <th>`apply_async`</th>\n",
    "    <td>no</td>\n",
    "    <td>yes</td>\n",
    "    <td>no</td>\n",
    "    <td>no</td></tr>\n",
    "</table>\n",
    "\n",
    "The `map_async` will be used often becuase we are mostly apply the same function hence no need for mutiple arguments, it doesn't block the program until completion and it also returns its results ordered."
   ]
  },
  {
   "cell_type": "markdown",
   "metadata": {
    "colab_type": "text",
    "id": "Dh-ZARaWFSsS"
   },
   "source": [
    "Lets take a simple example where we want to find the largest prime factors of numbers from 1 - 1000."
   ]
  },
  {
   "cell_type": "code",
   "execution_count": null,
   "metadata": {
    "colab": {
     "autoexec": {
      "startup": false,
      "wait_interval": 0
     },
     "base_uri": "https://localhost:8080/",
     "height": 74
    },
    "colab_type": "code",
    "executionInfo": {
     "elapsed": 78838,
     "status": "ok",
     "timestamp": 1524314454302,
     "user": {
      "displayName": "Eyram Adjaku",
      "photoUrl": "//lh3.googleusercontent.com/-5iFk2YnMvn8/AAAAAAAAAAI/AAAAAAAAAKU/-AxYB6DNJXE/s50-c-k-no/photo.jpg",
      "userId": "113279431062694058728"
     },
     "user_tz": 0
    },
    "id": "by9niLE3HaFo",
    "outputId": "d86f04c8-d68c-4817-b00a-a989841fd023"
   },
   "outputs": [],
   "source": [
    "import multiprocessing as mp\n",
    "\n",
    "# Function to find the largest prime factor\n",
    "def findLargestPrimeFactor(n):\n",
    "    primeFactor = 1\n",
    "    i = 2\n",
    "\n",
    "    while i <= n / i:\n",
    "        if n % i == 0:\n",
    "            primeFactor = i\n",
    "            n /= i\n",
    "        else:\n",
    "            i += 1\n",
    "\n",
    "    if primeFactor < n:\n",
    "        primeFactor = n\n",
    "\n",
    "    return primeFactor\n",
    "\n",
    "# Let's test out the function with an input of 6. The expected output is 3\n",
    "findLargestPrimeFactor(6)\n",
    "\n",
    "\n",
    "pool = mp.Pool(processes=4)\n",
    "\n",
    "result_with_apply = [pool.apply_async(findLargestPrimeFactor, args=(x,)) for x in range(188554848645154545454,188554848645154545464)]\n",
    "result_with_map = pool.map_async(findLargestPrimeFactor, range(188554848645154545454,188554848645154545464))\n",
    "\n",
    "output_with_apply = [p.get() for p in result_with_apply]\n",
    "output_with_map = result_with_map.get()\n",
    "\n",
    "print(output_with_apply)\n",
    "print(output_with_map)\n",
    "\n",
    "factors =[findLargestPrimeFactor(x) for x in range(188554848645154545454,188554848645154545464)]\n",
    "print (factors)\n",
    "\n",
    "pool.close()\n",
    "pool.join()"
   ]
  },
  {
   "cell_type": "markdown",
   "metadata": {
    "colab_type": "text",
    "id": "lGPC986DXWHs"
   },
   "source": [
    "# Task\n",
    "Complete the section below. \n",
    "\n",
    "Using 40 concurrent processes,\n",
    "1.   Generate 100 random numbers between 1 million and 1 billion\n",
    "2.   Find the smallest prime factor of each number. Function for finding smallest prime factor is provided\n",
    "\n"
   ]
  },
  {
   "cell_type": "code",
   "execution_count": null,
   "metadata": {
    "colab": {
     "autoexec": {
      "startup": false,
      "wait_interval": 0
     }
    },
    "colab_type": "code",
    "id": "JIXoIyZdXR3-"
   },
   "outputs": [],
   "source": [
    "import multiprocessing\n",
    "import random\n",
    "\n",
    "# Function to find the largest prime factor\n",
    "def findSmallestPrimeFactor(n):\n",
    "    factor = 2 # start at the lowest possible factor\n",
    "    while n % factor != 0: # go until factor is a factor\n",
    "        factor += 1 # test the next factor\n",
    "    return factor\n",
    "  \n",
    "# method that generates and prints a random number along with the current process' name\n",
    "def generate_random_number():\n",
    "  # Todo: complete this section\n",
    "\n",
    "\n",
    "# Todo: generate numbers\n",
    "# Todo: find smallest prime factor of each number\n"
   ]
  },
  {
   "cell_type": "code",
   "execution_count": null,
   "metadata": {},
   "outputs": [],
   "source": []
  }
 ],
 "metadata": {
  "colab": {
   "collapsed_sections": [],
   "default_view": {},
   "name": "Multiprocessing in python",
   "provenance": [],
   "version": "0.3.2",
   "views": {}
  },
  "kernelspec": {
   "display_name": "Python 3",
   "language": "python",
   "name": "python3"
  },
  "language_info": {
   "codemirror_mode": {
    "name": "ipython",
    "version": 3
   },
   "file_extension": ".py",
   "mimetype": "text/x-python",
   "name": "python",
   "nbconvert_exporter": "python",
   "pygments_lexer": "ipython3",
   "version": "3.7.3"
  }
 },
 "nbformat": 4,
 "nbformat_minor": 1
}
