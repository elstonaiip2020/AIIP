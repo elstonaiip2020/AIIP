{
 "cells": [
  {
   "cell_type": "markdown",
   "metadata": {},
   "source": [
    "#### Find your Spark installation"
   ]
  },
  {
   "cell_type": "code",
   "execution_count": 25,
   "metadata": {},
   "outputs": [],
   "source": [
    "import findspark\n",
    "findspark.init('C:\\spark-3.0.0-bin-hadoop2.7')"
   ]
  },
  {
   "cell_type": "markdown",
   "metadata": {},
   "source": [
    "#### import Spark SQL and start session"
   ]
  },
  {
   "cell_type": "code",
   "execution_count": 26,
   "metadata": {},
   "outputs": [],
   "source": [
    "import pandas as pd\n",
    "from pyspark.sql import SparkSession\n",
    "spark = SparkSession \\\n",
    "    .builder \\\n",
    "    .appName(\"my_first_spark_app\") \\\n",
    "    .getOrCreate()"
   ]
  },
  {
   "cell_type": "markdown",
   "metadata": {},
   "source": [
    "#### Load data from file"
   ]
  },
  {
   "cell_type": "code",
   "execution_count": 27,
   "metadata": {},
   "outputs": [],
   "source": [
    "df = spark.read.csv(\"energy_data.csv\",header=True)"
   ]
  },
  {
   "cell_type": "code",
   "execution_count": 28,
   "metadata": {},
   "outputs": [
    {
     "name": "stdout",
     "output_type": "stream",
     "text": [
      "+---+--------------------+------------+---------+---------+--------------+-----------+------------+------------+\n",
      "|_c0|Relative_Compactness|Surface_Area|Wall_Area|Roof_Area|Overall_Height|Orientation|Glazing_Area|Cooling_Load|\n",
      "+---+--------------------+------------+---------+---------+--------------+-----------+------------+------------+\n",
      "|  1|                0.98|       514.5|      294|   110.25|             7|          2|           0|       21.33|\n",
      "|  2|                0.98|       514.5|      294|   110.25|             7|          3|           0|       21.33|\n",
      "|  3|                0.98|       514.5|      294|   110.25|             7|          4|           0|       21.33|\n",
      "|  4|                0.98|       514.5|      294|   110.25|             7|          5|           0|       21.33|\n",
      "|  5|                 0.9|       563.5|    318.5|    122.5|             7|          2|           0|       28.28|\n",
      "|  6|                 0.9|       563.5|    318.5|    122.5|             7|          3|           0|       25.38|\n",
      "|  7|                 0.9|       563.5|    318.5|    122.5|             7|          4|           0|       25.16|\n",
      "|  8|                 0.9|       563.5|    318.5|    122.5|             7|          5|           0|        29.6|\n",
      "|  9|                0.86|         588|      294|      147|             7|          2|           0|        27.3|\n",
      "| 10|                0.86|         588|      294|      147|             7|          3|           0|       21.97|\n",
      "| 11|                0.86|         588|      294|      147|             7|          4|           0|       23.49|\n",
      "| 12|                0.86|         588|      294|      147|             7|          5|           0|       27.87|\n",
      "| 13|                0.82|       612.5|    318.5|      147|             7|          2|           0|       23.77|\n",
      "| 14|                0.82|       612.5|    318.5|      147|             7|          3|           0|       21.46|\n",
      "| 15|                0.82|       612.5|    318.5|      147|             7|          4|           0|       21.16|\n",
      "| 16|                0.82|       612.5|    318.5|      147|             7|          5|           0|       24.93|\n",
      "| 17|                0.79|         637|      343|      147|             7|          2|           0|       37.73|\n",
      "| 18|                0.79|         637|      343|      147|             7|          3|           0|       31.27|\n",
      "| 19|                0.79|         637|      343|      147|             7|          4|           0|       30.93|\n",
      "| 20|                0.79|         637|      343|      147|             7|          5|           0|       39.44|\n",
      "+---+--------------------+------------+---------+---------+--------------+-----------+------------+------------+\n",
      "only showing top 20 rows\n",
      "\n"
     ]
    }
   ],
   "source": [
    "#shows the data (like head())  - this is an action so forces evaluation of pervious commands\n",
    "df.show()"
   ]
  },
  {
   "cell_type": "code",
   "execution_count": 29,
   "metadata": {},
   "outputs": [
    {
     "name": "stdout",
     "output_type": "stream",
     "text": [
      "root\n",
      " |-- _c0: string (nullable = true)\n",
      " |-- Relative_Compactness: string (nullable = true)\n",
      " |-- Surface_Area: string (nullable = true)\n",
      " |-- Wall_Area: string (nullable = true)\n",
      " |-- Roof_Area: string (nullable = true)\n",
      " |-- Overall_Height: string (nullable = true)\n",
      " |-- Orientation: string (nullable = true)\n",
      " |-- Glazing_Area: string (nullable = true)\n",
      " |-- Cooling_Load: string (nullable = true)\n",
      "\n"
     ]
    }
   ],
   "source": [
    "# Print the schema\n",
    "df.printSchema()"
   ]
  },
  {
   "cell_type": "code",
   "execution_count": 30,
   "metadata": {},
   "outputs": [],
   "source": [
    "#add a new column\n",
    "df = df.withColumn('Wall2', df.Wall_Area + 2)"
   ]
  },
  {
   "cell_type": "markdown",
   "metadata": {},
   "source": [
    "### Columns are strings, but we need to convert to numbers"
   ]
  },
  {
   "cell_type": "code",
   "execution_count": 31,
   "metadata": {},
   "outputs": [],
   "source": [
    "#import double type from spark sql\n",
    "from pyspark.sql.types import FloatType\n",
    "\n",
    "#convert one column\n",
    "df = df.withColumn(\"Wall_Area\", df[\"Wall_Area\"].cast(FloatType()))\n",
    "\n",
    "#convert all columns\n",
    "for col_name in df.columns:\n",
    "    df = df.withColumn(col_name, df[col_name].cast(FloatType()))"
   ]
  },
  {
   "cell_type": "code",
   "execution_count": 32,
   "metadata": {},
   "outputs": [
    {
     "name": "stdout",
     "output_type": "stream",
     "text": [
      "root\n",
      " |-- _c0: float (nullable = true)\n",
      " |-- Relative_Compactness: float (nullable = true)\n",
      " |-- Surface_Area: float (nullable = true)\n",
      " |-- Wall_Area: float (nullable = true)\n",
      " |-- Roof_Area: float (nullable = true)\n",
      " |-- Overall_Height: float (nullable = true)\n",
      " |-- Orientation: float (nullable = true)\n",
      " |-- Glazing_Area: float (nullable = true)\n",
      " |-- Cooling_Load: float (nullable = true)\n",
      " |-- Wall2: float (nullable = true)\n",
      "\n"
     ]
    }
   ],
   "source": [
    "df.printSchema()"
   ]
  },
  {
   "cell_type": "code",
   "execution_count": 33,
   "metadata": {},
   "outputs": [],
   "source": [
    "df = df.dropna()"
   ]
  },
  {
   "cell_type": "markdown",
   "metadata": {},
   "source": [
    "### some built-in functions"
   ]
  },
  {
   "cell_type": "code",
   "execution_count": 34,
   "metadata": {},
   "outputs": [],
   "source": [
    "#select columns\n",
    "df2 = df.select(df['Orientation'], df['Roof_area'])"
   ]
  },
  {
   "cell_type": "code",
   "execution_count": 35,
   "metadata": {},
   "outputs": [],
   "source": [
    "#filter roof areas\n",
    "df2 = df2.filter(df2['Roof_area'] > 200)"
   ]
  },
  {
   "cell_type": "markdown",
   "metadata": {},
   "source": [
    "### Aggregating functions"
   ]
  },
  {
   "cell_type": "code",
   "execution_count": 36,
   "metadata": {},
   "outputs": [],
   "source": [
    "#calculate mean roof area for each orientation\n",
    "df2 = df2.groupBy(\"Orientation\").agg({'Roof_area': 'mean'})"
   ]
  },
  {
   "cell_type": "code",
   "execution_count": 37,
   "metadata": {},
   "outputs": [
    {
     "name": "stdout",
     "output_type": "stream",
     "text": [
      "+-----------+--------------+\n",
      "|Orientation|avg(Roof_area)|\n",
      "+-----------+--------------+\n",
      "|        5.0|         220.5|\n",
      "|        2.0|         220.5|\n",
      "|        3.0|         220.5|\n",
      "|        4.0|         220.5|\n",
      "+-----------+--------------+\n",
      "\n"
     ]
    }
   ],
   "source": [
    "#only when we called show() - an action - will the previous transformations be executed\n",
    "df2.show()"
   ]
  },
  {
   "cell_type": "markdown",
   "metadata": {},
   "source": [
    "### User-defined function"
   ]
  },
  {
   "cell_type": "code",
   "execution_count": 38,
   "metadata": {},
   "outputs": [],
   "source": [
    "from pyspark.sql.functions import udf\n",
    "\n",
    "#define a python function\n",
    "def square_float(x):\n",
    "    return float(x**2)\n",
    "\n",
    "#register a spark udf to use python function\n",
    "square_udf = udf(lambda z: square_float(z), FloatType())"
   ]
  },
  {
   "cell_type": "code",
   "execution_count": 39,
   "metadata": {},
   "outputs": [],
   "source": [
    "# create new column 'wall_area2 with result of udf\n",
    "df3 = df.withColumn(\"Wall_Area2\", square_udf(df.Wall_Area))"
   ]
  },
  {
   "cell_type": "code",
   "execution_count": 40,
   "metadata": {},
   "outputs": [
    {
     "name": "stdout",
     "output_type": "stream",
     "text": [
      "+----+--------------------+------------+---------+---------+--------------+-----------+------------+------------+-----+----------+\n",
      "| _c0|Relative_Compactness|Surface_Area|Wall_Area|Roof_Area|Overall_Height|Orientation|Glazing_Area|Cooling_Load|Wall2|Wall_Area2|\n",
      "+----+--------------------+------------+---------+---------+--------------+-----------+------------+------------+-----+----------+\n",
      "| 1.0|                0.98|       514.5|    294.0|   110.25|           7.0|        2.0|         0.0|       21.33|296.0|   86436.0|\n",
      "| 2.0|                0.98|       514.5|    294.0|   110.25|           7.0|        3.0|         0.0|       21.33|296.0|   86436.0|\n",
      "| 3.0|                0.98|       514.5|    294.0|   110.25|           7.0|        4.0|         0.0|       21.33|296.0|   86436.0|\n",
      "| 4.0|                0.98|       514.5|    294.0|   110.25|           7.0|        5.0|         0.0|       21.33|296.0|   86436.0|\n",
      "| 5.0|                 0.9|       563.5|    318.5|    122.5|           7.0|        2.0|         0.0|       28.28|320.5| 101442.25|\n",
      "| 6.0|                 0.9|       563.5|    318.5|    122.5|           7.0|        3.0|         0.0|       25.38|320.5| 101442.25|\n",
      "| 7.0|                 0.9|       563.5|    318.5|    122.5|           7.0|        4.0|         0.0|       25.16|320.5| 101442.25|\n",
      "| 8.0|                 0.9|       563.5|    318.5|    122.5|           7.0|        5.0|         0.0|        29.6|320.5| 101442.25|\n",
      "| 9.0|                0.86|       588.0|    294.0|    147.0|           7.0|        2.0|         0.0|        27.3|296.0|   86436.0|\n",
      "|10.0|                0.86|       588.0|    294.0|    147.0|           7.0|        3.0|         0.0|       21.97|296.0|   86436.0|\n",
      "|11.0|                0.86|       588.0|    294.0|    147.0|           7.0|        4.0|         0.0|       23.49|296.0|   86436.0|\n",
      "|12.0|                0.86|       588.0|    294.0|    147.0|           7.0|        5.0|         0.0|       27.87|296.0|   86436.0|\n",
      "|13.0|                0.82|       612.5|    318.5|    147.0|           7.0|        2.0|         0.0|       23.77|320.5| 101442.25|\n",
      "|14.0|                0.82|       612.5|    318.5|    147.0|           7.0|        3.0|         0.0|       21.46|320.5| 101442.25|\n",
      "|15.0|                0.82|       612.5|    318.5|    147.0|           7.0|        4.0|         0.0|       21.16|320.5| 101442.25|\n",
      "|16.0|                0.82|       612.5|    318.5|    147.0|           7.0|        5.0|         0.0|       24.93|320.5| 101442.25|\n",
      "|17.0|                0.79|       637.0|    343.0|    147.0|           7.0|        2.0|         0.0|       37.73|345.0|  117649.0|\n",
      "|18.0|                0.79|       637.0|    343.0|    147.0|           7.0|        3.0|         0.0|       31.27|345.0|  117649.0|\n",
      "|19.0|                0.79|       637.0|    343.0|    147.0|           7.0|        4.0|         0.0|       30.93|345.0|  117649.0|\n",
      "|20.0|                0.79|       637.0|    343.0|    147.0|           7.0|        5.0|         0.0|       39.44|345.0|  117649.0|\n",
      "+----+--------------------+------------+---------+---------+--------------+-----------+------------+------------+-----+----------+\n",
      "only showing top 20 rows\n",
      "\n"
     ]
    }
   ],
   "source": [
    "df3.show()"
   ]
  },
  {
   "cell_type": "markdown",
   "metadata": {},
   "source": [
    "### SQL"
   ]
  },
  {
   "cell_type": "code",
   "execution_count": 41,
   "metadata": {},
   "outputs": [],
   "source": [
    "#register spark df as SQL temporary view\n",
    "df.createOrReplaceTempView(\"energy\")"
   ]
  },
  {
   "cell_type": "code",
   "execution_count": 42,
   "metadata": {},
   "outputs": [],
   "source": [
    "#execute a SQL query\n",
    "df_SQL = spark.sql(\"SELECT * FROM energy WHERE Roof_area > 200\")"
   ]
  },
  {
   "cell_type": "code",
   "execution_count": 43,
   "metadata": {},
   "outputs": [
    {
     "name": "stdout",
     "output_type": "stream",
     "text": [
      "+----+--------------------+------------+---------+---------+--------------+-----------+------------+------------+-----+\n",
      "| _c0|Relative_Compactness|Surface_Area|Wall_Area|Roof_Area|Overall_Height|Orientation|Glazing_Area|Cooling_Load|Wall2|\n",
      "+----+--------------------+------------+---------+---------+--------------+-----------+------------+------------+-----+\n",
      "|25.0|                0.74|       686.0|    245.0|    220.5|           3.5|        2.0|         0.0|        10.9|247.0|\n",
      "|26.0|                0.74|       686.0|    245.0|    220.5|           3.5|        3.0|         0.0|       11.19|247.0|\n",
      "|27.0|                0.74|       686.0|    245.0|    220.5|           3.5|        4.0|         0.0|       10.94|247.0|\n",
      "|28.0|                0.74|       686.0|    245.0|    220.5|           3.5|        5.0|         0.0|       11.17|247.0|\n",
      "|29.0|                0.71|       710.5|    269.5|    220.5|           3.5|        2.0|         0.0|       11.27|271.5|\n",
      "|30.0|                0.71|       710.5|    269.5|    220.5|           3.5|        3.0|         0.0|       11.72|271.5|\n",
      "|31.0|                0.71|       710.5|    269.5|    220.5|           3.5|        4.0|         0.0|       11.29|271.5|\n",
      "|32.0|                0.71|       710.5|    269.5|    220.5|           3.5|        5.0|         0.0|       11.67|271.5|\n",
      "|33.0|                0.69|       735.0|    294.0|    220.5|           3.5|        2.0|         0.0|       11.74|296.0|\n",
      "|34.0|                0.69|       735.0|    294.0|    220.5|           3.5|        3.0|         0.0|       12.05|296.0|\n",
      "|35.0|                0.69|       735.0|    294.0|    220.5|           3.5|        4.0|         0.0|       11.73|296.0|\n",
      "|36.0|                0.69|       735.0|    294.0|    220.5|           3.5|        5.0|         0.0|       11.93|296.0|\n",
      "|37.0|                0.66|       759.5|    318.5|    220.5|           3.5|        2.0|         0.0|        12.4|320.5|\n",
      "|38.0|                0.66|       759.5|    318.5|    220.5|           3.5|        3.0|         0.0|       12.23|320.5|\n",
      "|39.0|                0.66|       759.5|    318.5|    220.5|           3.5|        4.0|         0.0|        12.4|320.5|\n",
      "|40.0|                0.66|       759.5|    318.5|    220.5|           3.5|        5.0|         0.0|       12.14|320.5|\n",
      "|41.0|                0.64|       784.0|    343.0|    220.5|           3.5|        2.0|         0.0|       16.78|345.0|\n",
      "|42.0|                0.64|       784.0|    343.0|    220.5|           3.5|        3.0|         0.0|        16.8|345.0|\n",
      "|43.0|                0.64|       784.0|    343.0|    220.5|           3.5|        4.0|         0.0|       16.75|345.0|\n",
      "|44.0|                0.64|       784.0|    343.0|    220.5|           3.5|        5.0|         0.0|       16.67|345.0|\n",
      "+----+--------------------+------------+---------+---------+--------------+-----------+------------+------------+-----+\n",
      "only showing top 20 rows\n",
      "\n"
     ]
    }
   ],
   "source": [
    "#show result - only now will the SQL query be executed\n",
    "df_SQL.show()"
   ]
  },
  {
   "cell_type": "markdown",
   "metadata": {},
   "source": [
    "### Now we convert the result to a pandas dataframe. This action cause all the previous transformations (which have not yet been executed) to run beofre outputting the new pandas dataframe"
   ]
  },
  {
   "cell_type": "code",
   "execution_count": 44,
   "metadata": {},
   "outputs": [],
   "source": [
    "df_pd = df2.toPandas()"
   ]
  },
  {
   "cell_type": "markdown",
   "metadata": {},
   "source": [
    "### Alternately we could output the reuslt to a csv, this is also an action and will cause our transformation to be executed"
   ]
  },
  {
   "cell_type": "code",
   "execution_count": 45,
   "metadata": {},
   "outputs": [],
   "source": [
    "#this will write each partition of the data into a single csv ina folder called 'energy_data2'\n",
    "df2.write.csv(\"energy_data2\")"
   ]
  },
  {
   "cell_type": "code",
   "execution_count": 46,
   "metadata": {},
   "outputs": [],
   "source": [
    "#this will combine all partitioninto one file, and write a single csv in the folder call 'energy_data2_single'\n",
    "#beware if you are writing a large file - \n",
    "# all the data willbe sent to a single executor and might crash your spark sessiom\n",
    "\n",
    "df2.coalesce(1).write.csv(\"energy_data2_single\")"
   ]
  },
  {
   "cell_type": "markdown",
   "metadata": {},
   "source": [
    "### END"
   ]
  },
  {
   "cell_type": "code",
   "execution_count": 47,
   "metadata": {},
   "outputs": [],
   "source": [
    "spark.stop()"
   ]
  },
  {
   "cell_type": "code",
   "execution_count": null,
   "metadata": {},
   "outputs": [],
   "source": []
  }
 ],
 "metadata": {
  "kernelspec": {
   "display_name": "Python 3",
   "language": "python",
   "name": "python3"
  }
 },
 "nbformat": 4,
 "nbformat_minor": 2
}
